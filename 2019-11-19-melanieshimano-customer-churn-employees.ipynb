{
 "cells": [
  {
   "cell_type": "markdown",
   "metadata": {},
   "source": [
    "# Looking at Baltimore City Government \"Customer Churn\" "
   ]
  },
  {
   "cell_type": "markdown",
   "metadata": {},
   "source": [
    "Look at the \"churn\" of Baltimore City employees based on their employment time with Baltimore City government"
   ]
  },
  {
   "cell_type": "markdown",
   "metadata": {},
   "source": [
    "## import libraries "
   ]
  },
  {
   "cell_type": "code",
   "execution_count": 10,
   "metadata": {},
   "outputs": [],
   "source": [
    "import pandas as pd # for data analysis\n",
    "import numpy as np # for data analysis\n",
    "import plotly.express as px # to visualize data"
   ]
  },
  {
   "cell_type": "markdown",
   "metadata": {},
   "source": [
    "## import data "
   ]
  },
  {
   "cell_type": "code",
   "execution_count": 2,
   "metadata": {},
   "outputs": [],
   "source": [
    "# baltimore city salary data aggregated \n",
    "df = pd.read_csv(\"total_bmore_city_salaries_2011_2019.csv\")"
   ]
  },
  {
   "cell_type": "code",
   "execution_count": 3,
   "metadata": {},
   "outputs": [
    {
     "data": {
      "text/html": [
       "<div>\n",
       "<style scoped>\n",
       "    .dataframe tbody tr th:only-of-type {\n",
       "        vertical-align: middle;\n",
       "    }\n",
       "\n",
       "    .dataframe tbody tr th {\n",
       "        vertical-align: top;\n",
       "    }\n",
       "\n",
       "    .dataframe thead th {\n",
       "        text-align: right;\n",
       "    }\n",
       "</style>\n",
       "<table border=\"1\" class=\"dataframe\">\n",
       "  <thead>\n",
       "    <tr style=\"text-align: right;\">\n",
       "      <th></th>\n",
       "      <th>employee_name</th>\n",
       "      <th>jobtitle</th>\n",
       "      <th>deptid</th>\n",
       "      <th>dept_name</th>\n",
       "      <th>hire_dt</th>\n",
       "      <th>annual_rt</th>\n",
       "      <th>gross</th>\n",
       "      <th>fiscal_year</th>\n",
       "      <th>years_in_gov</th>\n",
       "    </tr>\n",
       "  </thead>\n",
       "  <tbody>\n",
       "    <tr>\n",
       "      <th>0</th>\n",
       "      <td>Aaron,Patricia G</td>\n",
       "      <td>Facilities/Office Services II</td>\n",
       "      <td>A03031</td>\n",
       "      <td>OED-Employment Dev</td>\n",
       "      <td>1979-10-24</td>\n",
       "      <td>50845.0</td>\n",
       "      <td>45505.94</td>\n",
       "      <td>2011</td>\n",
       "      <td>40.062412</td>\n",
       "    </tr>\n",
       "    <tr>\n",
       "      <th>1</th>\n",
       "      <td>Aaron,Petra L</td>\n",
       "      <td>ASSISTANT STATE'S ATTORNEY</td>\n",
       "      <td>A29005</td>\n",
       "      <td>States Attorneys Office</td>\n",
       "      <td>2006-09-25</td>\n",
       "      <td>56595.0</td>\n",
       "      <td>51588.89</td>\n",
       "      <td>2011</td>\n",
       "      <td>13.140573</td>\n",
       "    </tr>\n",
       "    <tr>\n",
       "      <th>2</th>\n",
       "      <td>Abaineh,Yohannes T</td>\n",
       "      <td>EPIDEMIOLOGIST</td>\n",
       "      <td>A65026</td>\n",
       "      <td>HLTH-Health Department</td>\n",
       "      <td>2009-07-23</td>\n",
       "      <td>56500.0</td>\n",
       "      <td>50633.26</td>\n",
       "      <td>2011</td>\n",
       "      <td>10.315053</td>\n",
       "    </tr>\n",
       "    <tr>\n",
       "      <th>3</th>\n",
       "      <td>Abdal-Rahim,Naim A</td>\n",
       "      <td>EMT Firefighter</td>\n",
       "      <td>A64063</td>\n",
       "      <td>Fire Academy Recruits</td>\n",
       "      <td>2011-03-30</td>\n",
       "      <td>33476.0</td>\n",
       "      <td>3888.95</td>\n",
       "      <td>2011</td>\n",
       "      <td>8.631240</td>\n",
       "    </tr>\n",
       "    <tr>\n",
       "      <th>4</th>\n",
       "      <td>Abdi,Ezekiel W</td>\n",
       "      <td>POLICE OFFICER</td>\n",
       "      <td>A99398</td>\n",
       "      <td>Police Department</td>\n",
       "      <td>2007-06-14</td>\n",
       "      <td>50919.0</td>\n",
       "      <td>51421.73</td>\n",
       "      <td>2011</td>\n",
       "      <td>12.423241</td>\n",
       "    </tr>\n",
       "  </tbody>\n",
       "</table>\n",
       "</div>"
      ],
      "text/plain": [
       "        employee_name                       jobtitle  deptid  \\\n",
       "0    Aaron,Patricia G  Facilities/Office Services II  A03031   \n",
       "1       Aaron,Petra L     ASSISTANT STATE'S ATTORNEY  A29005   \n",
       "2  Abaineh,Yohannes T                 EPIDEMIOLOGIST  A65026   \n",
       "3  Abdal-Rahim,Naim A                EMT Firefighter  A64063   \n",
       "4      Abdi,Ezekiel W                 POLICE OFFICER  A99398   \n",
       "\n",
       "                 dept_name     hire_dt  annual_rt     gross  fiscal_year  \\\n",
       "0       OED-Employment Dev  1979-10-24    50845.0  45505.94         2011   \n",
       "1  States Attorneys Office  2006-09-25    56595.0  51588.89         2011   \n",
       "2   HLTH-Health Department  2009-07-23    56500.0  50633.26         2011   \n",
       "3    Fire Academy Recruits  2011-03-30    33476.0   3888.95         2011   \n",
       "4        Police Department  2007-06-14    50919.0  51421.73         2011   \n",
       "\n",
       "   years_in_gov  \n",
       "0     40.062412  \n",
       "1     13.140573  \n",
       "2     10.315053  \n",
       "3      8.631240  \n",
       "4     12.423241  "
      ]
     },
     "execution_count": 3,
     "metadata": {},
     "output_type": "execute_result"
    }
   ],
   "source": [
    "# preview data\n",
    "df.head()"
   ]
  },
  {
   "cell_type": "markdown",
   "metadata": {},
   "source": [
    "## clean/reorganize data "
   ]
  },
  {
   "cell_type": "markdown",
   "metadata": {},
   "source": [
    "First, let's look at the general trend of employees in Baltimore City government over all of the available fiscal years."
   ]
  },
  {
   "cell_type": "code",
   "execution_count": 18,
   "metadata": {},
   "outputs": [],
   "source": [
    "# use plotly express to make a line graph of number of Baltimore City employee trends\n",
    "# but first, aggregate the data to count the number of employees in each fiscal year\n",
    "\n",
    "df_all_emp = df.groupby(\"fiscal_year\")[\"employee_name\"].agg([\"count\"]).reset_index()"
   ]
  },
  {
   "cell_type": "code",
   "execution_count": 19,
   "metadata": {},
   "outputs": [
    {
     "data": {
      "text/html": [
       "<div>\n",
       "<style scoped>\n",
       "    .dataframe tbody tr th:only-of-type {\n",
       "        vertical-align: middle;\n",
       "    }\n",
       "\n",
       "    .dataframe tbody tr th {\n",
       "        vertical-align: top;\n",
       "    }\n",
       "\n",
       "    .dataframe thead th {\n",
       "        text-align: right;\n",
       "    }\n",
       "</style>\n",
       "<table border=\"1\" class=\"dataframe\">\n",
       "  <thead>\n",
       "    <tr style=\"text-align: right;\">\n",
       "      <th></th>\n",
       "      <th>fiscal_year</th>\n",
       "      <th>count</th>\n",
       "    </tr>\n",
       "  </thead>\n",
       "  <tbody>\n",
       "    <tr>\n",
       "      <th>0</th>\n",
       "      <td>2011</td>\n",
       "      <td>14454</td>\n",
       "    </tr>\n",
       "    <tr>\n",
       "      <th>1</th>\n",
       "      <td>2012</td>\n",
       "      <td>16049</td>\n",
       "    </tr>\n",
       "    <tr>\n",
       "      <th>2</th>\n",
       "      <td>2013</td>\n",
       "      <td>19137</td>\n",
       "    </tr>\n",
       "    <tr>\n",
       "      <th>3</th>\n",
       "      <td>2014</td>\n",
       "      <td>18981</td>\n",
       "    </tr>\n",
       "    <tr>\n",
       "      <th>4</th>\n",
       "      <td>2015</td>\n",
       "      <td>14017</td>\n",
       "    </tr>\n",
       "    <tr>\n",
       "      <th>5</th>\n",
       "      <td>2016</td>\n",
       "      <td>13818</td>\n",
       "    </tr>\n",
       "    <tr>\n",
       "      <th>6</th>\n",
       "      <td>2017</td>\n",
       "      <td>13483</td>\n",
       "    </tr>\n",
       "    <tr>\n",
       "      <th>7</th>\n",
       "      <td>2018</td>\n",
       "      <td>13683</td>\n",
       "    </tr>\n",
       "    <tr>\n",
       "      <th>8</th>\n",
       "      <td>2019</td>\n",
       "      <td>13811</td>\n",
       "    </tr>\n",
       "  </tbody>\n",
       "</table>\n",
       "</div>"
      ],
      "text/plain": [
       "   fiscal_year  count\n",
       "0         2011  14454\n",
       "1         2012  16049\n",
       "2         2013  19137\n",
       "3         2014  18981\n",
       "4         2015  14017\n",
       "5         2016  13818\n",
       "6         2017  13483\n",
       "7         2018  13683\n",
       "8         2019  13811"
      ]
     },
     "execution_count": 19,
     "metadata": {},
     "output_type": "execute_result"
    }
   ],
   "source": [
    "# look at aggregated dataset\n",
    "df_all_emp"
   ]
  },
  {
   "cell_type": "code",
   "execution_count": 22,
   "metadata": {},
   "outputs": [],
   "source": [
    "# make line graph with plotly\n",
    "line_all_emp = px.line(df_all_emp,\n",
    "                      x = \"fiscal_year\",\n",
    "                      y = \"count\",\n",
    "                      title = \"Number of Baltimore City Government Employees Across Fiscal Years 2011-2019\")"
   ]
  },
  {
   "cell_type": "code",
   "execution_count": 23,
   "metadata": {},
   "outputs": [
    {
     "data": {
      "application/vnd.plotly.v1+json": {
       "config": {
        "plotlyServerURL": "http://type-here.com"
       },
       "data": [
        {
         "hoverlabel": {
          "namelength": 0
         },
         "hovertemplate": "fiscal_year=%{x}<br>count=%{y}",
         "legendgroup": "",
         "line": {
          "color": "#636efa",
          "dash": "solid"
         },
         "mode": "lines",
         "name": "",
         "showlegend": false,
         "type": "scatter",
         "x": [
          2011,
          2012,
          2013,
          2014,
          2015,
          2016,
          2017,
          2018,
          2019
         ],
         "xaxis": "x",
         "y": [
          14454,
          16049,
          19137,
          18981,
          14017,
          13818,
          13483,
          13683,
          13811
         ],
         "yaxis": "y"
        }
       ],
       "layout": {
        "autosize": true,
        "legend": {
         "tracegroupgap": 0
        },
        "template": {
         "data": {
          "bar": [
           {
            "error_x": {
             "color": "#2a3f5f"
            },
            "error_y": {
             "color": "#2a3f5f"
            },
            "marker": {
             "line": {
              "color": "#E5ECF6",
              "width": 0.5
             }
            },
            "type": "bar"
           }
          ],
          "barpolar": [
           {
            "marker": {
             "line": {
              "color": "#E5ECF6",
              "width": 0.5
             }
            },
            "type": "barpolar"
           }
          ],
          "carpet": [
           {
            "aaxis": {
             "endlinecolor": "#2a3f5f",
             "gridcolor": "white",
             "linecolor": "white",
             "minorgridcolor": "white",
             "startlinecolor": "#2a3f5f"
            },
            "baxis": {
             "endlinecolor": "#2a3f5f",
             "gridcolor": "white",
             "linecolor": "white",
             "minorgridcolor": "white",
             "startlinecolor": "#2a3f5f"
            },
            "type": "carpet"
           }
          ],
          "choropleth": [
           {
            "colorbar": {
             "outlinewidth": 0,
             "ticks": ""
            },
            "type": "choropleth"
           }
          ],
          "contour": [
           {
            "colorbar": {
             "outlinewidth": 0,
             "ticks": ""
            },
            "colorscale": [
             [
              0,
              "#0d0887"
             ],
             [
              0.1111111111111111,
              "#46039f"
             ],
             [
              0.2222222222222222,
              "#7201a8"
             ],
             [
              0.3333333333333333,
              "#9c179e"
             ],
             [
              0.4444444444444444,
              "#bd3786"
             ],
             [
              0.5555555555555556,
              "#d8576b"
             ],
             [
              0.6666666666666666,
              "#ed7953"
             ],
             [
              0.7777777777777778,
              "#fb9f3a"
             ],
             [
              0.8888888888888888,
              "#fdca26"
             ],
             [
              1,
              "#f0f921"
             ]
            ],
            "type": "contour"
           }
          ],
          "contourcarpet": [
           {
            "colorbar": {
             "outlinewidth": 0,
             "ticks": ""
            },
            "type": "contourcarpet"
           }
          ],
          "heatmap": [
           {
            "colorbar": {
             "outlinewidth": 0,
             "ticks": ""
            },
            "colorscale": [
             [
              0,
              "#0d0887"
             ],
             [
              0.1111111111111111,
              "#46039f"
             ],
             [
              0.2222222222222222,
              "#7201a8"
             ],
             [
              0.3333333333333333,
              "#9c179e"
             ],
             [
              0.4444444444444444,
              "#bd3786"
             ],
             [
              0.5555555555555556,
              "#d8576b"
             ],
             [
              0.6666666666666666,
              "#ed7953"
             ],
             [
              0.7777777777777778,
              "#fb9f3a"
             ],
             [
              0.8888888888888888,
              "#fdca26"
             ],
             [
              1,
              "#f0f921"
             ]
            ],
            "type": "heatmap"
           }
          ],
          "heatmapgl": [
           {
            "colorbar": {
             "outlinewidth": 0,
             "ticks": ""
            },
            "colorscale": [
             [
              0,
              "#0d0887"
             ],
             [
              0.1111111111111111,
              "#46039f"
             ],
             [
              0.2222222222222222,
              "#7201a8"
             ],
             [
              0.3333333333333333,
              "#9c179e"
             ],
             [
              0.4444444444444444,
              "#bd3786"
             ],
             [
              0.5555555555555556,
              "#d8576b"
             ],
             [
              0.6666666666666666,
              "#ed7953"
             ],
             [
              0.7777777777777778,
              "#fb9f3a"
             ],
             [
              0.8888888888888888,
              "#fdca26"
             ],
             [
              1,
              "#f0f921"
             ]
            ],
            "type": "heatmapgl"
           }
          ],
          "histogram": [
           {
            "marker": {
             "colorbar": {
              "outlinewidth": 0,
              "ticks": ""
             }
            },
            "type": "histogram"
           }
          ],
          "histogram2d": [
           {
            "colorbar": {
             "outlinewidth": 0,
             "ticks": ""
            },
            "colorscale": [
             [
              0,
              "#0d0887"
             ],
             [
              0.1111111111111111,
              "#46039f"
             ],
             [
              0.2222222222222222,
              "#7201a8"
             ],
             [
              0.3333333333333333,
              "#9c179e"
             ],
             [
              0.4444444444444444,
              "#bd3786"
             ],
             [
              0.5555555555555556,
              "#d8576b"
             ],
             [
              0.6666666666666666,
              "#ed7953"
             ],
             [
              0.7777777777777778,
              "#fb9f3a"
             ],
             [
              0.8888888888888888,
              "#fdca26"
             ],
             [
              1,
              "#f0f921"
             ]
            ],
            "type": "histogram2d"
           }
          ],
          "histogram2dcontour": [
           {
            "colorbar": {
             "outlinewidth": 0,
             "ticks": ""
            },
            "colorscale": [
             [
              0,
              "#0d0887"
             ],
             [
              0.1111111111111111,
              "#46039f"
             ],
             [
              0.2222222222222222,
              "#7201a8"
             ],
             [
              0.3333333333333333,
              "#9c179e"
             ],
             [
              0.4444444444444444,
              "#bd3786"
             ],
             [
              0.5555555555555556,
              "#d8576b"
             ],
             [
              0.6666666666666666,
              "#ed7953"
             ],
             [
              0.7777777777777778,
              "#fb9f3a"
             ],
             [
              0.8888888888888888,
              "#fdca26"
             ],
             [
              1,
              "#f0f921"
             ]
            ],
            "type": "histogram2dcontour"
           }
          ],
          "mesh3d": [
           {
            "colorbar": {
             "outlinewidth": 0,
             "ticks": ""
            },
            "type": "mesh3d"
           }
          ],
          "parcoords": [
           {
            "line": {
             "colorbar": {
              "outlinewidth": 0,
              "ticks": ""
             }
            },
            "type": "parcoords"
           }
          ],
          "scatter": [
           {
            "marker": {
             "colorbar": {
              "outlinewidth": 0,
              "ticks": ""
             }
            },
            "type": "scatter"
           }
          ],
          "scatter3d": [
           {
            "line": {
             "colorbar": {
              "outlinewidth": 0,
              "ticks": ""
             }
            },
            "marker": {
             "colorbar": {
              "outlinewidth": 0,
              "ticks": ""
             }
            },
            "type": "scatter3d"
           }
          ],
          "scattercarpet": [
           {
            "marker": {
             "colorbar": {
              "outlinewidth": 0,
              "ticks": ""
             }
            },
            "type": "scattercarpet"
           }
          ],
          "scattergeo": [
           {
            "marker": {
             "colorbar": {
              "outlinewidth": 0,
              "ticks": ""
             }
            },
            "type": "scattergeo"
           }
          ],
          "scattergl": [
           {
            "marker": {
             "colorbar": {
              "outlinewidth": 0,
              "ticks": ""
             }
            },
            "type": "scattergl"
           }
          ],
          "scattermapbox": [
           {
            "marker": {
             "colorbar": {
              "outlinewidth": 0,
              "ticks": ""
             }
            },
            "type": "scattermapbox"
           }
          ],
          "scatterpolar": [
           {
            "marker": {
             "colorbar": {
              "outlinewidth": 0,
              "ticks": ""
             }
            },
            "type": "scatterpolar"
           }
          ],
          "scatterpolargl": [
           {
            "marker": {
             "colorbar": {
              "outlinewidth": 0,
              "ticks": ""
             }
            },
            "type": "scatterpolargl"
           }
          ],
          "scatterternary": [
           {
            "marker": {
             "colorbar": {
              "outlinewidth": 0,
              "ticks": ""
             }
            },
            "type": "scatterternary"
           }
          ],
          "surface": [
           {
            "colorbar": {
             "outlinewidth": 0,
             "ticks": ""
            },
            "colorscale": [
             [
              0,
              "#0d0887"
             ],
             [
              0.1111111111111111,
              "#46039f"
             ],
             [
              0.2222222222222222,
              "#7201a8"
             ],
             [
              0.3333333333333333,
              "#9c179e"
             ],
             [
              0.4444444444444444,
              "#bd3786"
             ],
             [
              0.5555555555555556,
              "#d8576b"
             ],
             [
              0.6666666666666666,
              "#ed7953"
             ],
             [
              0.7777777777777778,
              "#fb9f3a"
             ],
             [
              0.8888888888888888,
              "#fdca26"
             ],
             [
              1,
              "#f0f921"
             ]
            ],
            "type": "surface"
           }
          ],
          "table": [
           {
            "cells": {
             "fill": {
              "color": "#EBF0F8"
             },
             "line": {
              "color": "white"
             }
            },
            "header": {
             "fill": {
              "color": "#C8D4E3"
             },
             "line": {
              "color": "white"
             }
            },
            "type": "table"
           }
          ]
         },
         "layout": {
          "annotationdefaults": {
           "arrowcolor": "#2a3f5f",
           "arrowhead": 0,
           "arrowwidth": 1
          },
          "colorscale": {
           "diverging": [
            [
             0,
             "#8e0152"
            ],
            [
             0.1,
             "#c51b7d"
            ],
            [
             0.2,
             "#de77ae"
            ],
            [
             0.3,
             "#f1b6da"
            ],
            [
             0.4,
             "#fde0ef"
            ],
            [
             0.5,
             "#f7f7f7"
            ],
            [
             0.6,
             "#e6f5d0"
            ],
            [
             0.7,
             "#b8e186"
            ],
            [
             0.8,
             "#7fbc41"
            ],
            [
             0.9,
             "#4d9221"
            ],
            [
             1,
             "#276419"
            ]
           ],
           "sequential": [
            [
             0,
             "#0d0887"
            ],
            [
             0.1111111111111111,
             "#46039f"
            ],
            [
             0.2222222222222222,
             "#7201a8"
            ],
            [
             0.3333333333333333,
             "#9c179e"
            ],
            [
             0.4444444444444444,
             "#bd3786"
            ],
            [
             0.5555555555555556,
             "#d8576b"
            ],
            [
             0.6666666666666666,
             "#ed7953"
            ],
            [
             0.7777777777777778,
             "#fb9f3a"
            ],
            [
             0.8888888888888888,
             "#fdca26"
            ],
            [
             1,
             "#f0f921"
            ]
           ],
           "sequentialminus": [
            [
             0,
             "#0d0887"
            ],
            [
             0.1111111111111111,
             "#46039f"
            ],
            [
             0.2222222222222222,
             "#7201a8"
            ],
            [
             0.3333333333333333,
             "#9c179e"
            ],
            [
             0.4444444444444444,
             "#bd3786"
            ],
            [
             0.5555555555555556,
             "#d8576b"
            ],
            [
             0.6666666666666666,
             "#ed7953"
            ],
            [
             0.7777777777777778,
             "#fb9f3a"
            ],
            [
             0.8888888888888888,
             "#fdca26"
            ],
            [
             1,
             "#f0f921"
            ]
           ]
          },
          "colorway": [
           "#636efa",
           "#EF553B",
           "#00cc96",
           "#ab63fa",
           "#FFA15A",
           "#19d3f3",
           "#FF6692",
           "#B6E880",
           "#FF97FF",
           "#FECB52"
          ],
          "font": {
           "color": "#2a3f5f"
          },
          "geo": {
           "bgcolor": "white",
           "lakecolor": "white",
           "landcolor": "#E5ECF6",
           "showlakes": true,
           "showland": true,
           "subunitcolor": "white"
          },
          "hoverlabel": {
           "align": "left"
          },
          "hovermode": "closest",
          "mapbox": {
           "style": "light"
          },
          "paper_bgcolor": "white",
          "plot_bgcolor": "#E5ECF6",
          "polar": {
           "angularaxis": {
            "gridcolor": "white",
            "linecolor": "white",
            "ticks": ""
           },
           "bgcolor": "#E5ECF6",
           "radialaxis": {
            "gridcolor": "white",
            "linecolor": "white",
            "ticks": ""
           }
          },
          "scene": {
           "xaxis": {
            "backgroundcolor": "#E5ECF6",
            "gridcolor": "white",
            "gridwidth": 2,
            "linecolor": "white",
            "showbackground": true,
            "ticks": "",
            "zerolinecolor": "white"
           },
           "yaxis": {
            "backgroundcolor": "#E5ECF6",
            "gridcolor": "white",
            "gridwidth": 2,
            "linecolor": "white",
            "showbackground": true,
            "ticks": "",
            "zerolinecolor": "white"
           },
           "zaxis": {
            "backgroundcolor": "#E5ECF6",
            "gridcolor": "white",
            "gridwidth": 2,
            "linecolor": "white",
            "showbackground": true,
            "ticks": "",
            "zerolinecolor": "white"
           }
          },
          "shapedefaults": {
           "line": {
            "color": "#2a3f5f"
           }
          },
          "ternary": {
           "aaxis": {
            "gridcolor": "white",
            "linecolor": "white",
            "ticks": ""
           },
           "baxis": {
            "gridcolor": "white",
            "linecolor": "white",
            "ticks": ""
           },
           "bgcolor": "#E5ECF6",
           "caxis": {
            "gridcolor": "white",
            "linecolor": "white",
            "ticks": ""
           }
          },
          "title": {
           "x": 0.05
          },
          "xaxis": {
           "automargin": true,
           "gridcolor": "white",
           "linecolor": "white",
           "ticks": "",
           "zerolinecolor": "white",
           "zerolinewidth": 2
          },
          "yaxis": {
           "automargin": true,
           "gridcolor": "white",
           "linecolor": "white",
           "ticks": "",
           "zerolinecolor": "white",
           "zerolinewidth": 2
          }
         }
        },
        "title": {
         "text": "Number of Baltimore City Government Employees Across Fiscal Years 2011-2019"
        },
        "xaxis": {
         "anchor": "y",
         "autorange": true,
         "domain": [
          0,
          0.98
         ],
         "range": [
          2011,
          2019
         ],
         "title": {
          "text": "fiscal_year"
         },
         "type": "linear"
        },
        "yaxis": {
         "anchor": "x",
         "autorange": true,
         "domain": [
          0,
          1
         ],
         "range": [
          13168.888888888889,
          19451.11111111111
         ],
         "title": {
          "text": "count"
         },
         "type": "linear"
        }
       }
      },
      "image/png": "[encoded data removed]",
      "text/html": [
       "<div>\n",
       "        \n",
       "        \n",
       "            <div id=\"38675218-2fcc-4ab8-93fa-c404da3ca6c5\" class=\"plotly-graph-div\" style=\"height:600px; width:100%;\"></div>\n",
       "            <script type=\"text/javascript\">\n",
       "                require([\"plotly\"], function(Plotly) {\n",
       "                    window.PLOTLYENV=window.PLOTLYENV || {};\n",
       "                    \n",
       "                if (document.getElementById(\"38675218-2fcc-4ab8-93fa-c404da3ca6c5\")) {\n",
       "                    Plotly.newPlot(\n",
       "                        '38675218-2fcc-4ab8-93fa-c404da3ca6c5',\n",
       "                        [{\"hoverlabel\": {\"namelength\": 0}, \"hovertemplate\": \"fiscal_year=%{x}<br>count=%{y}\", \"legendgroup\": \"\", \"line\": {\"color\": \"#636efa\", \"dash\": \"solid\"}, \"mode\": \"lines\", \"name\": \"\", \"showlegend\": false, \"type\": \"scatter\", \"x\": [2011, 2012, 2013, 2014, 2015, 2016, 2017, 2018, 2019], \"xaxis\": \"x\", \"y\": [14454, 16049, 19137, 18981, 14017, 13818, 13483, 13683, 13811], \"yaxis\": \"y\"}],\n",
       "                        {\"height\": 600, \"legend\": {\"tracegroupgap\": 0}, \"template\": {\"data\": {\"bar\": [{\"error_x\": {\"color\": \"#2a3f5f\"}, \"error_y\": {\"color\": \"#2a3f5f\"}, \"marker\": {\"line\": {\"color\": \"#E5ECF6\", \"width\": 0.5}}, \"type\": \"bar\"}], \"barpolar\": [{\"marker\": {\"line\": {\"color\": \"#E5ECF6\", \"width\": 0.5}}, \"type\": \"barpolar\"}], \"carpet\": [{\"aaxis\": {\"endlinecolor\": \"#2a3f5f\", \"gridcolor\": \"white\", \"linecolor\": \"white\", \"minorgridcolor\": \"white\", \"startlinecolor\": \"#2a3f5f\"}, \"baxis\": {\"endlinecolor\": \"#2a3f5f\", \"gridcolor\": \"white\", \"linecolor\": \"white\", \"minorgridcolor\": \"white\", \"startlinecolor\": \"#2a3f5f\"}, \"type\": \"carpet\"}], \"choropleth\": [{\"colorbar\": {\"outlinewidth\": 0, \"ticks\": \"\"}, \"type\": \"choropleth\"}], \"contour\": [{\"colorbar\": {\"outlinewidth\": 0, \"ticks\": \"\"}, \"colorscale\": [[0.0, \"#0d0887\"], [0.1111111111111111, \"#46039f\"], [0.2222222222222222, \"#7201a8\"], [0.3333333333333333, \"#9c179e\"], [0.4444444444444444, \"#bd3786\"], [0.5555555555555556, \"#d8576b\"], [0.6666666666666666, \"#ed7953\"], [0.7777777777777778, \"#fb9f3a\"], [0.8888888888888888, \"#fdca26\"], [1.0, \"#f0f921\"]], \"type\": \"contour\"}], \"contourcarpet\": [{\"colorbar\": {\"outlinewidth\": 0, \"ticks\": \"\"}, \"type\": \"contourcarpet\"}], \"heatmap\": [{\"colorbar\": {\"outlinewidth\": 0, \"ticks\": \"\"}, \"colorscale\": [[0.0, \"#0d0887\"], [0.1111111111111111, \"#46039f\"], [0.2222222222222222, \"#7201a8\"], [0.3333333333333333, \"#9c179e\"], [0.4444444444444444, \"#bd3786\"], [0.5555555555555556, \"#d8576b\"], [0.6666666666666666, \"#ed7953\"], [0.7777777777777778, \"#fb9f3a\"], [0.8888888888888888, \"#fdca26\"], [1.0, \"#f0f921\"]], \"type\": \"heatmap\"}], \"heatmapgl\": [{\"colorbar\": {\"outlinewidth\": 0, \"ticks\": \"\"}, \"colorscale\": [[0.0, \"#0d0887\"], [0.1111111111111111, \"#46039f\"], [0.2222222222222222, \"#7201a8\"], [0.3333333333333333, \"#9c179e\"], [0.4444444444444444, \"#bd3786\"], [0.5555555555555556, \"#d8576b\"], [0.6666666666666666, \"#ed7953\"], [0.7777777777777778, \"#fb9f3a\"], [0.8888888888888888, \"#fdca26\"], [1.0, \"#f0f921\"]], \"type\": \"heatmapgl\"}], \"histogram\": [{\"marker\": {\"colorbar\": {\"outlinewidth\": 0, \"ticks\": \"\"}}, \"type\": \"histogram\"}], \"histogram2d\": [{\"colorbar\": {\"outlinewidth\": 0, \"ticks\": \"\"}, \"colorscale\": [[0.0, \"#0d0887\"], [0.1111111111111111, \"#46039f\"], [0.2222222222222222, \"#7201a8\"], [0.3333333333333333, \"#9c179e\"], [0.4444444444444444, \"#bd3786\"], [0.5555555555555556, \"#d8576b\"], [0.6666666666666666, \"#ed7953\"], [0.7777777777777778, \"#fb9f3a\"], [0.8888888888888888, \"#fdca26\"], [1.0, \"#f0f921\"]], \"type\": \"histogram2d\"}], \"histogram2dcontour\": [{\"colorbar\": {\"outlinewidth\": 0, \"ticks\": \"\"}, \"colorscale\": [[0.0, \"#0d0887\"], [0.1111111111111111, \"#46039f\"], [0.2222222222222222, \"#7201a8\"], [0.3333333333333333, \"#9c179e\"], [0.4444444444444444, \"#bd3786\"], [0.5555555555555556, \"#d8576b\"], [0.6666666666666666, \"#ed7953\"], [0.7777777777777778, \"#fb9f3a\"], [0.8888888888888888, \"#fdca26\"], [1.0, \"#f0f921\"]], \"type\": \"histogram2dcontour\"}], \"mesh3d\": [{\"colorbar\": {\"outlinewidth\": 0, \"ticks\": \"\"}, \"type\": \"mesh3d\"}], \"parcoords\": [{\"line\": {\"colorbar\": {\"outlinewidth\": 0, \"ticks\": \"\"}}, \"type\": \"parcoords\"}], \"scatter\": [{\"marker\": {\"colorbar\": {\"outlinewidth\": 0, \"ticks\": \"\"}}, \"type\": \"scatter\"}], \"scatter3d\": [{\"line\": {\"colorbar\": {\"outlinewidth\": 0, \"ticks\": \"\"}}, \"marker\": {\"colorbar\": {\"outlinewidth\": 0, \"ticks\": \"\"}}, \"type\": \"scatter3d\"}], \"scattercarpet\": [{\"marker\": {\"colorbar\": {\"outlinewidth\": 0, \"ticks\": \"\"}}, \"type\": \"scattercarpet\"}], \"scattergeo\": [{\"marker\": {\"colorbar\": {\"outlinewidth\": 0, \"ticks\": \"\"}}, \"type\": \"scattergeo\"}], \"scattergl\": [{\"marker\": {\"colorbar\": {\"outlinewidth\": 0, \"ticks\": \"\"}}, \"type\": \"scattergl\"}], \"scattermapbox\": [{\"marker\": {\"colorbar\": {\"outlinewidth\": 0, \"ticks\": \"\"}}, \"type\": \"scattermapbox\"}], \"scatterpolar\": [{\"marker\": {\"colorbar\": {\"outlinewidth\": 0, \"ticks\": \"\"}}, \"type\": \"scatterpolar\"}], \"scatterpolargl\": [{\"marker\": {\"colorbar\": {\"outlinewidth\": 0, \"ticks\": \"\"}}, \"type\": \"scatterpolargl\"}], \"scatterternary\": [{\"marker\": {\"colorbar\": {\"outlinewidth\": 0, \"ticks\": \"\"}}, \"type\": \"scatterternary\"}], \"surface\": [{\"colorbar\": {\"outlinewidth\": 0, \"ticks\": \"\"}, \"colorscale\": [[0.0, \"#0d0887\"], [0.1111111111111111, \"#46039f\"], [0.2222222222222222, \"#7201a8\"], [0.3333333333333333, \"#9c179e\"], [0.4444444444444444, \"#bd3786\"], [0.5555555555555556, \"#d8576b\"], [0.6666666666666666, \"#ed7953\"], [0.7777777777777778, \"#fb9f3a\"], [0.8888888888888888, \"#fdca26\"], [1.0, \"#f0f921\"]], \"type\": \"surface\"}], \"table\": [{\"cells\": {\"fill\": {\"color\": \"#EBF0F8\"}, \"line\": {\"color\": \"white\"}}, \"header\": {\"fill\": {\"color\": \"#C8D4E3\"}, \"line\": {\"color\": \"white\"}}, \"type\": \"table\"}]}, \"layout\": {\"annotationdefaults\": {\"arrowcolor\": \"#2a3f5f\", \"arrowhead\": 0, \"arrowwidth\": 1}, \"colorscale\": {\"diverging\": [[0, \"#8e0152\"], [0.1, \"#c51b7d\"], [0.2, \"#de77ae\"], [0.3, \"#f1b6da\"], [0.4, \"#fde0ef\"], [0.5, \"#f7f7f7\"], [0.6, \"#e6f5d0\"], [0.7, \"#b8e186\"], [0.8, \"#7fbc41\"], [0.9, \"#4d9221\"], [1, \"#276419\"]], \"sequential\": [[0.0, \"#0d0887\"], [0.1111111111111111, \"#46039f\"], [0.2222222222222222, \"#7201a8\"], [0.3333333333333333, \"#9c179e\"], [0.4444444444444444, \"#bd3786\"], [0.5555555555555556, \"#d8576b\"], [0.6666666666666666, \"#ed7953\"], [0.7777777777777778, \"#fb9f3a\"], [0.8888888888888888, \"#fdca26\"], [1.0, \"#f0f921\"]], \"sequentialminus\": [[0.0, \"#0d0887\"], [0.1111111111111111, \"#46039f\"], [0.2222222222222222, \"#7201a8\"], [0.3333333333333333, \"#9c179e\"], [0.4444444444444444, \"#bd3786\"], [0.5555555555555556, \"#d8576b\"], [0.6666666666666666, \"#ed7953\"], [0.7777777777777778, \"#fb9f3a\"], [0.8888888888888888, \"#fdca26\"], [1.0, \"#f0f921\"]]}, \"colorway\": [\"#636efa\", \"#EF553B\", \"#00cc96\", \"#ab63fa\", \"#FFA15A\", \"#19d3f3\", \"#FF6692\", \"#B6E880\", \"#FF97FF\", \"#FECB52\"], \"font\": {\"color\": \"#2a3f5f\"}, \"geo\": {\"bgcolor\": \"white\", \"lakecolor\": \"white\", \"landcolor\": \"#E5ECF6\", \"showlakes\": true, \"showland\": true, \"subunitcolor\": \"white\"}, \"hoverlabel\": {\"align\": \"left\"}, \"hovermode\": \"closest\", \"mapbox\": {\"style\": \"light\"}, \"paper_bgcolor\": \"white\", \"plot_bgcolor\": \"#E5ECF6\", \"polar\": {\"angularaxis\": {\"gridcolor\": \"white\", \"linecolor\": \"white\", \"ticks\": \"\"}, \"bgcolor\": \"#E5ECF6\", \"radialaxis\": {\"gridcolor\": \"white\", \"linecolor\": \"white\", \"ticks\": \"\"}}, \"scene\": {\"xaxis\": {\"backgroundcolor\": \"#E5ECF6\", \"gridcolor\": \"white\", \"gridwidth\": 2, \"linecolor\": \"white\", \"showbackground\": true, \"ticks\": \"\", \"zerolinecolor\": \"white\"}, \"yaxis\": {\"backgroundcolor\": \"#E5ECF6\", \"gridcolor\": \"white\", \"gridwidth\": 2, \"linecolor\": \"white\", \"showbackground\": true, \"ticks\": \"\", \"zerolinecolor\": \"white\"}, \"zaxis\": {\"backgroundcolor\": \"#E5ECF6\", \"gridcolor\": \"white\", \"gridwidth\": 2, \"linecolor\": \"white\", \"showbackground\": true, \"ticks\": \"\", \"zerolinecolor\": \"white\"}}, \"shapedefaults\": {\"line\": {\"color\": \"#2a3f5f\"}}, \"ternary\": {\"aaxis\": {\"gridcolor\": \"white\", \"linecolor\": \"white\", \"ticks\": \"\"}, \"baxis\": {\"gridcolor\": \"white\", \"linecolor\": \"white\", \"ticks\": \"\"}, \"bgcolor\": \"#E5ECF6\", \"caxis\": {\"gridcolor\": \"white\", \"linecolor\": \"white\", \"ticks\": \"\"}}, \"title\": {\"x\": 0.05}, \"xaxis\": {\"automargin\": true, \"gridcolor\": \"white\", \"linecolor\": \"white\", \"ticks\": \"\", \"zerolinecolor\": \"white\", \"zerolinewidth\": 2}, \"yaxis\": {\"automargin\": true, \"gridcolor\": \"white\", \"linecolor\": \"white\", \"ticks\": \"\", \"zerolinecolor\": \"white\", \"zerolinewidth\": 2}}}, \"title\": {\"text\": \"Number of Baltimore City Government Employees Across Fiscal Years 2011-2019\"}, \"xaxis\": {\"anchor\": \"y\", \"domain\": [0.0, 0.98], \"title\": {\"text\": \"fiscal_year\"}}, \"yaxis\": {\"anchor\": \"x\", \"domain\": [0.0, 1.0], \"title\": {\"text\": \"count\"}}},\n",
       "                        {\"responsive\": true}\n",
       "                    ).then(function(){\n",
       "                            \n",
       "var gd = document.getElementById('38675218-2fcc-4ab8-93fa-c404da3ca6c5');\n",
       "var x = new MutationObserver(function (mutations, observer) {{\n",
       "        var display = window.getComputedStyle(gd).display;\n",
       "        if (!display || display === 'none') {{\n",
       "            console.log([gd, 'removed!']);\n",
       "            Plotly.purge(gd);\n",
       "            observer.disconnect();\n",
       "        }}\n",
       "}});\n",
       "\n",
       "// Listen for the removal of the full notebook cells\n",
       "var notebookContainer = gd.closest('#notebook-container');\n",
       "if (notebookContainer) {{\n",
       "    x.observe(notebookContainer, {childList: true});\n",
       "}}\n",
       "\n",
       "// Listen for the clearing of the current output cell\n",
       "var outputEl = gd.closest('.output');\n",
       "if (outputEl) {{\n",
       "    x.observe(outputEl, {childList: true});\n",
       "}}\n",
       "\n",
       "                        })\n",
       "                };\n",
       "                });\n",
       "            </script>\n",
       "        </div>"
      ]
     },
     "metadata": {},
     "output_type": "display_data"
    }
   ],
   "source": [
    "line_all_emp"
   ]
  },
  {
   "cell_type": "code",
   "execution_count": 41,
   "metadata": {},
   "outputs": [
    {
     "data": {
      "text/plain": [
       "['OED-Employment Dev',\n",
       " 'States Attorneys Office',\n",
       " 'HLTH-Health Department',\n",
       " 'Fire Academy Recruits',\n",
       " 'Police Department',\n",
       " 'Liquor License Board',\n",
       " 'Enoch Pratt Free Library',\n",
       " 'Housing & Community Dev',\n",
       " 'TRANS-Highways',\n",
       " 'TRANS-Traffic',\n",
       " 'DPW-Solid Waste',\n",
       " 'Fire Department',\n",
       " 'Circuit Court',\n",
       " 'DPW-Water & Waste Water',\n",
       " 'FIN-Collections',\n",
       " 'M-R Convention Center',\n",
       " 'TRANS-Crossing Guards',\n",
       " \"Sheriff's Office\",\n",
       " 'FIN-Purchasing',\n",
       " 'COMP-Communication Services',\n",
       " 'COMP-Audits',\n",
       " 'R&P-Parks',\n",
       " 'Youth Cust',\n",
       " 'R&P-Recreation',\n",
       " 'General Services',\n",
       " 'R&P-Administration',\n",
       " 'Legislative Reference',\n",
       " 'HR-Human Resources',\n",
       " 'FIN-Admin & Budgets',\n",
       " 'M-R Info Technology',\n",
       " 'TRANS-Towing',\n",
       " 'COMP-Real Estate',\n",
       " 'Youth Temp Adult',\n",
       " 'Law Department',\n",
       " 'City Council',\n",
       " 'FPR Admin',\n",
       " 'DPW-Administration',\n",
       " 'Elections',\n",
       " 'Community Relations',\n",
       " 'FIN-Acct & Payroll',\n",
       " 'Planning Department',\n",
       " \"COMP-Comptroller's Office\",\n",
       " 'Mayors Office',\n",
       " 'ERS/EOS Admin',\n",
       " 'M-R Environmental Cntrl',\n",
       " 'Council Services',\n",
       " 'TANF Cust',\n",
       " 'War Memorial Commission',\n",
       " 'HR-Test Monitor',\n",
       " 'M-R Labor Commissioner',\n",
       " 'HLTH-Emergency Medical Team',\n",
       " 'Special City Services',\n",
       " 'Municipal & Zoning Appeals 001',\n",
       " \"Mayor's Office\",\n",
       " 'Wage Commissioner',\n",
       " 'M-R Cable & Comm',\n",
       " \"Orphan's Court\",\n",
       " 'FIN-Risk Management Oper',\n",
       " 'HLTH-Heatlh Dept.',\n",
       " 'HLTH-Health Dept. Location 111',\n",
       " 'M-R Human Services',\n",
       " 'HLTH-Health Dept. Location 195',\n",
       " 'FIN-Treasury Mgt',\n",
       " 'HLTH-Health Dept. Location 116',\n",
       " 'Civil Rights & Wage Enforce',\n",
       " 'HLTH-Health Dept. Location 196',\n",
       " 'HLTH-Health Dept Location 198',\n",
       " 'HLTH-Health Dept. Location 117',\n",
       " 'HLTH-Health Dept. Location 114',\n",
       " 'HLTH-Health Dept. Location 113',\n",
       " 'HLTH-Health Dept. Location 199',\n",
       " 'TRANS-Cross Guard-Summer',\n",
       " 'HLTH-Heatlh Dept. Location 115',\n",
       " 'Youth Summer',\n",
       " 'OED-Participants-Youth Summer',\n",
       " 'COMP-Communication Ser',\n",
       " 'Municipal & Zoning Appeal',\n",
       " 'HLTH-Health Dept. Locatio',\n",
       " \"COMP-Comptroller's O\",\n",
       " 'HLTH-Heatlh',\n",
       " 'TRANS-Cross Guard-S',\n",
       " 'Civil Rights & Wage Enfor',\n",
       " 'HLTH-Health Dept Locatio',\n",
       " 'HLTH-Heatlh Dept. Locatio',\n",
       " 'Rep 01',\n",
       " 'Dem 01',\n",
       " 'FIN-RSP Admin',\n",
       " 'Una 01']"
      ]
     },
     "execution_count": 41,
     "metadata": {},
     "output_type": "execute_result"
    }
   ],
   "source": [
    "# look at all unique department names:\n",
    "df[\"dept_name\"].unique().tolist()"
   ]
  },
  {
   "cell_type": "code",
   "execution_count": 40,
   "metadata": {},
   "outputs": [],
   "source": [
    "# some of these names are not grouped together because there extra spaces in the title \n",
    "# or because there are different sub-categories of departments\n",
    "\n",
    "# first, we'll strip the department names to remove unnecessary spaces\n",
    "df[\"dept_name\"] = df[\"dept_name\"].str.strip()"
   ]
  },
  {
   "cell_type": "code",
   "execution_count": 43,
   "metadata": {},
   "outputs": [],
   "source": [
    "# now, let's combine the subcategories of the departments so that we get a more hollistic view of departmental changes and size\n",
    "# we see that [\"HLTH\", \"COMP\", \"TRANS\", \"FIN\", \"DPW\", \"R&P\"] all have subcategories,\n",
    "# so we'll write a function to keep only the capital abreviation of the department name\n",
    "\n",
    "# items we want to group together\n",
    "subcategories = [\"HLTH\", \"COMP\", \"TRANS\", \"FIN\", \"DPW\", \"R&P\"]\n",
    "\n",
    "# join the list with a pipe to indicate an \"or\" when we write our action later\n",
    "joined_sub = \"|\".join(subcategories) "
   ]
  },
  {
   "cell_type": "code",
   "execution_count": 44,
   "metadata": {},
   "outputs": [
    {
     "data": {
      "text/plain": [
       "'HLTH|COMP|TRANS|FIN|DPW|R&P'"
      ]
     },
     "execution_count": 44,
     "metadata": {},
     "output_type": "execute_result"
    }
   ],
   "source": [
    "# our joined list looks this\n",
    "# and reads as \"HLTH OR COMP OR TRANS OR FIN OR DPW OR R&P\"\n",
    "joined_sub"
   ]
  },
  {
   "cell_type": "code",
   "execution_count": 46,
   "metadata": {},
   "outputs": [],
   "source": [
    "# \"redefine\" department name using np.where, which is similar to an Excel IF statement\n",
    "# format: np.where(condition, value if true, value if false)\n",
    "\n",
    "df[\"dept_name\"] = np.where(df[\"dept_name\"].str.contains(joined_sub), # condition is if the value in \"dept_name\" is in the list\n",
    "                           df[\"dept_name\"].str.split(\"-\", expand = True)[0], # if it's in the list, keep only the CAPS letters\n",
    "                          df[\"dept_name\"]) #if it's false, keep the original dept name"
   ]
  },
  {
   "cell_type": "code",
   "execution_count": 47,
   "metadata": {},
   "outputs": [
    {
     "data": {
      "text/html": [
       "<div>\n",
       "<style scoped>\n",
       "    .dataframe tbody tr th:only-of-type {\n",
       "        vertical-align: middle;\n",
       "    }\n",
       "\n",
       "    .dataframe tbody tr th {\n",
       "        vertical-align: top;\n",
       "    }\n",
       "\n",
       "    .dataframe thead th {\n",
       "        text-align: right;\n",
       "    }\n",
       "</style>\n",
       "<table border=\"1\" class=\"dataframe\">\n",
       "  <thead>\n",
       "    <tr style=\"text-align: right;\">\n",
       "      <th></th>\n",
       "      <th>employee_name</th>\n",
       "      <th>jobtitle</th>\n",
       "      <th>deptid</th>\n",
       "      <th>dept_name</th>\n",
       "      <th>hire_dt</th>\n",
       "      <th>annual_rt</th>\n",
       "      <th>gross</th>\n",
       "      <th>fiscal_year</th>\n",
       "      <th>years_in_gov</th>\n",
       "    </tr>\n",
       "  </thead>\n",
       "  <tbody>\n",
       "    <tr>\n",
       "      <th>0</th>\n",
       "      <td>Aaron,Patricia G</td>\n",
       "      <td>Facilities/Office Services II</td>\n",
       "      <td>A03031</td>\n",
       "      <td>OED-Employment Dev</td>\n",
       "      <td>1979-10-24</td>\n",
       "      <td>50845.0</td>\n",
       "      <td>45505.94</td>\n",
       "      <td>2011</td>\n",
       "      <td>40.062412</td>\n",
       "    </tr>\n",
       "    <tr>\n",
       "      <th>1</th>\n",
       "      <td>Aaron,Petra L</td>\n",
       "      <td>ASSISTANT STATE'S ATTORNEY</td>\n",
       "      <td>A29005</td>\n",
       "      <td>States Attorneys Office</td>\n",
       "      <td>2006-09-25</td>\n",
       "      <td>56595.0</td>\n",
       "      <td>51588.89</td>\n",
       "      <td>2011</td>\n",
       "      <td>13.140573</td>\n",
       "    </tr>\n",
       "    <tr>\n",
       "      <th>2</th>\n",
       "      <td>Abaineh,Yohannes T</td>\n",
       "      <td>EPIDEMIOLOGIST</td>\n",
       "      <td>A65026</td>\n",
       "      <td>HLTH</td>\n",
       "      <td>2009-07-23</td>\n",
       "      <td>56500.0</td>\n",
       "      <td>50633.26</td>\n",
       "      <td>2011</td>\n",
       "      <td>10.315053</td>\n",
       "    </tr>\n",
       "    <tr>\n",
       "      <th>3</th>\n",
       "      <td>Abdal-Rahim,Naim A</td>\n",
       "      <td>EMT Firefighter</td>\n",
       "      <td>A64063</td>\n",
       "      <td>Fire Academy Recruits</td>\n",
       "      <td>2011-03-30</td>\n",
       "      <td>33476.0</td>\n",
       "      <td>3888.95</td>\n",
       "      <td>2011</td>\n",
       "      <td>8.631240</td>\n",
       "    </tr>\n",
       "    <tr>\n",
       "      <th>4</th>\n",
       "      <td>Abdi,Ezekiel W</td>\n",
       "      <td>POLICE OFFICER</td>\n",
       "      <td>A99398</td>\n",
       "      <td>Police Department</td>\n",
       "      <td>2007-06-14</td>\n",
       "      <td>50919.0</td>\n",
       "      <td>51421.73</td>\n",
       "      <td>2011</td>\n",
       "      <td>12.423241</td>\n",
       "    </tr>\n",
       "    <tr>\n",
       "      <th>5</th>\n",
       "      <td>Abdul Hamid,Umar</td>\n",
       "      <td>LIQUOR BOARD INSPECTOR II</td>\n",
       "      <td>A09001</td>\n",
       "      <td>Liquor License Board</td>\n",
       "      <td>1995-01-17</td>\n",
       "      <td>43278.0</td>\n",
       "      <td>39116.93</td>\n",
       "      <td>2011</td>\n",
       "      <td>24.828698</td>\n",
       "    </tr>\n",
       "    <tr>\n",
       "      <th>6</th>\n",
       "      <td>Abdul Saboor,Jamillah</td>\n",
       "      <td>OFFICE ASST II</td>\n",
       "      <td>A75067</td>\n",
       "      <td>Enoch Pratt Free Library</td>\n",
       "      <td>2009-07-27</td>\n",
       "      <td>26388.0</td>\n",
       "      <td>23758.19</td>\n",
       "      <td>2011</td>\n",
       "      <td>10.304101</td>\n",
       "    </tr>\n",
       "    <tr>\n",
       "      <th>7</th>\n",
       "      <td>Abdul-Jabbar,Bushra A</td>\n",
       "      <td>SOCIAL SERVICES COORDINATOR</td>\n",
       "      <td>A65201</td>\n",
       "      <td>HLTH</td>\n",
       "      <td>2008-04-14</td>\n",
       "      <td>38582.0</td>\n",
       "      <td>31096.45</td>\n",
       "      <td>2011</td>\n",
       "      <td>11.588179</td>\n",
       "    </tr>\n",
       "    <tr>\n",
       "      <th>8</th>\n",
       "      <td>Abdullah,Beverly A</td>\n",
       "      <td>TYPIST III</td>\n",
       "      <td>A06004</td>\n",
       "      <td>Housing &amp; Community Dev</td>\n",
       "      <td>1986-12-01</td>\n",
       "      <td>34453.0</td>\n",
       "      <td>31273.03</td>\n",
       "      <td>2011</td>\n",
       "      <td>32.957544</td>\n",
       "    </tr>\n",
       "    <tr>\n",
       "      <th>9</th>\n",
       "      <td>Abdullahi,Sharon M</td>\n",
       "      <td>911 OPERATOR</td>\n",
       "      <td>A99371</td>\n",
       "      <td>Police Department</td>\n",
       "      <td>2004-06-10</td>\n",
       "      <td>37677.0</td>\n",
       "      <td>36844.61</td>\n",
       "      <td>2011</td>\n",
       "      <td>15.432201</td>\n",
       "    </tr>\n",
       "  </tbody>\n",
       "</table>\n",
       "</div>"
      ],
      "text/plain": [
       "           employee_name                       jobtitle  deptid  \\\n",
       "0       Aaron,Patricia G  Facilities/Office Services II  A03031   \n",
       "1          Aaron,Petra L     ASSISTANT STATE'S ATTORNEY  A29005   \n",
       "2     Abaineh,Yohannes T                 EPIDEMIOLOGIST  A65026   \n",
       "3     Abdal-Rahim,Naim A                EMT Firefighter  A64063   \n",
       "4         Abdi,Ezekiel W                 POLICE OFFICER  A99398   \n",
       "5       Abdul Hamid,Umar      LIQUOR BOARD INSPECTOR II  A09001   \n",
       "6  Abdul Saboor,Jamillah                 OFFICE ASST II  A75067   \n",
       "7  Abdul-Jabbar,Bushra A    SOCIAL SERVICES COORDINATOR  A65201   \n",
       "8     Abdullah,Beverly A                     TYPIST III  A06004   \n",
       "9     Abdullahi,Sharon M                   911 OPERATOR  A99371   \n",
       "\n",
       "                  dept_name     hire_dt  annual_rt     gross  fiscal_year  \\\n",
       "0        OED-Employment Dev  1979-10-24    50845.0  45505.94         2011   \n",
       "1   States Attorneys Office  2006-09-25    56595.0  51588.89         2011   \n",
       "2                      HLTH  2009-07-23    56500.0  50633.26         2011   \n",
       "3     Fire Academy Recruits  2011-03-30    33476.0   3888.95         2011   \n",
       "4         Police Department  2007-06-14    50919.0  51421.73         2011   \n",
       "5      Liquor License Board  1995-01-17    43278.0  39116.93         2011   \n",
       "6  Enoch Pratt Free Library  2009-07-27    26388.0  23758.19         2011   \n",
       "7                      HLTH  2008-04-14    38582.0  31096.45         2011   \n",
       "8   Housing & Community Dev  1986-12-01    34453.0  31273.03         2011   \n",
       "9         Police Department  2004-06-10    37677.0  36844.61         2011   \n",
       "\n",
       "   years_in_gov  \n",
       "0     40.062412  \n",
       "1     13.140573  \n",
       "2     10.315053  \n",
       "3      8.631240  \n",
       "4     12.423241  \n",
       "5     24.828698  \n",
       "6     10.304101  \n",
       "7     11.588179  \n",
       "8     32.957544  \n",
       "9     15.432201  "
      ]
     },
     "execution_count": 47,
     "metadata": {},
     "output_type": "execute_result"
    }
   ],
   "source": [
    "# preview our revised dataset\n",
    "# notice that HLTH is now only HLTH\n",
    "df.head(10)"
   ]
  },
  {
   "cell_type": "code",
   "execution_count": 48,
   "metadata": {},
   "outputs": [],
   "source": [
    "# we also want to fix the \"Mayors Office\" vs \"Mayor's Office\" difference\n",
    "# we'll change all mayor's office to \"Mayors Office\"\n",
    "\n",
    "df[\"dept_name\"] = np.where(df[\"dept_name\"] == \"Mayor's Office\", # if value equals \"Mayor's Office\"\n",
    "                          \"Mayors Office\", # change to \"Mayors Office\"\n",
    "                          df[\"dept_name\"]) # otherwise, keep the same"
   ]
  },
  {
   "cell_type": "code",
   "execution_count": 50,
   "metadata": {},
   "outputs": [
    {
     "data": {
      "text/plain": [
       "['OED-Employment Dev',\n",
       " 'States Attorneys Office',\n",
       " 'HLTH',\n",
       " 'Fire Academy Recruits',\n",
       " 'Police Department',\n",
       " 'Liquor License Board',\n",
       " 'Enoch Pratt Free Library',\n",
       " 'Housing & Community Dev',\n",
       " 'TRANS',\n",
       " 'DPW',\n",
       " 'Fire Department',\n",
       " 'Circuit Court',\n",
       " 'FIN',\n",
       " 'M-R Convention Center',\n",
       " \"Sheriff's Office\",\n",
       " 'COMP',\n",
       " 'R&P',\n",
       " 'Youth Cust',\n",
       " 'General Services',\n",
       " 'Legislative Reference',\n",
       " 'HR-Human Resources',\n",
       " 'M-R Info Technology',\n",
       " 'Youth Temp Adult',\n",
       " 'Law Department',\n",
       " 'City Council',\n",
       " 'FPR Admin',\n",
       " 'Elections',\n",
       " 'Community Relations',\n",
       " 'Planning Department',\n",
       " 'Mayors Office',\n",
       " 'ERS/EOS Admin',\n",
       " 'M-R Environmental Cntrl',\n",
       " 'Council Services',\n",
       " 'TANF Cust',\n",
       " 'War Memorial Commission',\n",
       " 'HR-Test Monitor',\n",
       " 'M-R Labor Commissioner',\n",
       " 'Special City Services',\n",
       " 'Municipal & Zoning Appeals 001',\n",
       " 'Wage Commissioner',\n",
       " 'M-R Cable & Comm',\n",
       " \"Orphan's Court\",\n",
       " 'M-R Human Services',\n",
       " 'Civil Rights & Wage Enforce',\n",
       " 'Youth Summer',\n",
       " 'OED-Participants-Youth Summer',\n",
       " 'Municipal & Zoning Appeal',\n",
       " 'Civil Rights & Wage Enfor',\n",
       " 'Rep 01',\n",
       " 'Dem 01',\n",
       " 'Una 01']"
      ]
     },
     "execution_count": 50,
     "metadata": {},
     "output_type": "execute_result"
    }
   ],
   "source": [
    "# look at the unique departments now\n",
    "df[\"dept_name\"].unique().tolist()"
   ]
  },
  {
   "cell_type": "code",
   "execution_count": 56,
   "metadata": {},
   "outputs": [],
   "source": [
    "# we'll export this cleaned dataset as a csv to work with later\n",
    "df.to_csv(\"baltimore_salaries_2011_2019_agg_dept.csv\")"
   ]
  },
  {
   "cell_type": "code",
   "execution_count": 51,
   "metadata": {},
   "outputs": [
    {
     "data": {
      "text/plain": [
       "51"
      ]
     },
     "execution_count": 51,
     "metadata": {},
     "output_type": "execute_result"
    }
   ],
   "source": [
    "# how many unique departments are there?\n",
    "df[\"dept_name\"].nunique()"
   ]
  },
  {
   "cell_type": "code",
   "execution_count": 52,
   "metadata": {},
   "outputs": [],
   "source": [
    "# there seems to be some organizational change in 2015\n",
    "# let's look at the trends of number of employees per department over the fiscal years\n",
    "# first, we'll create a new aggregated dataset\n",
    "\n",
    "df_dept_count = df.groupby([\"fiscal_year\", \"dept_name\"])[\"employee_name\"].agg([\"count\"]).reset_index()"
   ]
  },
  {
   "cell_type": "code",
   "execution_count": 53,
   "metadata": {},
   "outputs": [
    {
     "data": {
      "text/html": [
       "<div>\n",
       "<style scoped>\n",
       "    .dataframe tbody tr th:only-of-type {\n",
       "        vertical-align: middle;\n",
       "    }\n",
       "\n",
       "    .dataframe tbody tr th {\n",
       "        vertical-align: top;\n",
       "    }\n",
       "\n",
       "    .dataframe thead th {\n",
       "        text-align: right;\n",
       "    }\n",
       "</style>\n",
       "<table border=\"1\" class=\"dataframe\">\n",
       "  <thead>\n",
       "    <tr style=\"text-align: right;\">\n",
       "      <th></th>\n",
       "      <th>fiscal_year</th>\n",
       "      <th>dept_name</th>\n",
       "      <th>count</th>\n",
       "    </tr>\n",
       "  </thead>\n",
       "  <tbody>\n",
       "    <tr>\n",
       "      <th>0</th>\n",
       "      <td>2011</td>\n",
       "      <td>COMP</td>\n",
       "      <td>91</td>\n",
       "    </tr>\n",
       "    <tr>\n",
       "      <th>1</th>\n",
       "      <td>2011</td>\n",
       "      <td>Circuit Court</td>\n",
       "      <td>154</td>\n",
       "    </tr>\n",
       "    <tr>\n",
       "      <th>2</th>\n",
       "      <td>2011</td>\n",
       "      <td>City Council</td>\n",
       "      <td>88</td>\n",
       "    </tr>\n",
       "    <tr>\n",
       "      <th>3</th>\n",
       "      <td>2011</td>\n",
       "      <td>Community Relations</td>\n",
       "      <td>10</td>\n",
       "    </tr>\n",
       "    <tr>\n",
       "      <th>4</th>\n",
       "      <td>2011</td>\n",
       "      <td>Council Services</td>\n",
       "      <td>5</td>\n",
       "    </tr>\n",
       "    <tr>\n",
       "      <th>5</th>\n",
       "      <td>2011</td>\n",
       "      <td>DPW</td>\n",
       "      <td>2356</td>\n",
       "    </tr>\n",
       "    <tr>\n",
       "      <th>6</th>\n",
       "      <td>2011</td>\n",
       "      <td>ERS/EOS Admin</td>\n",
       "      <td>27</td>\n",
       "    </tr>\n",
       "    <tr>\n",
       "      <th>7</th>\n",
       "      <td>2011</td>\n",
       "      <td>Elections</td>\n",
       "      <td>6</td>\n",
       "    </tr>\n",
       "    <tr>\n",
       "      <th>8</th>\n",
       "      <td>2011</td>\n",
       "      <td>Enoch Pratt Free Library</td>\n",
       "      <td>442</td>\n",
       "    </tr>\n",
       "    <tr>\n",
       "      <th>9</th>\n",
       "      <td>2011</td>\n",
       "      <td>FIN</td>\n",
       "      <td>265</td>\n",
       "    </tr>\n",
       "  </tbody>\n",
       "</table>\n",
       "</div>"
      ],
      "text/plain": [
       "   fiscal_year                 dept_name  count\n",
       "0         2011                      COMP     91\n",
       "1         2011             Circuit Court    154\n",
       "2         2011              City Council     88\n",
       "3         2011       Community Relations     10\n",
       "4         2011          Council Services      5\n",
       "5         2011                       DPW   2356\n",
       "6         2011             ERS/EOS Admin     27\n",
       "7         2011                 Elections      6\n",
       "8         2011  Enoch Pratt Free Library    442\n",
       "9         2011                       FIN    265"
      ]
     },
     "execution_count": 53,
     "metadata": {},
     "output_type": "execute_result"
    }
   ],
   "source": [
    "# preview data\n",
    "df_dept_count.head(10)"
   ]
  },
  {
   "cell_type": "code",
   "execution_count": 65,
   "metadata": {},
   "outputs": [],
   "source": [
    "# make a plotly chart to look at all of the departments on the same graph\n",
    "line_dept = px.line(df_dept_count,\n",
    "                   x= \"fiscal_year\",\n",
    "                   y = \"count\", \n",
    "                   color = \"dept_name\",\n",
    "                   title = \"Number of Employees in Baltimore City Government Departments in Fiscal Years 2011-2019\",\n",
    "                   #range_y = [0, 200]\n",
    "                   )"
   ]
  },
  {
   "cell_type": "code",
   "execution_count": 66,
   "metadata": {},
   "outputs": [
    {
     "data": {
      "application/vnd.plotly.v1+json": {
       "config": {
        "plotlyServerURL": "http://type-here.com"
       },
       "data": [
        {
         "hoverlabel": {
          "namelength": 0
         },
         "hovertemplate": "dept_name=COMP<br>fiscal_year=%{x}<br>count=%{y}",
         "legendgroup": "dept_name=COMP",
         "line": {
          "color": "#636efa",
          "dash": "solid"
         },
         "mode": "lines",
         "name": "dept_name=COMP",
         "showlegend": true,
         "type": "scatter",
         "x": [
          2011,
          2012,
          2013,
          2014,
          2015,
          2016,
          2017,
          2018,
          2019
         ],
         "xaxis": "x",
         "y": [
          91,
          86,
          95,
          90,
          91,
          87,
          95,
          86,
          87
         ],
         "yaxis": "y"
        },
        {
         "hoverlabel": {
          "namelength": 0
         },
         "hovertemplate": "dept_name=Circuit Court<br>fiscal_year=%{x}<br>count=%{y}",
         "legendgroup": "dept_name=Circuit Court",
         "line": {
          "color": "#EF553B",
          "dash": "solid"
         },
         "mode": "lines",
         "name": "dept_name=Circuit Court",
         "showlegend": true,
         "type": "scatter",
         "x": [
          2011,
          2012,
          2013,
          2014,
          2015,
          2016,
          2017,
          2018,
          2019
         ],
         "xaxis": "x",
         "y": [
          154,
          149,
          139,
          140,
          141,
          137,
          136,
          133,
          131
         ],
         "yaxis": "y"
        },
        {
         "hoverlabel": {
          "namelength": 0
         },
         "hovertemplate": "dept_name=City Council<br>fiscal_year=%{x}<br>count=%{y}",
         "legendgroup": "dept_name=City Council",
         "line": {
          "color": "#00cc96",
          "dash": "solid"
         },
         "mode": "lines",
         "name": "dept_name=City Council",
         "showlegend": true,
         "type": "scatter",
         "x": [
          2011,
          2012,
          2013,
          2014,
          2015,
          2016,
          2017,
          2018,
          2019
         ],
         "xaxis": "x",
         "y": [
          88,
          90,
          87,
          93,
          96,
          90,
          86,
          91,
          85
         ],
         "yaxis": "y"
        },
        {
         "hoverlabel": {
          "namelength": 0
         },
         "hovertemplate": "dept_name=Community Relations<br>fiscal_year=%{x}<br>count=%{y}",
         "legendgroup": "dept_name=Community Relations",
         "line": {
          "color": "#ab63fa",
          "dash": "solid"
         },
         "mode": "lines",
         "name": "dept_name=Community Relations",
         "showlegend": true,
         "type": "scatter",
         "x": [
          2011,
          2012
         ],
         "xaxis": "x",
         "y": [
          10,
          12
         ],
         "yaxis": "y"
        },
        {
         "hoverlabel": {
          "namelength": 0
         },
         "hovertemplate": "dept_name=Council Services<br>fiscal_year=%{x}<br>count=%{y}",
         "legendgroup": "dept_name=Council Services",
         "line": {
          "color": "#FFA15A",
          "dash": "solid"
         },
         "mode": "lines",
         "name": "dept_name=Council Services",
         "showlegend": true,
         "type": "scatter",
         "x": [
          2011,
          2012,
          2013,
          2014,
          2015,
          2016,
          2017,
          2018,
          2019
         ],
         "xaxis": "x",
         "y": [
          5,
          6,
          6,
          6,
          6,
          6,
          5,
          6,
          6
         ],
         "yaxis": "y"
        },
        {
         "hoverlabel": {
          "namelength": 0
         },
         "hovertemplate": "dept_name=DPW<br>fiscal_year=%{x}<br>count=%{y}",
         "legendgroup": "dept_name=DPW",
         "line": {
          "color": "#19d3f3",
          "dash": "solid"
         },
         "mode": "lines",
         "name": "dept_name=DPW",
         "showlegend": true,
         "type": "scatter",
         "x": [
          2011,
          2012,
          2013,
          2014,
          2015,
          2016,
          2017,
          2018,
          2019
         ],
         "xaxis": "x",
         "y": [
          2356,
          2327,
          2332,
          2337,
          2369,
          2354,
          2344,
          2319,
          2314
         ],
         "yaxis": "y"
        },
        {
         "hoverlabel": {
          "namelength": 0
         },
         "hovertemplate": "dept_name=ERS/EOS Admin<br>fiscal_year=%{x}<br>count=%{y}",
         "legendgroup": "dept_name=ERS/EOS Admin",
         "line": {
          "color": "#FF6692",
          "dash": "solid"
         },
         "mode": "lines",
         "name": "dept_name=ERS/EOS Admin",
         "showlegend": true,
         "type": "scatter",
         "x": [
          2011,
          2012,
          2013,
          2014,
          2015,
          2016,
          2017,
          2018,
          2019
         ],
         "xaxis": "x",
         "y": [
          27,
          28,
          29,
          33,
          32,
          31,
          32,
          31,
          32
         ],
         "yaxis": "y"
        },
        {
         "hoverlabel": {
          "namelength": 0
         },
         "hovertemplate": "dept_name=Elections<br>fiscal_year=%{x}<br>count=%{y}",
         "legendgroup": "dept_name=Elections",
         "line": {
          "color": "#B6E880",
          "dash": "solid"
         },
         "mode": "lines",
         "name": "dept_name=Elections",
         "showlegend": true,
         "type": "scatter",
         "x": [
          2011,
          2012,
          2013,
          2014,
          2015,
          2016,
          2017,
          2018,
          2019
         ],
         "xaxis": "x",
         "y": [
          6,
          11,
          8,
          8,
          8,
          11,
          5,
          5,
          6
         ],
         "yaxis": "y"
        },
        {
         "hoverlabel": {
          "namelength": 0
         },
         "hovertemplate": "dept_name=Enoch Pratt Free Library<br>fiscal_year=%{x}<br>count=%{y}",
         "legendgroup": "dept_name=Enoch Pratt Free Library",
         "line": {
          "color": "#FF97FF",
          "dash": "solid"
         },
         "mode": "lines",
         "name": "dept_name=Enoch Pratt Free Library",
         "showlegend": true,
         "type": "scatter",
         "x": [
          2011,
          2012,
          2013,
          2014,
          2015,
          2016,
          2017,
          2018,
          2019
         ],
         "xaxis": "x",
         "y": [
          442,
          439,
          475,
          463,
          473,
          431,
          427,
          488,
          503
         ],
         "yaxis": "y"
        },
        {
         "hoverlabel": {
          "namelength": 0
         },
         "hovertemplate": "dept_name=FIN<br>fiscal_year=%{x}<br>count=%{y}",
         "legendgroup": "dept_name=FIN",
         "line": {
          "color": "#FECB52",
          "dash": "solid"
         },
         "mode": "lines",
         "name": "dept_name=FIN",
         "showlegend": true,
         "type": "scatter",
         "x": [
          2011,
          2012,
          2013,
          2014,
          2015,
          2016,
          2017,
          2018,
          2019
         ],
         "xaxis": "x",
         "y": [
          265,
          281,
          286,
          288,
          290,
          281,
          278,
          278,
          259
         ],
         "yaxis": "y"
        },
        {
         "hoverlabel": {
          "namelength": 0
         },
         "hovertemplate": "dept_name=FPR Admin<br>fiscal_year=%{x}<br>count=%{y}",
         "legendgroup": "dept_name=FPR Admin",
         "line": {
          "color": "#636efa",
          "dash": "solid"
         },
         "mode": "lines",
         "name": "dept_name=FPR Admin",
         "showlegend": true,
         "type": "scatter",
         "x": [
          2011,
          2012,
          2013,
          2014,
          2015,
          2016,
          2017,
          2018,
          2019
         ],
         "xaxis": "x",
         "y": [
          21,
          22,
          22,
          25,
          27,
          27,
          28,
          30,
          26
         ],
         "yaxis": "y"
        },
        {
         "hoverlabel": {
          "namelength": 0
         },
         "hovertemplate": "dept_name=Fire Academy Recruits<br>fiscal_year=%{x}<br>count=%{y}",
         "legendgroup": "dept_name=Fire Academy Recruits",
         "line": {
          "color": "#EF553B",
          "dash": "solid"
         },
         "mode": "lines",
         "name": "dept_name=Fire Academy Recruits",
         "showlegend": true,
         "type": "scatter",
         "x": [
          2011
         ],
         "xaxis": "x",
         "y": [
          80
         ],
         "yaxis": "y"
        },
        {
         "hoverlabel": {
          "namelength": 0
         },
         "hovertemplate": "dept_name=Fire Department<br>fiscal_year=%{x}<br>count=%{y}",
         "legendgroup": "dept_name=Fire Department",
         "line": {
          "color": "#00cc96",
          "dash": "solid"
         },
         "mode": "lines",
         "name": "dept_name=Fire Department",
         "showlegend": true,
         "type": "scatter",
         "x": [
          2011,
          2012,
          2013,
          2014,
          2015,
          2016,
          2017,
          2018,
          2019
         ],
         "xaxis": "x",
         "y": [
          1646,
          1730,
          1640,
          1576,
          1615,
          1604,
          1715,
          1690,
          1681
         ],
         "yaxis": "y"
        },
        {
         "hoverlabel": {
          "namelength": 0
         },
         "hovertemplate": "dept_name=General Services<br>fiscal_year=%{x}<br>count=%{y}",
         "legendgroup": "dept_name=General Services",
         "line": {
          "color": "#ab63fa",
          "dash": "solid"
         },
         "mode": "lines",
         "name": "dept_name=General Services",
         "showlegend": true,
         "type": "scatter",
         "x": [
          2011,
          2012,
          2013,
          2014,
          2015,
          2016,
          2017,
          2018,
          2019
         ],
         "xaxis": "x",
         "y": [
          396,
          411,
          400,
          389,
          357,
          352,
          344,
          365,
          362
         ],
         "yaxis": "y"
        },
        {
         "hoverlabel": {
          "namelength": 0
         },
         "hovertemplate": "dept_name=HLTH<br>fiscal_year=%{x}<br>count=%{y}",
         "legendgroup": "dept_name=HLTH",
         "line": {
          "color": "#FFA15A",
          "dash": "solid"
         },
         "mode": "lines",
         "name": "dept_name=HLTH",
         "showlegend": true,
         "type": "scatter",
         "x": [
          2011,
          2012,
          2013,
          2014,
          2015,
          2016,
          2017,
          2018,
          2019
         ],
         "xaxis": "x",
         "y": [
          938,
          867,
          954,
          913,
          956,
          1006,
          803,
          923,
          901
         ],
         "yaxis": "y"
        },
        {
         "hoverlabel": {
          "namelength": 0
         },
         "hovertemplate": "dept_name=HR-Human Resources<br>fiscal_year=%{x}<br>count=%{y}",
         "legendgroup": "dept_name=HR-Human Resources",
         "line": {
          "color": "#19d3f3",
          "dash": "solid"
         },
         "mode": "lines",
         "name": "dept_name=HR-Human Resources",
         "showlegend": true,
         "type": "scatter",
         "x": [
          2011,
          2012,
          2013,
          2014,
          2015,
          2016,
          2017,
          2018,
          2019
         ],
         "xaxis": "x",
         "y": [
          42,
          44,
          47,
          55,
          55,
          63,
          70,
          72,
          65
         ],
         "yaxis": "y"
        },
        {
         "hoverlabel": {
          "namelength": 0
         },
         "hovertemplate": "dept_name=HR-Test Monitor<br>fiscal_year=%{x}<br>count=%{y}",
         "legendgroup": "dept_name=HR-Test Monitor",
         "line": {
          "color": "#FF6692",
          "dash": "solid"
         },
         "mode": "lines",
         "name": "dept_name=HR-Test Monitor",
         "showlegend": true,
         "type": "scatter",
         "x": [
          2011,
          2012,
          2013,
          2014,
          2015,
          2016,
          2017,
          2018,
          2019
         ],
         "xaxis": "x",
         "y": [
          10,
          11,
          12,
          11,
          11,
          11,
          6,
          8,
          7
         ],
         "yaxis": "y"
        },
        {
         "hoverlabel": {
          "namelength": 0
         },
         "hovertemplate": "dept_name=Housing & Community Dev<br>fiscal_year=%{x}<br>count=%{y}",
         "legendgroup": "dept_name=Housing & Community Dev",
         "line": {
          "color": "#B6E880",
          "dash": "solid"
         },
         "mode": "lines",
         "name": "dept_name=Housing & Community Dev",
         "showlegend": true,
         "type": "scatter",
         "x": [
          2011,
          2012,
          2013,
          2014,
          2015,
          2016,
          2017,
          2018,
          2019
         ],
         "xaxis": "x",
         "y": [
          513,
          533,
          433,
          446,
          384,
          372,
          345,
          388,
          408
         ],
         "yaxis": "y"
        },
        {
         "hoverlabel": {
          "namelength": 0
         },
         "hovertemplate": "dept_name=Law Department<br>fiscal_year=%{x}<br>count=%{y}",
         "legendgroup": "dept_name=Law Department",
         "line": {
          "color": "#FF97FF",
          "dash": "solid"
         },
         "mode": "lines",
         "name": "dept_name=Law Department",
         "showlegend": true,
         "type": "scatter",
         "x": [
          2011,
          2012,
          2013,
          2014,
          2015,
          2016,
          2017,
          2018,
          2019
         ],
         "xaxis": "x",
         "y": [
          97,
          105,
          107,
          110,
          108,
          106,
          101,
          96,
          107
         ],
         "yaxis": "y"
        },
        {
         "hoverlabel": {
          "namelength": 0
         },
         "hovertemplate": "dept_name=Legislative Reference<br>fiscal_year=%{x}<br>count=%{y}",
         "legendgroup": "dept_name=Legislative Reference",
         "line": {
          "color": "#FECB52",
          "dash": "solid"
         },
         "mode": "lines",
         "name": "dept_name=Legislative Reference",
         "showlegend": true,
         "type": "scatter",
         "x": [
          2011,
          2012,
          2013,
          2014,
          2015,
          2016,
          2017,
          2018,
          2019
         ],
         "xaxis": "x",
         "y": [
          6,
          6,
          5,
          5,
          5,
          5,
          5,
          4,
          6
         ],
         "yaxis": "y"
        },
        {
         "hoverlabel": {
          "namelength": 0
         },
         "hovertemplate": "dept_name=Liquor License Board<br>fiscal_year=%{x}<br>count=%{y}",
         "legendgroup": "dept_name=Liquor License Board",
         "line": {
          "color": "#636efa",
          "dash": "solid"
         },
         "mode": "lines",
         "name": "dept_name=Liquor License Board",
         "showlegend": true,
         "type": "scatter",
         "x": [
          2011,
          2012,
          2013,
          2014,
          2015,
          2016,
          2017,
          2018,
          2019
         ],
         "xaxis": "x",
         "y": [
          30,
          36,
          29,
          20,
          24,
          19,
          22,
          24,
          22
         ],
         "yaxis": "y"
        },
        {
         "hoverlabel": {
          "namelength": 0
         },
         "hovertemplate": "dept_name=M-R Cable & Comm<br>fiscal_year=%{x}<br>count=%{y}",
         "legendgroup": "dept_name=M-R Cable & Comm",
         "line": {
          "color": "#EF553B",
          "dash": "solid"
         },
         "mode": "lines",
         "name": "dept_name=M-R Cable & Comm",
         "showlegend": true,
         "type": "scatter",
         "x": [
          2011,
          2012,
          2013,
          2014,
          2015,
          2016,
          2017,
          2018,
          2019
         ],
         "xaxis": "x",
         "y": [
          4,
          4,
          3,
          4,
          4,
          4,
          4,
          10,
          10
         ],
         "yaxis": "y"
        },
        {
         "hoverlabel": {
          "namelength": 0
         },
         "hovertemplate": "dept_name=M-R Convention Center<br>fiscal_year=%{x}<br>count=%{y}",
         "legendgroup": "dept_name=M-R Convention Center",
         "line": {
          "color": "#00cc96",
          "dash": "solid"
         },
         "mode": "lines",
         "name": "dept_name=M-R Convention Center",
         "showlegend": true,
         "type": "scatter",
         "x": [
          2011,
          2012,
          2013,
          2014,
          2015,
          2016,
          2017,
          2018,
          2019
         ],
         "xaxis": "x",
         "y": [
          194,
          196,
          201,
          188,
          194,
          189,
          186,
          182,
          179
         ],
         "yaxis": "y"
        },
        {
         "hoverlabel": {
          "namelength": 0
         },
         "hovertemplate": "dept_name=M-R Environmental Cntrl<br>fiscal_year=%{x}<br>count=%{y}",
         "legendgroup": "dept_name=M-R Environmental Cntrl",
         "line": {
          "color": "#ab63fa",
          "dash": "solid"
         },
         "mode": "lines",
         "name": "dept_name=M-R Environmental Cntrl",
         "showlegend": true,
         "type": "scatter",
         "x": [
          2011,
          2012,
          2013,
          2014,
          2015,
          2016,
          2017,
          2018,
          2019
         ],
         "xaxis": "x",
         "y": [
          7,
          8,
          8,
          8,
          6,
          6,
          7,
          8,
          10
         ],
         "yaxis": "y"
        },
        {
         "hoverlabel": {
          "namelength": 0
         },
         "hovertemplate": "dept_name=M-R Info Technology<br>fiscal_year=%{x}<br>count=%{y}",
         "legendgroup": "dept_name=M-R Info Technology",
         "line": {
          "color": "#FFA15A",
          "dash": "solid"
         },
         "mode": "lines",
         "name": "dept_name=M-R Info Technology",
         "showlegend": true,
         "type": "scatter",
         "x": [
          2011,
          2012,
          2013,
          2014,
          2015,
          2016,
          2017,
          2018,
          2019
         ],
         "xaxis": "x",
         "y": [
          110,
          99,
          268,
          277,
          269,
          193,
          104,
          112,
          118
         ],
         "yaxis": "y"
        },
        {
         "hoverlabel": {
          "namelength": 0
         },
         "hovertemplate": "dept_name=M-R Labor Commissioner<br>fiscal_year=%{x}<br>count=%{y}",
         "legendgroup": "dept_name=M-R Labor Commissioner",
         "line": {
          "color": "#19d3f3",
          "dash": "solid"
         },
         "mode": "lines",
         "name": "dept_name=M-R Labor Commissioner",
         "showlegend": true,
         "type": "scatter",
         "x": [
          2011,
          2012,
          2013,
          2014,
          2015,
          2016,
          2017,
          2018,
          2019
         ],
         "xaxis": "x",
         "y": [
          5,
          5,
          6,
          6,
          6,
          6,
          6,
          6,
          6
         ],
         "yaxis": "y"
        },
        {
         "hoverlabel": {
          "namelength": 0
         },
         "hovertemplate": "dept_name=Mayors Office<br>fiscal_year=%{x}<br>count=%{y}",
         "legendgroup": "dept_name=Mayors Office",
         "line": {
          "color": "#FF6692",
          "dash": "solid"
         },
         "mode": "lines",
         "name": "dept_name=Mayors Office",
         "showlegend": true,
         "type": "scatter",
         "x": [
          2011,
          2012,
          2013,
          2014,
          2015,
          2016,
          2017,
          2018,
          2019
         ],
         "xaxis": "x",
         "y": [
          104,
          89,
          88,
          100,
          96,
          99,
          86,
          113,
          156
         ],
         "yaxis": "y"
        },
        {
         "hoverlabel": {
          "namelength": 0
         },
         "hovertemplate": "dept_name=Municipal & Zoning Appeals 001<br>fiscal_year=%{x}<br>count=%{y}",
         "legendgroup": "dept_name=Municipal & Zoning Appeals 001",
         "line": {
          "color": "#B6E880",
          "dash": "solid"
         },
         "mode": "lines",
         "name": "dept_name=Municipal & Zoning Appeals 001",
         "showlegend": true,
         "type": "scatter",
         "x": [
          2011,
          2012,
          2013,
          2015,
          2016,
          2017,
          2018,
          2019
         ],
         "xaxis": "x",
         "y": [
          8,
          9,
          9,
          9,
          9,
          9,
          9,
          10
         ],
         "yaxis": "y"
        },
        {
         "hoverlabel": {
          "namelength": 0
         },
         "hovertemplate": "dept_name=OED-Employment Dev<br>fiscal_year=%{x}<br>count=%{y}",
         "legendgroup": "dept_name=OED-Employment Dev",
         "line": {
          "color": "#FF97FF",
          "dash": "solid"
         },
         "mode": "lines",
         "name": "dept_name=OED-Employment Dev",
         "showlegend": true,
         "type": "scatter",
         "x": [
          2011,
          2012,
          2013,
          2014,
          2015,
          2016,
          2017,
          2018,
          2019
         ],
         "xaxis": "x",
         "y": [
          224,
          208,
          195,
          165,
          162,
          160,
          166,
          165,
          166
         ],
         "yaxis": "y"
        },
        {
         "hoverlabel": {
          "namelength": 0
         },
         "hovertemplate": "dept_name=Orphan's Court<br>fiscal_year=%{x}<br>count=%{y}",
         "legendgroup": "dept_name=Orphan's Court",
         "line": {
          "color": "#FECB52",
          "dash": "solid"
         },
         "mode": "lines",
         "name": "dept_name=Orphan's Court",
         "showlegend": true,
         "type": "scatter",
         "x": [
          2011,
          2012,
          2013,
          2014,
          2015,
          2016,
          2017,
          2018,
          2019
         ],
         "xaxis": "x",
         "y": [
          10,
          11,
          12,
          11,
          10,
          12,
          10,
          11,
          11
         ],
         "yaxis": "y"
        },
        {
         "hoverlabel": {
          "namelength": 0
         },
         "hovertemplate": "dept_name=Planning Department<br>fiscal_year=%{x}<br>count=%{y}",
         "legendgroup": "dept_name=Planning Department",
         "line": {
          "color": "#636efa",
          "dash": "solid"
         },
         "mode": "lines",
         "name": "dept_name=Planning Department",
         "showlegend": true,
         "type": "scatter",
         "x": [
          2011,
          2012,
          2013,
          2014,
          2015,
          2016,
          2017,
          2018,
          2019
         ],
         "xaxis": "x",
         "y": [
          47,
          45,
          47,
          48,
          50,
          51,
          57,
          58,
          55
         ],
         "yaxis": "y"
        },
        {
         "hoverlabel": {
          "namelength": 0
         },
         "hovertemplate": "dept_name=Police Department<br>fiscal_year=%{x}<br>count=%{y}",
         "legendgroup": "dept_name=Police Department",
         "line": {
          "color": "#EF553B",
          "dash": "solid"
         },
         "mode": "lines",
         "name": "dept_name=Police Department",
         "showlegend": true,
         "type": "scatter",
         "x": [
          2011,
          2012,
          2013,
          2014,
          2015,
          2016,
          2017,
          2018,
          2019
         ],
         "xaxis": "x",
         "y": [
          3428,
          3475,
          3278,
          3211,
          3097,
          3030,
          2981,
          3005,
          2993
         ],
         "yaxis": "y"
        },
        {
         "hoverlabel": {
          "namelength": 0
         },
         "hovertemplate": "dept_name=R&P<br>fiscal_year=%{x}<br>count=%{y}",
         "legendgroup": "dept_name=R&P",
         "line": {
          "color": "#00cc96",
          "dash": "solid"
         },
         "mode": "lines",
         "name": "dept_name=R&P",
         "showlegend": true,
         "type": "scatter",
         "x": [
          2011,
          2012,
          2013,
          2014,
          2015,
          2016,
          2017,
          2018,
          2019
         ],
         "xaxis": "x",
         "y": [
          650,
          756,
          874,
          953,
          966,
          1037,
          1042,
          961,
          1088
         ],
         "yaxis": "y"
        },
        {
         "hoverlabel": {
          "namelength": 0
         },
         "hovertemplate": "dept_name=Sheriff's Office<br>fiscal_year=%{x}<br>count=%{y}",
         "legendgroup": "dept_name=Sheriff's Office",
         "line": {
          "color": "#ab63fa",
          "dash": "solid"
         },
         "mode": "lines",
         "name": "dept_name=Sheriff's Office",
         "showlegend": true,
         "type": "scatter",
         "x": [
          2011,
          2012,
          2013,
          2014,
          2015,
          2016,
          2017,
          2018,
          2019
         ],
         "xaxis": "x",
         "y": [
          175,
          182,
          191,
          206,
          210,
          209,
          200,
          199,
          185
         ],
         "yaxis": "y"
        },
        {
         "hoverlabel": {
          "namelength": 0
         },
         "hovertemplate": "dept_name=Special City Services<br>fiscal_year=%{x}<br>count=%{y}",
         "legendgroup": "dept_name=Special City Services",
         "line": {
          "color": "#FFA15A",
          "dash": "solid"
         },
         "mode": "lines",
         "name": "dept_name=Special City Services",
         "showlegend": true,
         "type": "scatter",
         "x": [
          2011,
          2012,
          2013,
          2014,
          2015,
          2016,
          2017,
          2018,
          2019
         ],
         "xaxis": "x",
         "y": [
          2,
          2,
          3,
          4,
          4,
          4,
          4,
          3,
          3
         ],
         "yaxis": "y"
        },
        {
         "hoverlabel": {
          "namelength": 0
         },
         "hovertemplate": "dept_name=States Attorneys Office<br>fiscal_year=%{x}<br>count=%{y}",
         "legendgroup": "dept_name=States Attorneys Office",
         "line": {
          "color": "#19d3f3",
          "dash": "solid"
         },
         "mode": "lines",
         "name": "dept_name=States Attorneys Office",
         "showlegend": true,
         "type": "scatter",
         "x": [
          2011,
          2012,
          2013,
          2014,
          2015,
          2016,
          2017,
          2018,
          2019
         ],
         "xaxis": "x",
         "y": [
          375,
          362,
          364,
          358,
          358,
          379,
          401,
          400,
          395
         ],
         "yaxis": "y"
        },
        {
         "hoverlabel": {
          "namelength": 0
         },
         "hovertemplate": "dept_name=TANF Cust<br>fiscal_year=%{x}<br>count=%{y}",
         "legendgroup": "dept_name=TANF Cust",
         "line": {
          "color": "#FF6692",
          "dash": "solid"
         },
         "mode": "lines",
         "name": "dept_name=TANF Cust",
         "showlegend": true,
         "type": "scatter",
         "x": [
          2011,
          2012
         ],
         "xaxis": "x",
         "y": [
          45,
          50
         ],
         "yaxis": "y"
        },
        {
         "hoverlabel": {
          "namelength": 0
         },
         "hovertemplate": "dept_name=TRANS<br>fiscal_year=%{x}<br>count=%{y}",
         "legendgroup": "dept_name=TRANS",
         "line": {
          "color": "#B6E880",
          "dash": "solid"
         },
         "mode": "lines",
         "name": "dept_name=TRANS",
         "showlegend": true,
         "type": "scatter",
         "x": [
          2011,
          2012,
          2013,
          2014,
          2015,
          2016,
          2017,
          2018,
          2019
         ],
         "xaxis": "x",
         "y": [
          1490,
          1535,
          1576,
          1423,
          1368,
          1266,
          1246,
          1276,
          1264
         ],
         "yaxis": "y"
        },
        {
         "hoverlabel": {
          "namelength": 0
         },
         "hovertemplate": "dept_name=Wage Commissioner<br>fiscal_year=%{x}<br>count=%{y}",
         "legendgroup": "dept_name=Wage Commissioner",
         "line": {
          "color": "#FF97FF",
          "dash": "solid"
         },
         "mode": "lines",
         "name": "dept_name=Wage Commissioner",
         "showlegend": true,
         "type": "scatter",
         "x": [
          2011
         ],
         "xaxis": "x",
         "y": [
          3
         ],
         "yaxis": "y"
        },
        {
         "hoverlabel": {
          "namelength": 0
         },
         "hovertemplate": "dept_name=War Memorial Commission<br>fiscal_year=%{x}<br>count=%{y}",
         "legendgroup": "dept_name=War Memorial Commission",
         "line": {
          "color": "#FECB52",
          "dash": "solid"
         },
         "mode": "lines",
         "name": "dept_name=War Memorial Commission",
         "showlegend": true,
         "type": "scatter",
         "x": [
          2011,
          2012
         ],
         "xaxis": "x",
         "y": [
          4,
          4
         ],
         "yaxis": "y"
        },
        {
         "hoverlabel": {
          "namelength": 0
         },
         "hovertemplate": "dept_name=Youth Cust<br>fiscal_year=%{x}<br>count=%{y}",
         "legendgroup": "dept_name=Youth Cust",
         "line": {
          "color": "#636efa",
          "dash": "solid"
         },
         "mode": "lines",
         "name": "dept_name=Youth Cust",
         "showlegend": true,
         "type": "scatter",
         "x": [
          2011,
          2012,
          2013
         ],
         "xaxis": "x",
         "y": [
          328,
          29,
          6
         ],
         "yaxis": "y"
        },
        {
         "hoverlabel": {
          "namelength": 0
         },
         "hovertemplate": "dept_name=Youth Temp Adult<br>fiscal_year=%{x}<br>count=%{y}",
         "legendgroup": "dept_name=Youth Temp Adult",
         "line": {
          "color": "#EF553B",
          "dash": "solid"
         },
         "mode": "lines",
         "name": "dept_name=Youth Temp Adult",
         "showlegend": true,
         "type": "scatter",
         "x": [
          2011,
          2012,
          2013,
          2014
         ],
         "xaxis": "x",
         "y": [
          18,
          31,
          67,
          69
         ],
         "yaxis": "y"
        },
        {
         "hoverlabel": {
          "namelength": 0
         },
         "hovertemplate": "dept_name=Youth Summer<br>fiscal_year=%{x}<br>count=%{y}",
         "legendgroup": "dept_name=Youth Summer",
         "line": {
          "color": "#00cc96",
          "dash": "solid"
         },
         "mode": "lines",
         "name": "dept_name=Youth Summer",
         "showlegend": true,
         "type": "scatter",
         "x": [
          2012,
          2013,
          2014
         ],
         "xaxis": "x",
         "y": [
          1755,
          4724,
          4817
         ],
         "yaxis": "y"
        },
        {
         "hoverlabel": {
          "namelength": 0
         },
         "hovertemplate": "dept_name=Civil Rights & Wage Enforce<br>fiscal_year=%{x}<br>count=%{y}",
         "legendgroup": "dept_name=Civil Rights & Wage Enforce",
         "line": {
          "color": "#ab63fa",
          "dash": "solid"
         },
         "mode": "lines",
         "name": "dept_name=Civil Rights & Wage Enforce",
         "showlegend": true,
         "type": "scatter",
         "x": [
          2013,
          2015,
          2016,
          2017,
          2018,
          2019
         ],
         "xaxis": "x",
         "y": [
          12,
          11,
          14,
          16,
          16,
          23
         ],
         "yaxis": "y"
        },
        {
         "hoverlabel": {
          "namelength": 0
         },
         "hovertemplate": "dept_name=M-R Human Services<br>fiscal_year=%{x}<br>count=%{y}",
         "legendgroup": "dept_name=M-R Human Services",
         "line": {
          "color": "#FFA15A",
          "dash": "solid"
         },
         "mode": "lines",
         "name": "dept_name=M-R Human Services",
         "showlegend": true,
         "type": "scatter",
         "x": [
          2013,
          2014,
          2015,
          2016,
          2017,
          2018,
          2019
         ],
         "xaxis": "x",
         "y": [
          98,
          104,
          149,
          128,
          111,
          112,
          131
         ],
         "yaxis": "y"
        },
        {
         "hoverlabel": {
          "namelength": 0
         },
         "hovertemplate": "dept_name=OED-Participants-Youth Summer<br>fiscal_year=%{x}<br>count=%{y}",
         "legendgroup": "dept_name=OED-Participants-Youth Summer",
         "line": {
          "color": "#19d3f3",
          "dash": "solid"
         },
         "mode": "lines",
         "name": "dept_name=OED-Participants-Youth Summer",
         "showlegend": true,
         "type": "scatter",
         "x": [
          2013
         ],
         "xaxis": "x",
         "y": [
          1
         ],
         "yaxis": "y"
        },
        {
         "hoverlabel": {
          "namelength": 0
         },
         "hovertemplate": "dept_name=Civil Rights & Wage Enfor<br>fiscal_year=%{x}<br>count=%{y}",
         "legendgroup": "dept_name=Civil Rights & Wage Enfor",
         "line": {
          "color": "#FF6692",
          "dash": "solid"
         },
         "mode": "lines",
         "name": "dept_name=Civil Rights & Wage Enfor",
         "showlegend": true,
         "type": "scatter",
         "x": [
          2014
         ],
         "xaxis": "x",
         "y": [
          12
         ],
         "yaxis": "y"
        },
        {
         "hoverlabel": {
          "namelength": 0
         },
         "hovertemplate": "dept_name=Municipal & Zoning Appeal<br>fiscal_year=%{x}<br>count=%{y}",
         "legendgroup": "dept_name=Municipal & Zoning Appeal",
         "line": {
          "color": "#B6E880",
          "dash": "solid"
         },
         "mode": "lines",
         "name": "dept_name=Municipal & Zoning Appeal",
         "showlegend": true,
         "type": "scatter",
         "x": [
          2014
         ],
         "xaxis": "x",
         "y": [
          9
         ],
         "yaxis": "y"
        },
        {
         "hoverlabel": {
          "namelength": 0
         },
         "hovertemplate": "dept_name=Dem 01<br>fiscal_year=%{x}<br>count=%{y}",
         "legendgroup": "dept_name=Dem 01",
         "line": {
          "color": "#FF97FF",
          "dash": "solid"
         },
         "mode": "lines",
         "name": "dept_name=Dem 01",
         "showlegend": true,
         "type": "scatter",
         "x": [
          2016
         ],
         "xaxis": "x",
         "y": [
          19
         ],
         "yaxis": "y"
        },
        {
         "hoverlabel": {
          "namelength": 0
         },
         "hovertemplate": "dept_name=Rep 01<br>fiscal_year=%{x}<br>count=%{y}",
         "legendgroup": "dept_name=Rep 01",
         "line": {
          "color": "#FECB52",
          "dash": "solid"
         },
         "mode": "lines",
         "name": "dept_name=Rep 01",
         "showlegend": true,
         "type": "scatter",
         "x": [
          2016
         ],
         "xaxis": "x",
         "y": [
          5
         ],
         "yaxis": "y"
        },
        {
         "hoverlabel": {
          "namelength": 0
         },
         "hovertemplate": "dept_name=Una 01<br>fiscal_year=%{x}<br>count=%{y}",
         "legendgroup": "dept_name=Una 01",
         "line": {
          "color": "#636efa",
          "dash": "solid"
         },
         "mode": "lines",
         "name": "dept_name=Una 01",
         "showlegend": true,
         "type": "scatter",
         "x": [
          2016
         ],
         "xaxis": "x",
         "y": [
          5
         ],
         "yaxis": "y"
        }
       ],
       "layout": {
        "autosize": true,
        "legend": {
         "tracegroupgap": 0
        },
        "template": {
         "data": {
          "bar": [
           {
            "error_x": {
             "color": "#2a3f5f"
            },
            "error_y": {
             "color": "#2a3f5f"
            },
            "marker": {
             "line": {
              "color": "#E5ECF6",
              "width": 0.5
             }
            },
            "type": "bar"
           }
          ],
          "barpolar": [
           {
            "marker": {
             "line": {
              "color": "#E5ECF6",
              "width": 0.5
             }
            },
            "type": "barpolar"
           }
          ],
          "carpet": [
           {
            "aaxis": {
             "endlinecolor": "#2a3f5f",
             "gridcolor": "white",
             "linecolor": "white",
             "minorgridcolor": "white",
             "startlinecolor": "#2a3f5f"
            },
            "baxis": {
             "endlinecolor": "#2a3f5f",
             "gridcolor": "white",
             "linecolor": "white",
             "minorgridcolor": "white",
             "startlinecolor": "#2a3f5f"
            },
            "type": "carpet"
           }
          ],
          "choropleth": [
           {
            "colorbar": {
             "outlinewidth": 0,
             "ticks": ""
            },
            "type": "choropleth"
           }
          ],
          "contour": [
           {
            "colorbar": {
             "outlinewidth": 0,
             "ticks": ""
            },
            "colorscale": [
             [
              0,
              "#0d0887"
             ],
             [
              0.1111111111111111,
              "#46039f"
             ],
             [
              0.2222222222222222,
              "#7201a8"
             ],
             [
              0.3333333333333333,
              "#9c179e"
             ],
             [
              0.4444444444444444,
              "#bd3786"
             ],
             [
              0.5555555555555556,
              "#d8576b"
             ],
             [
              0.6666666666666666,
              "#ed7953"
             ],
             [
              0.7777777777777778,
              "#fb9f3a"
             ],
             [
              0.8888888888888888,
              "#fdca26"
             ],
             [
              1,
              "#f0f921"
             ]
            ],
            "type": "contour"
           }
          ],
          "contourcarpet": [
           {
            "colorbar": {
             "outlinewidth": 0,
             "ticks": ""
            },
            "type": "contourcarpet"
           }
          ],
          "heatmap": [
           {
            "colorbar": {
             "outlinewidth": 0,
             "ticks": ""
            },
            "colorscale": [
             [
              0,
              "#0d0887"
             ],
             [
              0.1111111111111111,
              "#46039f"
             ],
             [
              0.2222222222222222,
              "#7201a8"
             ],
             [
              0.3333333333333333,
              "#9c179e"
             ],
             [
              0.4444444444444444,
              "#bd3786"
             ],
             [
              0.5555555555555556,
              "#d8576b"
             ],
             [
              0.6666666666666666,
              "#ed7953"
             ],
             [
              0.7777777777777778,
              "#fb9f3a"
             ],
             [
              0.8888888888888888,
              "#fdca26"
             ],
             [
              1,
              "#f0f921"
             ]
            ],
            "type": "heatmap"
           }
          ],
          "heatmapgl": [
           {
            "colorbar": {
             "outlinewidth": 0,
             "ticks": ""
            },
            "colorscale": [
             [
              0,
              "#0d0887"
             ],
             [
              0.1111111111111111,
              "#46039f"
             ],
             [
              0.2222222222222222,
              "#7201a8"
             ],
             [
              0.3333333333333333,
              "#9c179e"
             ],
             [
              0.4444444444444444,
              "#bd3786"
             ],
             [
              0.5555555555555556,
              "#d8576b"
             ],
             [
              0.6666666666666666,
              "#ed7953"
             ],
             [
              0.7777777777777778,
              "#fb9f3a"
             ],
             [
              0.8888888888888888,
              "#fdca26"
             ],
             [
              1,
              "#f0f921"
             ]
            ],
            "type": "heatmapgl"
           }
          ],
          "histogram": [
           {
            "marker": {
             "colorbar": {
              "outlinewidth": 0,
              "ticks": ""
             }
            },
            "type": "histogram"
           }
          ],
          "histogram2d": [
           {
            "colorbar": {
             "outlinewidth": 0,
             "ticks": ""
            },
            "colorscale": [
             [
              0,
              "#0d0887"
             ],
             [
              0.1111111111111111,
              "#46039f"
             ],
             [
              0.2222222222222222,
              "#7201a8"
             ],
             [
              0.3333333333333333,
              "#9c179e"
             ],
             [
              0.4444444444444444,
              "#bd3786"
             ],
             [
              0.5555555555555556,
              "#d8576b"
             ],
             [
              0.6666666666666666,
              "#ed7953"
             ],
             [
              0.7777777777777778,
              "#fb9f3a"
             ],
             [
              0.8888888888888888,
              "#fdca26"
             ],
             [
              1,
              "#f0f921"
             ]
            ],
            "type": "histogram2d"
           }
          ],
          "histogram2dcontour": [
           {
            "colorbar": {
             "outlinewidth": 0,
             "ticks": ""
            },
            "colorscale": [
             [
              0,
              "#0d0887"
             ],
             [
              0.1111111111111111,
              "#46039f"
             ],
             [
              0.2222222222222222,
              "#7201a8"
             ],
             [
              0.3333333333333333,
              "#9c179e"
             ],
             [
              0.4444444444444444,
              "#bd3786"
             ],
             [
              0.5555555555555556,
              "#d8576b"
             ],
             [
              0.6666666666666666,
              "#ed7953"
             ],
             [
              0.7777777777777778,
              "#fb9f3a"
             ],
             [
              0.8888888888888888,
              "#fdca26"
             ],
             [
              1,
              "#f0f921"
             ]
            ],
            "type": "histogram2dcontour"
           }
          ],
          "mesh3d": [
           {
            "colorbar": {
             "outlinewidth": 0,
             "ticks": ""
            },
            "type": "mesh3d"
           }
          ],
          "parcoords": [
           {
            "line": {
             "colorbar": {
              "outlinewidth": 0,
              "ticks": ""
             }
            },
            "type": "parcoords"
           }
          ],
          "scatter": [
           {
            "marker": {
             "colorbar": {
              "outlinewidth": 0,
              "ticks": ""
             }
            },
            "type": "scatter"
           }
          ],
          "scatter3d": [
           {
            "line": {
             "colorbar": {
              "outlinewidth": 0,
              "ticks": ""
             }
            },
            "marker": {
             "colorbar": {
              "outlinewidth": 0,
              "ticks": ""
             }
            },
            "type": "scatter3d"
           }
          ],
          "scattercarpet": [
           {
            "marker": {
             "colorbar": {
              "outlinewidth": 0,
              "ticks": ""
             }
            },
            "type": "scattercarpet"
           }
          ],
          "scattergeo": [
           {
            "marker": {
             "colorbar": {
              "outlinewidth": 0,
              "ticks": ""
             }
            },
            "type": "scattergeo"
           }
          ],
          "scattergl": [
           {
            "marker": {
             "colorbar": {
              "outlinewidth": 0,
              "ticks": ""
             }
            },
            "type": "scattergl"
           }
          ],
          "scattermapbox": [
           {
            "marker": {
             "colorbar": {
              "outlinewidth": 0,
              "ticks": ""
             }
            },
            "type": "scattermapbox"
           }
          ],
          "scatterpolar": [
           {
            "marker": {
             "colorbar": {
              "outlinewidth": 0,
              "ticks": ""
             }
            },
            "type": "scatterpolar"
           }
          ],
          "scatterpolargl": [
           {
            "marker": {
             "colorbar": {
              "outlinewidth": 0,
              "ticks": ""
             }
            },
            "type": "scatterpolargl"
           }
          ],
          "scatterternary": [
           {
            "marker": {
             "colorbar": {
              "outlinewidth": 0,
              "ticks": ""
             }
            },
            "type": "scatterternary"
           }
          ],
          "surface": [
           {
            "colorbar": {
             "outlinewidth": 0,
             "ticks": ""
            },
            "colorscale": [
             [
              0,
              "#0d0887"
             ],
             [
              0.1111111111111111,
              "#46039f"
             ],
             [
              0.2222222222222222,
              "#7201a8"
             ],
             [
              0.3333333333333333,
              "#9c179e"
             ],
             [
              0.4444444444444444,
              "#bd3786"
             ],
             [
              0.5555555555555556,
              "#d8576b"
             ],
             [
              0.6666666666666666,
              "#ed7953"
             ],
             [
              0.7777777777777778,
              "#fb9f3a"
             ],
             [
              0.8888888888888888,
              "#fdca26"
             ],
             [
              1,
              "#f0f921"
             ]
            ],
            "type": "surface"
           }
          ],
          "table": [
           {
            "cells": {
             "fill": {
              "color": "#EBF0F8"
             },
             "line": {
              "color": "white"
             }
            },
            "header": {
             "fill": {
              "color": "#C8D4E3"
             },
             "line": {
              "color": "white"
             }
            },
            "type": "table"
           }
          ]
         },
         "layout": {
          "annotationdefaults": {
           "arrowcolor": "#2a3f5f",
           "arrowhead": 0,
           "arrowwidth": 1
          },
          "colorscale": {
           "diverging": [
            [
             0,
             "#8e0152"
            ],
            [
             0.1,
             "#c51b7d"
            ],
            [
             0.2,
             "#de77ae"
            ],
            [
             0.3,
             "#f1b6da"
            ],
            [
             0.4,
             "#fde0ef"
            ],
            [
             0.5,
             "#f7f7f7"
            ],
            [
             0.6,
             "#e6f5d0"
            ],
            [
             0.7,
             "#b8e186"
            ],
            [
             0.8,
             "#7fbc41"
            ],
            [
             0.9,
             "#4d9221"
            ],
            [
             1,
             "#276419"
            ]
           ],
           "sequential": [
            [
             0,
             "#0d0887"
            ],
            [
             0.1111111111111111,
             "#46039f"
            ],
            [
             0.2222222222222222,
             "#7201a8"
            ],
            [
             0.3333333333333333,
             "#9c179e"
            ],
            [
             0.4444444444444444,
             "#bd3786"
            ],
            [
             0.5555555555555556,
             "#d8576b"
            ],
            [
             0.6666666666666666,
             "#ed7953"
            ],
            [
             0.7777777777777778,
             "#fb9f3a"
            ],
            [
             0.8888888888888888,
             "#fdca26"
            ],
            [
             1,
             "#f0f921"
            ]
           ],
           "sequentialminus": [
            [
             0,
             "#0d0887"
            ],
            [
             0.1111111111111111,
             "#46039f"
            ],
            [
             0.2222222222222222,
             "#7201a8"
            ],
            [
             0.3333333333333333,
             "#9c179e"
            ],
            [
             0.4444444444444444,
             "#bd3786"
            ],
            [
             0.5555555555555556,
             "#d8576b"
            ],
            [
             0.6666666666666666,
             "#ed7953"
            ],
            [
             0.7777777777777778,
             "#fb9f3a"
            ],
            [
             0.8888888888888888,
             "#fdca26"
            ],
            [
             1,
             "#f0f921"
            ]
           ]
          },
          "colorway": [
           "#636efa",
           "#EF553B",
           "#00cc96",
           "#ab63fa",
           "#FFA15A",
           "#19d3f3",
           "#FF6692",
           "#B6E880",
           "#FF97FF",
           "#FECB52"
          ],
          "font": {
           "color": "#2a3f5f"
          },
          "geo": {
           "bgcolor": "white",
           "lakecolor": "white",
           "landcolor": "#E5ECF6",
           "showlakes": true,
           "showland": true,
           "subunitcolor": "white"
          },
          "hoverlabel": {
           "align": "left"
          },
          "hovermode": "closest",
          "mapbox": {
           "style": "light"
          },
          "paper_bgcolor": "white",
          "plot_bgcolor": "#E5ECF6",
          "polar": {
           "angularaxis": {
            "gridcolor": "white",
            "linecolor": "white",
            "ticks": ""
           },
           "bgcolor": "#E5ECF6",
           "radialaxis": {
            "gridcolor": "white",
            "linecolor": "white",
            "ticks": ""
           }
          },
          "scene": {
           "xaxis": {
            "backgroundcolor": "#E5ECF6",
            "gridcolor": "white",
            "gridwidth": 2,
            "linecolor": "white",
            "showbackground": true,
            "ticks": "",
            "zerolinecolor": "white"
           },
           "yaxis": {
            "backgroundcolor": "#E5ECF6",
            "gridcolor": "white",
            "gridwidth": 2,
            "linecolor": "white",
            "showbackground": true,
            "ticks": "",
            "zerolinecolor": "white"
           },
           "zaxis": {
            "backgroundcolor": "#E5ECF6",
            "gridcolor": "white",
            "gridwidth": 2,
            "linecolor": "white",
            "showbackground": true,
            "ticks": "",
            "zerolinecolor": "white"
           }
          },
          "shapedefaults": {
           "line": {
            "color": "#2a3f5f"
           }
          },
          "ternary": {
           "aaxis": {
            "gridcolor": "white",
            "linecolor": "white",
            "ticks": ""
           },
           "baxis": {
            "gridcolor": "white",
            "linecolor": "white",
            "ticks": ""
           },
           "bgcolor": "#E5ECF6",
           "caxis": {
            "gridcolor": "white",
            "linecolor": "white",
            "ticks": ""
           }
          },
          "title": {
           "x": 0.05
          },
          "xaxis": {
           "automargin": true,
           "gridcolor": "white",
           "linecolor": "white",
           "ticks": "",
           "zerolinecolor": "white",
           "zerolinewidth": 2
          },
          "yaxis": {
           "automargin": true,
           "gridcolor": "white",
           "linecolor": "white",
           "ticks": "",
           "zerolinecolor": "white",
           "zerolinewidth": 2
          }
         }
        },
        "title": {
         "text": "Number of Employees in Baltimore City Government Departments in Fiscal Years 2011-2019"
        },
        "xaxis": {
         "anchor": "y",
         "autorange": true,
         "domain": [
          0,
          0.98
         ],
         "range": [
          2011,
          2019
         ],
         "title": {
          "text": "fiscal_year"
         },
         "type": "linear"
        },
        "yaxis": {
         "anchor": "x",
         "autorange": true,
         "domain": [
          0,
          1
         ],
         "range": [
          -266.55555555555554,
          5084.555555555556
         ],
         "title": {
          "text": "count"
         },
         "type": "linear"
        }
       }
      },
      "image/png": "[encoded data removed]",
      "text/html": [
       "<div>\n",
       "        \n",
       "        \n",
       "            <div id=\"97ec89ac-ab24-4dc8-956a-24826b5a7701\" class=\"plotly-graph-div\" style=\"height:600px; width:100%;\"></div>\n",
       "            <script type=\"text/javascript\">\n",
       "                require([\"plotly\"], function(Plotly) {\n",
       "                    window.PLOTLYENV=window.PLOTLYENV || {};\n",
       "                    \n",
       "                if (document.getElementById(\"97ec89ac-ab24-4dc8-956a-24826b5a7701\")) {\n",
       "                    Plotly.newPlot(\n",
       "                        '97ec89ac-ab24-4dc8-956a-24826b5a7701',\n",
       "                        [{\"hoverlabel\": {\"namelength\": 0}, \"hovertemplate\": \"dept_name=COMP<br>fiscal_year=%{x}<br>count=%{y}\", \"legendgroup\": \"dept_name=COMP\", \"line\": {\"color\": \"#636efa\", \"dash\": \"solid\"}, \"mode\": \"lines\", \"name\": \"dept_name=COMP\", \"showlegend\": true, \"type\": \"scatter\", \"x\": [2011, 2012, 2013, 2014, 2015, 2016, 2017, 2018, 2019], \"xaxis\": \"x\", \"y\": [91, 86, 95, 90, 91, 87, 95, 86, 87], \"yaxis\": \"y\"}, {\"hoverlabel\": {\"namelength\": 0}, \"hovertemplate\": \"dept_name=Circuit Court<br>fiscal_year=%{x}<br>count=%{y}\", \"legendgroup\": \"dept_name=Circuit Court\", \"line\": {\"color\": \"#EF553B\", \"dash\": \"solid\"}, \"mode\": \"lines\", \"name\": \"dept_name=Circuit Court\", \"showlegend\": true, \"type\": \"scatter\", \"x\": [2011, 2012, 2013, 2014, 2015, 2016, 2017, 2018, 2019], \"xaxis\": \"x\", \"y\": [154, 149, 139, 140, 141, 137, 136, 133, 131], \"yaxis\": \"y\"}, {\"hoverlabel\": {\"namelength\": 0}, \"hovertemplate\": \"dept_name=City Council<br>fiscal_year=%{x}<br>count=%{y}\", \"legendgroup\": \"dept_name=City Council\", \"line\": {\"color\": \"#00cc96\", \"dash\": \"solid\"}, \"mode\": \"lines\", \"name\": \"dept_name=City Council\", \"showlegend\": true, \"type\": \"scatter\", \"x\": [2011, 2012, 2013, 2014, 2015, 2016, 2017, 2018, 2019], \"xaxis\": \"x\", \"y\": [88, 90, 87, 93, 96, 90, 86, 91, 85], \"yaxis\": \"y\"}, {\"hoverlabel\": {\"namelength\": 0}, \"hovertemplate\": \"dept_name=Community Relations<br>fiscal_year=%{x}<br>count=%{y}\", \"legendgroup\": \"dept_name=Community Relations\", \"line\": {\"color\": \"#ab63fa\", \"dash\": \"solid\"}, \"mode\": \"lines\", \"name\": \"dept_name=Community Relations\", \"showlegend\": true, \"type\": \"scatter\", \"x\": [2011, 2012], \"xaxis\": \"x\", \"y\": [10, 12], \"yaxis\": \"y\"}, {\"hoverlabel\": {\"namelength\": 0}, \"hovertemplate\": \"dept_name=Council Services<br>fiscal_year=%{x}<br>count=%{y}\", \"legendgroup\": \"dept_name=Council Services\", \"line\": {\"color\": \"#FFA15A\", \"dash\": \"solid\"}, \"mode\": \"lines\", \"name\": \"dept_name=Council Services\", \"showlegend\": true, \"type\": \"scatter\", \"x\": [2011, 2012, 2013, 2014, 2015, 2016, 2017, 2018, 2019], \"xaxis\": \"x\", \"y\": [5, 6, 6, 6, 6, 6, 5, 6, 6], \"yaxis\": \"y\"}, {\"hoverlabel\": {\"namelength\": 0}, \"hovertemplate\": \"dept_name=DPW<br>fiscal_year=%{x}<br>count=%{y}\", \"legendgroup\": \"dept_name=DPW\", \"line\": {\"color\": \"#19d3f3\", \"dash\": \"solid\"}, \"mode\": \"lines\", \"name\": \"dept_name=DPW\", \"showlegend\": true, \"type\": \"scatter\", \"x\": [2011, 2012, 2013, 2014, 2015, 2016, 2017, 2018, 2019], \"xaxis\": \"x\", \"y\": [2356, 2327, 2332, 2337, 2369, 2354, 2344, 2319, 2314], \"yaxis\": \"y\"}, {\"hoverlabel\": {\"namelength\": 0}, \"hovertemplate\": \"dept_name=ERS/EOS Admin<br>fiscal_year=%{x}<br>count=%{y}\", \"legendgroup\": \"dept_name=ERS/EOS Admin\", \"line\": {\"color\": \"#FF6692\", \"dash\": \"solid\"}, \"mode\": \"lines\", \"name\": \"dept_name=ERS/EOS Admin\", \"showlegend\": true, \"type\": \"scatter\", \"x\": [2011, 2012, 2013, 2014, 2015, 2016, 2017, 2018, 2019], \"xaxis\": \"x\", \"y\": [27, 28, 29, 33, 32, 31, 32, 31, 32], \"yaxis\": \"y\"}, {\"hoverlabel\": {\"namelength\": 0}, \"hovertemplate\": \"dept_name=Elections<br>fiscal_year=%{x}<br>count=%{y}\", \"legendgroup\": \"dept_name=Elections\", \"line\": {\"color\": \"#B6E880\", \"dash\": \"solid\"}, \"mode\": \"lines\", \"name\": \"dept_name=Elections\", \"showlegend\": true, \"type\": \"scatter\", \"x\": [2011, 2012, 2013, 2014, 2015, 2016, 2017, 2018, 2019], \"xaxis\": \"x\", \"y\": [6, 11, 8, 8, 8, 11, 5, 5, 6], \"yaxis\": \"y\"}, {\"hoverlabel\": {\"namelength\": 0}, \"hovertemplate\": \"dept_name=Enoch Pratt Free Library<br>fiscal_year=%{x}<br>count=%{y}\", \"legendgroup\": \"dept_name=Enoch Pratt Free Library\", \"line\": {\"color\": \"#FF97FF\", \"dash\": \"solid\"}, \"mode\": \"lines\", \"name\": \"dept_name=Enoch Pratt Free Library\", \"showlegend\": true, \"type\": \"scatter\", \"x\": [2011, 2012, 2013, 2014, 2015, 2016, 2017, 2018, 2019], \"xaxis\": \"x\", \"y\": [442, 439, 475, 463, 473, 431, 427, 488, 503], \"yaxis\": \"y\"}, {\"hoverlabel\": {\"namelength\": 0}, \"hovertemplate\": \"dept_name=FIN<br>fiscal_year=%{x}<br>count=%{y}\", \"legendgroup\": \"dept_name=FIN\", \"line\": {\"color\": \"#FECB52\", \"dash\": \"solid\"}, \"mode\": \"lines\", \"name\": \"dept_name=FIN\", \"showlegend\": true, \"type\": \"scatter\", \"x\": [2011, 2012, 2013, 2014, 2015, 2016, 2017, 2018, 2019], \"xaxis\": \"x\", \"y\": [265, 281, 286, 288, 290, 281, 278, 278, 259], \"yaxis\": \"y\"}, {\"hoverlabel\": {\"namelength\": 0}, \"hovertemplate\": \"dept_name=FPR Admin<br>fiscal_year=%{x}<br>count=%{y}\", \"legendgroup\": \"dept_name=FPR Admin\", \"line\": {\"color\": \"#636efa\", \"dash\": \"solid\"}, \"mode\": \"lines\", \"name\": \"dept_name=FPR Admin\", \"showlegend\": true, \"type\": \"scatter\", \"x\": [2011, 2012, 2013, 2014, 2015, 2016, 2017, 2018, 2019], \"xaxis\": \"x\", \"y\": [21, 22, 22, 25, 27, 27, 28, 30, 26], \"yaxis\": \"y\"}, {\"hoverlabel\": {\"namelength\": 0}, \"hovertemplate\": \"dept_name=Fire Academy Recruits<br>fiscal_year=%{x}<br>count=%{y}\", \"legendgroup\": \"dept_name=Fire Academy Recruits\", \"line\": {\"color\": \"#EF553B\", \"dash\": \"solid\"}, \"mode\": \"lines\", \"name\": \"dept_name=Fire Academy Recruits\", \"showlegend\": true, \"type\": \"scatter\", \"x\": [2011], \"xaxis\": \"x\", \"y\": [80], \"yaxis\": \"y\"}, {\"hoverlabel\": {\"namelength\": 0}, \"hovertemplate\": \"dept_name=Fire Department<br>fiscal_year=%{x}<br>count=%{y}\", \"legendgroup\": \"dept_name=Fire Department\", \"line\": {\"color\": \"#00cc96\", \"dash\": \"solid\"}, \"mode\": \"lines\", \"name\": \"dept_name=Fire Department\", \"showlegend\": true, \"type\": \"scatter\", \"x\": [2011, 2012, 2013, 2014, 2015, 2016, 2017, 2018, 2019], \"xaxis\": \"x\", \"y\": [1646, 1730, 1640, 1576, 1615, 1604, 1715, 1690, 1681], \"yaxis\": \"y\"}, {\"hoverlabel\": {\"namelength\": 0}, \"hovertemplate\": \"dept_name=General Services<br>fiscal_year=%{x}<br>count=%{y}\", \"legendgroup\": \"dept_name=General Services\", \"line\": {\"color\": \"#ab63fa\", \"dash\": \"solid\"}, \"mode\": \"lines\", \"name\": \"dept_name=General Services\", \"showlegend\": true, \"type\": \"scatter\", \"x\": [2011, 2012, 2013, 2014, 2015, 2016, 2017, 2018, 2019], \"xaxis\": \"x\", \"y\": [396, 411, 400, 389, 357, 352, 344, 365, 362], \"yaxis\": \"y\"}, {\"hoverlabel\": {\"namelength\": 0}, \"hovertemplate\": \"dept_name=HLTH<br>fiscal_year=%{x}<br>count=%{y}\", \"legendgroup\": \"dept_name=HLTH\", \"line\": {\"color\": \"#FFA15A\", \"dash\": \"solid\"}, \"mode\": \"lines\", \"name\": \"dept_name=HLTH\", \"showlegend\": true, \"type\": \"scatter\", \"x\": [2011, 2012, 2013, 2014, 2015, 2016, 2017, 2018, 2019], \"xaxis\": \"x\", \"y\": [938, 867, 954, 913, 956, 1006, 803, 923, 901], \"yaxis\": \"y\"}, {\"hoverlabel\": {\"namelength\": 0}, \"hovertemplate\": \"dept_name=HR-Human Resources<br>fiscal_year=%{x}<br>count=%{y}\", \"legendgroup\": \"dept_name=HR-Human Resources\", \"line\": {\"color\": \"#19d3f3\", \"dash\": \"solid\"}, \"mode\": \"lines\", \"name\": \"dept_name=HR-Human Resources\", \"showlegend\": true, \"type\": \"scatter\", \"x\": [2011, 2012, 2013, 2014, 2015, 2016, 2017, 2018, 2019], \"xaxis\": \"x\", \"y\": [42, 44, 47, 55, 55, 63, 70, 72, 65], \"yaxis\": \"y\"}, {\"hoverlabel\": {\"namelength\": 0}, \"hovertemplate\": \"dept_name=HR-Test Monitor<br>fiscal_year=%{x}<br>count=%{y}\", \"legendgroup\": \"dept_name=HR-Test Monitor\", \"line\": {\"color\": \"#FF6692\", \"dash\": \"solid\"}, \"mode\": \"lines\", \"name\": \"dept_name=HR-Test Monitor\", \"showlegend\": true, \"type\": \"scatter\", \"x\": [2011, 2012, 2013, 2014, 2015, 2016, 2017, 2018, 2019], \"xaxis\": \"x\", \"y\": [10, 11, 12, 11, 11, 11, 6, 8, 7], \"yaxis\": \"y\"}, {\"hoverlabel\": {\"namelength\": 0}, \"hovertemplate\": \"dept_name=Housing & Community Dev<br>fiscal_year=%{x}<br>count=%{y}\", \"legendgroup\": \"dept_name=Housing & Community Dev\", \"line\": {\"color\": \"#B6E880\", \"dash\": \"solid\"}, \"mode\": \"lines\", \"name\": \"dept_name=Housing & Community Dev\", \"showlegend\": true, \"type\": \"scatter\", \"x\": [2011, 2012, 2013, 2014, 2015, 2016, 2017, 2018, 2019], \"xaxis\": \"x\", \"y\": [513, 533, 433, 446, 384, 372, 345, 388, 408], \"yaxis\": \"y\"}, {\"hoverlabel\": {\"namelength\": 0}, \"hovertemplate\": \"dept_name=Law Department<br>fiscal_year=%{x}<br>count=%{y}\", \"legendgroup\": \"dept_name=Law Department\", \"line\": {\"color\": \"#FF97FF\", \"dash\": \"solid\"}, \"mode\": \"lines\", \"name\": \"dept_name=Law Department\", \"showlegend\": true, \"type\": \"scatter\", \"x\": [2011, 2012, 2013, 2014, 2015, 2016, 2017, 2018, 2019], \"xaxis\": \"x\", \"y\": [97, 105, 107, 110, 108, 106, 101, 96, 107], \"yaxis\": \"y\"}, {\"hoverlabel\": {\"namelength\": 0}, \"hovertemplate\": \"dept_name=Legislative Reference<br>fiscal_year=%{x}<br>count=%{y}\", \"legendgroup\": \"dept_name=Legislative Reference\", \"line\": {\"color\": \"#FECB52\", \"dash\": \"solid\"}, \"mode\": \"lines\", \"name\": \"dept_name=Legislative Reference\", \"showlegend\": true, \"type\": \"scatter\", \"x\": [2011, 2012, 2013, 2014, 2015, 2016, 2017, 2018, 2019], \"xaxis\": \"x\", \"y\": [6, 6, 5, 5, 5, 5, 5, 4, 6], \"yaxis\": \"y\"}, {\"hoverlabel\": {\"namelength\": 0}, \"hovertemplate\": \"dept_name=Liquor License Board<br>fiscal_year=%{x}<br>count=%{y}\", \"legendgroup\": \"dept_name=Liquor License Board\", \"line\": {\"color\": \"#636efa\", \"dash\": \"solid\"}, \"mode\": \"lines\", \"name\": \"dept_name=Liquor License Board\", \"showlegend\": true, \"type\": \"scatter\", \"x\": [2011, 2012, 2013, 2014, 2015, 2016, 2017, 2018, 2019], \"xaxis\": \"x\", \"y\": [30, 36, 29, 20, 24, 19, 22, 24, 22], \"yaxis\": \"y\"}, {\"hoverlabel\": {\"namelength\": 0}, \"hovertemplate\": \"dept_name=M-R Cable & Comm<br>fiscal_year=%{x}<br>count=%{y}\", \"legendgroup\": \"dept_name=M-R Cable & Comm\", \"line\": {\"color\": \"#EF553B\", \"dash\": \"solid\"}, \"mode\": \"lines\", \"name\": \"dept_name=M-R Cable & Comm\", \"showlegend\": true, \"type\": \"scatter\", \"x\": [2011, 2012, 2013, 2014, 2015, 2016, 2017, 2018, 2019], \"xaxis\": \"x\", \"y\": [4, 4, 3, 4, 4, 4, 4, 10, 10], \"yaxis\": \"y\"}, {\"hoverlabel\": {\"namelength\": 0}, \"hovertemplate\": \"dept_name=M-R Convention Center<br>fiscal_year=%{x}<br>count=%{y}\", \"legendgroup\": \"dept_name=M-R Convention Center\", \"line\": {\"color\": \"#00cc96\", \"dash\": \"solid\"}, \"mode\": \"lines\", \"name\": \"dept_name=M-R Convention Center\", \"showlegend\": true, \"type\": \"scatter\", \"x\": [2011, 2012, 2013, 2014, 2015, 2016, 2017, 2018, 2019], \"xaxis\": \"x\", \"y\": [194, 196, 201, 188, 194, 189, 186, 182, 179], \"yaxis\": \"y\"}, {\"hoverlabel\": {\"namelength\": 0}, \"hovertemplate\": \"dept_name=M-R Environmental Cntrl<br>fiscal_year=%{x}<br>count=%{y}\", \"legendgroup\": \"dept_name=M-R Environmental Cntrl\", \"line\": {\"color\": \"#ab63fa\", \"dash\": \"solid\"}, \"mode\": \"lines\", \"name\": \"dept_name=M-R Environmental Cntrl\", \"showlegend\": true, \"type\": \"scatter\", \"x\": [2011, 2012, 2013, 2014, 2015, 2016, 2017, 2018, 2019], \"xaxis\": \"x\", \"y\": [7, 8, 8, 8, 6, 6, 7, 8, 10], \"yaxis\": \"y\"}, {\"hoverlabel\": {\"namelength\": 0}, \"hovertemplate\": \"dept_name=M-R Info Technology<br>fiscal_year=%{x}<br>count=%{y}\", \"legendgroup\": \"dept_name=M-R Info Technology\", \"line\": {\"color\": \"#FFA15A\", \"dash\": \"solid\"}, \"mode\": \"lines\", \"name\": \"dept_name=M-R Info Technology\", \"showlegend\": true, \"type\": \"scatter\", \"x\": [2011, 2012, 2013, 2014, 2015, 2016, 2017, 2018, 2019], \"xaxis\": \"x\", \"y\": [110, 99, 268, 277, 269, 193, 104, 112, 118], \"yaxis\": \"y\"}, {\"hoverlabel\": {\"namelength\": 0}, \"hovertemplate\": \"dept_name=M-R Labor Commissioner<br>fiscal_year=%{x}<br>count=%{y}\", \"legendgroup\": \"dept_name=M-R Labor Commissioner\", \"line\": {\"color\": \"#19d3f3\", \"dash\": \"solid\"}, \"mode\": \"lines\", \"name\": \"dept_name=M-R Labor Commissioner\", \"showlegend\": true, \"type\": \"scatter\", \"x\": [2011, 2012, 2013, 2014, 2015, 2016, 2017, 2018, 2019], \"xaxis\": \"x\", \"y\": [5, 5, 6, 6, 6, 6, 6, 6, 6], \"yaxis\": \"y\"}, {\"hoverlabel\": {\"namelength\": 0}, \"hovertemplate\": \"dept_name=Mayors Office<br>fiscal_year=%{x}<br>count=%{y}\", \"legendgroup\": \"dept_name=Mayors Office\", \"line\": {\"color\": \"#FF6692\", \"dash\": \"solid\"}, \"mode\": \"lines\", \"name\": \"dept_name=Mayors Office\", \"showlegend\": true, \"type\": \"scatter\", \"x\": [2011, 2012, 2013, 2014, 2015, 2016, 2017, 2018, 2019], \"xaxis\": \"x\", \"y\": [104, 89, 88, 100, 96, 99, 86, 113, 156], \"yaxis\": \"y\"}, {\"hoverlabel\": {\"namelength\": 0}, \"hovertemplate\": \"dept_name=Municipal & Zoning Appeals 001<br>fiscal_year=%{x}<br>count=%{y}\", \"legendgroup\": \"dept_name=Municipal & Zoning Appeals 001\", \"line\": {\"color\": \"#B6E880\", \"dash\": \"solid\"}, \"mode\": \"lines\", \"name\": \"dept_name=Municipal & Zoning Appeals 001\", \"showlegend\": true, \"type\": \"scatter\", \"x\": [2011, 2012, 2013, 2015, 2016, 2017, 2018, 2019], \"xaxis\": \"x\", \"y\": [8, 9, 9, 9, 9, 9, 9, 10], \"yaxis\": \"y\"}, {\"hoverlabel\": {\"namelength\": 0}, \"hovertemplate\": \"dept_name=OED-Employment Dev<br>fiscal_year=%{x}<br>count=%{y}\", \"legendgroup\": \"dept_name=OED-Employment Dev\", \"line\": {\"color\": \"#FF97FF\", \"dash\": \"solid\"}, \"mode\": \"lines\", \"name\": \"dept_name=OED-Employment Dev\", \"showlegend\": true, \"type\": \"scatter\", \"x\": [2011, 2012, 2013, 2014, 2015, 2016, 2017, 2018, 2019], \"xaxis\": \"x\", \"y\": [224, 208, 195, 165, 162, 160, 166, 165, 166], \"yaxis\": \"y\"}, {\"hoverlabel\": {\"namelength\": 0}, \"hovertemplate\": \"dept_name=Orphan's Court<br>fiscal_year=%{x}<br>count=%{y}\", \"legendgroup\": \"dept_name=Orphan's Court\", \"line\": {\"color\": \"#FECB52\", \"dash\": \"solid\"}, \"mode\": \"lines\", \"name\": \"dept_name=Orphan's Court\", \"showlegend\": true, \"type\": \"scatter\", \"x\": [2011, 2012, 2013, 2014, 2015, 2016, 2017, 2018, 2019], \"xaxis\": \"x\", \"y\": [10, 11, 12, 11, 10, 12, 10, 11, 11], \"yaxis\": \"y\"}, {\"hoverlabel\": {\"namelength\": 0}, \"hovertemplate\": \"dept_name=Planning Department<br>fiscal_year=%{x}<br>count=%{y}\", \"legendgroup\": \"dept_name=Planning Department\", \"line\": {\"color\": \"#636efa\", \"dash\": \"solid\"}, \"mode\": \"lines\", \"name\": \"dept_name=Planning Department\", \"showlegend\": true, \"type\": \"scatter\", \"x\": [2011, 2012, 2013, 2014, 2015, 2016, 2017, 2018, 2019], \"xaxis\": \"x\", \"y\": [47, 45, 47, 48, 50, 51, 57, 58, 55], \"yaxis\": \"y\"}, {\"hoverlabel\": {\"namelength\": 0}, \"hovertemplate\": \"dept_name=Police Department<br>fiscal_year=%{x}<br>count=%{y}\", \"legendgroup\": \"dept_name=Police Department\", \"line\": {\"color\": \"#EF553B\", \"dash\": \"solid\"}, \"mode\": \"lines\", \"name\": \"dept_name=Police Department\", \"showlegend\": true, \"type\": \"scatter\", \"x\": [2011, 2012, 2013, 2014, 2015, 2016, 2017, 2018, 2019], \"xaxis\": \"x\", \"y\": [3428, 3475, 3278, 3211, 3097, 3030, 2981, 3005, 2993], \"yaxis\": \"y\"}, {\"hoverlabel\": {\"namelength\": 0}, \"hovertemplate\": \"dept_name=R&P<br>fiscal_year=%{x}<br>count=%{y}\", \"legendgroup\": \"dept_name=R&P\", \"line\": {\"color\": \"#00cc96\", \"dash\": \"solid\"}, \"mode\": \"lines\", \"name\": \"dept_name=R&P\", \"showlegend\": true, \"type\": \"scatter\", \"x\": [2011, 2012, 2013, 2014, 2015, 2016, 2017, 2018, 2019], \"xaxis\": \"x\", \"y\": [650, 756, 874, 953, 966, 1037, 1042, 961, 1088], \"yaxis\": \"y\"}, {\"hoverlabel\": {\"namelength\": 0}, \"hovertemplate\": \"dept_name=Sheriff's Office<br>fiscal_year=%{x}<br>count=%{y}\", \"legendgroup\": \"dept_name=Sheriff's Office\", \"line\": {\"color\": \"#ab63fa\", \"dash\": \"solid\"}, \"mode\": \"lines\", \"name\": \"dept_name=Sheriff's Office\", \"showlegend\": true, \"type\": \"scatter\", \"x\": [2011, 2012, 2013, 2014, 2015, 2016, 2017, 2018, 2019], \"xaxis\": \"x\", \"y\": [175, 182, 191, 206, 210, 209, 200, 199, 185], \"yaxis\": \"y\"}, {\"hoverlabel\": {\"namelength\": 0}, \"hovertemplate\": \"dept_name=Special City Services<br>fiscal_year=%{x}<br>count=%{y}\", \"legendgroup\": \"dept_name=Special City Services\", \"line\": {\"color\": \"#FFA15A\", \"dash\": \"solid\"}, \"mode\": \"lines\", \"name\": \"dept_name=Special City Services\", \"showlegend\": true, \"type\": \"scatter\", \"x\": [2011, 2012, 2013, 2014, 2015, 2016, 2017, 2018, 2019], \"xaxis\": \"x\", \"y\": [2, 2, 3, 4, 4, 4, 4, 3, 3], \"yaxis\": \"y\"}, {\"hoverlabel\": {\"namelength\": 0}, \"hovertemplate\": \"dept_name=States Attorneys Office<br>fiscal_year=%{x}<br>count=%{y}\", \"legendgroup\": \"dept_name=States Attorneys Office\", \"line\": {\"color\": \"#19d3f3\", \"dash\": \"solid\"}, \"mode\": \"lines\", \"name\": \"dept_name=States Attorneys Office\", \"showlegend\": true, \"type\": \"scatter\", \"x\": [2011, 2012, 2013, 2014, 2015, 2016, 2017, 2018, 2019], \"xaxis\": \"x\", \"y\": [375, 362, 364, 358, 358, 379, 401, 400, 395], \"yaxis\": \"y\"}, {\"hoverlabel\": {\"namelength\": 0}, \"hovertemplate\": \"dept_name=TANF Cust<br>fiscal_year=%{x}<br>count=%{y}\", \"legendgroup\": \"dept_name=TANF Cust\", \"line\": {\"color\": \"#FF6692\", \"dash\": \"solid\"}, \"mode\": \"lines\", \"name\": \"dept_name=TANF Cust\", \"showlegend\": true, \"type\": \"scatter\", \"x\": [2011, 2012], \"xaxis\": \"x\", \"y\": [45, 50], \"yaxis\": \"y\"}, {\"hoverlabel\": {\"namelength\": 0}, \"hovertemplate\": \"dept_name=TRANS<br>fiscal_year=%{x}<br>count=%{y}\", \"legendgroup\": \"dept_name=TRANS\", \"line\": {\"color\": \"#B6E880\", \"dash\": \"solid\"}, \"mode\": \"lines\", \"name\": \"dept_name=TRANS\", \"showlegend\": true, \"type\": \"scatter\", \"x\": [2011, 2012, 2013, 2014, 2015, 2016, 2017, 2018, 2019], \"xaxis\": \"x\", \"y\": [1490, 1535, 1576, 1423, 1368, 1266, 1246, 1276, 1264], \"yaxis\": \"y\"}, {\"hoverlabel\": {\"namelength\": 0}, \"hovertemplate\": \"dept_name=Wage Commissioner<br>fiscal_year=%{x}<br>count=%{y}\", \"legendgroup\": \"dept_name=Wage Commissioner\", \"line\": {\"color\": \"#FF97FF\", \"dash\": \"solid\"}, \"mode\": \"lines\", \"name\": \"dept_name=Wage Commissioner\", \"showlegend\": true, \"type\": \"scatter\", \"x\": [2011], \"xaxis\": \"x\", \"y\": [3], \"yaxis\": \"y\"}, {\"hoverlabel\": {\"namelength\": 0}, \"hovertemplate\": \"dept_name=War Memorial Commission<br>fiscal_year=%{x}<br>count=%{y}\", \"legendgroup\": \"dept_name=War Memorial Commission\", \"line\": {\"color\": \"#FECB52\", \"dash\": \"solid\"}, \"mode\": \"lines\", \"name\": \"dept_name=War Memorial Commission\", \"showlegend\": true, \"type\": \"scatter\", \"x\": [2011, 2012], \"xaxis\": \"x\", \"y\": [4, 4], \"yaxis\": \"y\"}, {\"hoverlabel\": {\"namelength\": 0}, \"hovertemplate\": \"dept_name=Youth Cust<br>fiscal_year=%{x}<br>count=%{y}\", \"legendgroup\": \"dept_name=Youth Cust\", \"line\": {\"color\": \"#636efa\", \"dash\": \"solid\"}, \"mode\": \"lines\", \"name\": \"dept_name=Youth Cust\", \"showlegend\": true, \"type\": \"scatter\", \"x\": [2011, 2012, 2013], \"xaxis\": \"x\", \"y\": [328, 29, 6], \"yaxis\": \"y\"}, {\"hoverlabel\": {\"namelength\": 0}, \"hovertemplate\": \"dept_name=Youth Temp Adult<br>fiscal_year=%{x}<br>count=%{y}\", \"legendgroup\": \"dept_name=Youth Temp Adult\", \"line\": {\"color\": \"#EF553B\", \"dash\": \"solid\"}, \"mode\": \"lines\", \"name\": \"dept_name=Youth Temp Adult\", \"showlegend\": true, \"type\": \"scatter\", \"x\": [2011, 2012, 2013, 2014], \"xaxis\": \"x\", \"y\": [18, 31, 67, 69], \"yaxis\": \"y\"}, {\"hoverlabel\": {\"namelength\": 0}, \"hovertemplate\": \"dept_name=Youth Summer<br>fiscal_year=%{x}<br>count=%{y}\", \"legendgroup\": \"dept_name=Youth Summer\", \"line\": {\"color\": \"#00cc96\", \"dash\": \"solid\"}, \"mode\": \"lines\", \"name\": \"dept_name=Youth Summer\", \"showlegend\": true, \"type\": \"scatter\", \"x\": [2012, 2013, 2014], \"xaxis\": \"x\", \"y\": [1755, 4724, 4817], \"yaxis\": \"y\"}, {\"hoverlabel\": {\"namelength\": 0}, \"hovertemplate\": \"dept_name=Civil Rights & Wage Enforce<br>fiscal_year=%{x}<br>count=%{y}\", \"legendgroup\": \"dept_name=Civil Rights & Wage Enforce\", \"line\": {\"color\": \"#ab63fa\", \"dash\": \"solid\"}, \"mode\": \"lines\", \"name\": \"dept_name=Civil Rights & Wage Enforce\", \"showlegend\": true, \"type\": \"scatter\", \"x\": [2013, 2015, 2016, 2017, 2018, 2019], \"xaxis\": \"x\", \"y\": [12, 11, 14, 16, 16, 23], \"yaxis\": \"y\"}, {\"hoverlabel\": {\"namelength\": 0}, \"hovertemplate\": \"dept_name=M-R Human Services<br>fiscal_year=%{x}<br>count=%{y}\", \"legendgroup\": \"dept_name=M-R Human Services\", \"line\": {\"color\": \"#FFA15A\", \"dash\": \"solid\"}, \"mode\": \"lines\", \"name\": \"dept_name=M-R Human Services\", \"showlegend\": true, \"type\": \"scatter\", \"x\": [2013, 2014, 2015, 2016, 2017, 2018, 2019], \"xaxis\": \"x\", \"y\": [98, 104, 149, 128, 111, 112, 131], \"yaxis\": \"y\"}, {\"hoverlabel\": {\"namelength\": 0}, \"hovertemplate\": \"dept_name=OED-Participants-Youth Summer<br>fiscal_year=%{x}<br>count=%{y}\", \"legendgroup\": \"dept_name=OED-Participants-Youth Summer\", \"line\": {\"color\": \"#19d3f3\", \"dash\": \"solid\"}, \"mode\": \"lines\", \"name\": \"dept_name=OED-Participants-Youth Summer\", \"showlegend\": true, \"type\": \"scatter\", \"x\": [2013], \"xaxis\": \"x\", \"y\": [1], \"yaxis\": \"y\"}, {\"hoverlabel\": {\"namelength\": 0}, \"hovertemplate\": \"dept_name=Civil Rights & Wage Enfor<br>fiscal_year=%{x}<br>count=%{y}\", \"legendgroup\": \"dept_name=Civil Rights & Wage Enfor\", \"line\": {\"color\": \"#FF6692\", \"dash\": \"solid\"}, \"mode\": \"lines\", \"name\": \"dept_name=Civil Rights & Wage Enfor\", \"showlegend\": true, \"type\": \"scatter\", \"x\": [2014], \"xaxis\": \"x\", \"y\": [12], \"yaxis\": \"y\"}, {\"hoverlabel\": {\"namelength\": 0}, \"hovertemplate\": \"dept_name=Municipal & Zoning Appeal<br>fiscal_year=%{x}<br>count=%{y}\", \"legendgroup\": \"dept_name=Municipal & Zoning Appeal\", \"line\": {\"color\": \"#B6E880\", \"dash\": \"solid\"}, \"mode\": \"lines\", \"name\": \"dept_name=Municipal & Zoning Appeal\", \"showlegend\": true, \"type\": \"scatter\", \"x\": [2014], \"xaxis\": \"x\", \"y\": [9], \"yaxis\": \"y\"}, {\"hoverlabel\": {\"namelength\": 0}, \"hovertemplate\": \"dept_name=Dem 01<br>fiscal_year=%{x}<br>count=%{y}\", \"legendgroup\": \"dept_name=Dem 01\", \"line\": {\"color\": \"#FF97FF\", \"dash\": \"solid\"}, \"mode\": \"lines\", \"name\": \"dept_name=Dem 01\", \"showlegend\": true, \"type\": \"scatter\", \"x\": [2016], \"xaxis\": \"x\", \"y\": [19], \"yaxis\": \"y\"}, {\"hoverlabel\": {\"namelength\": 0}, \"hovertemplate\": \"dept_name=Rep 01<br>fiscal_year=%{x}<br>count=%{y}\", \"legendgroup\": \"dept_name=Rep 01\", \"line\": {\"color\": \"#FECB52\", \"dash\": \"solid\"}, \"mode\": \"lines\", \"name\": \"dept_name=Rep 01\", \"showlegend\": true, \"type\": \"scatter\", \"x\": [2016], \"xaxis\": \"x\", \"y\": [5], \"yaxis\": \"y\"}, {\"hoverlabel\": {\"namelength\": 0}, \"hovertemplate\": \"dept_name=Una 01<br>fiscal_year=%{x}<br>count=%{y}\", \"legendgroup\": \"dept_name=Una 01\", \"line\": {\"color\": \"#636efa\", \"dash\": \"solid\"}, \"mode\": \"lines\", \"name\": \"dept_name=Una 01\", \"showlegend\": true, \"type\": \"scatter\", \"x\": [2016], \"xaxis\": \"x\", \"y\": [5], \"yaxis\": \"y\"}],\n",
       "                        {\"height\": 600, \"legend\": {\"tracegroupgap\": 0}, \"template\": {\"data\": {\"bar\": [{\"error_x\": {\"color\": \"#2a3f5f\"}, \"error_y\": {\"color\": \"#2a3f5f\"}, \"marker\": {\"line\": {\"color\": \"#E5ECF6\", \"width\": 0.5}}, \"type\": \"bar\"}], \"barpolar\": [{\"marker\": {\"line\": {\"color\": \"#E5ECF6\", \"width\": 0.5}}, \"type\": \"barpolar\"}], \"carpet\": [{\"aaxis\": {\"endlinecolor\": \"#2a3f5f\", \"gridcolor\": \"white\", \"linecolor\": \"white\", \"minorgridcolor\": \"white\", \"startlinecolor\": \"#2a3f5f\"}, \"baxis\": {\"endlinecolor\": \"#2a3f5f\", \"gridcolor\": \"white\", \"linecolor\": \"white\", \"minorgridcolor\": \"white\", \"startlinecolor\": \"#2a3f5f\"}, \"type\": \"carpet\"}], \"choropleth\": [{\"colorbar\": {\"outlinewidth\": 0, \"ticks\": \"\"}, \"type\": \"choropleth\"}], \"contour\": [{\"colorbar\": {\"outlinewidth\": 0, \"ticks\": \"\"}, \"colorscale\": [[0.0, \"#0d0887\"], [0.1111111111111111, \"#46039f\"], [0.2222222222222222, \"#7201a8\"], [0.3333333333333333, \"#9c179e\"], [0.4444444444444444, \"#bd3786\"], [0.5555555555555556, \"#d8576b\"], [0.6666666666666666, \"#ed7953\"], [0.7777777777777778, \"#fb9f3a\"], [0.8888888888888888, \"#fdca26\"], [1.0, \"#f0f921\"]], \"type\": \"contour\"}], \"contourcarpet\": [{\"colorbar\": {\"outlinewidth\": 0, \"ticks\": \"\"}, \"type\": \"contourcarpet\"}], \"heatmap\": [{\"colorbar\": {\"outlinewidth\": 0, \"ticks\": \"\"}, \"colorscale\": [[0.0, \"#0d0887\"], [0.1111111111111111, \"#46039f\"], [0.2222222222222222, \"#7201a8\"], [0.3333333333333333, \"#9c179e\"], [0.4444444444444444, \"#bd3786\"], [0.5555555555555556, \"#d8576b\"], [0.6666666666666666, \"#ed7953\"], [0.7777777777777778, \"#fb9f3a\"], [0.8888888888888888, \"#fdca26\"], [1.0, \"#f0f921\"]], \"type\": \"heatmap\"}], \"heatmapgl\": [{\"colorbar\": {\"outlinewidth\": 0, \"ticks\": \"\"}, \"colorscale\": [[0.0, \"#0d0887\"], [0.1111111111111111, \"#46039f\"], [0.2222222222222222, \"#7201a8\"], [0.3333333333333333, \"#9c179e\"], [0.4444444444444444, \"#bd3786\"], [0.5555555555555556, \"#d8576b\"], [0.6666666666666666, \"#ed7953\"], [0.7777777777777778, \"#fb9f3a\"], [0.8888888888888888, \"#fdca26\"], [1.0, \"#f0f921\"]], \"type\": \"heatmapgl\"}], \"histogram\": [{\"marker\": {\"colorbar\": {\"outlinewidth\": 0, \"ticks\": \"\"}}, \"type\": \"histogram\"}], \"histogram2d\": [{\"colorbar\": {\"outlinewidth\": 0, \"ticks\": \"\"}, \"colorscale\": [[0.0, \"#0d0887\"], [0.1111111111111111, \"#46039f\"], [0.2222222222222222, \"#7201a8\"], [0.3333333333333333, \"#9c179e\"], [0.4444444444444444, \"#bd3786\"], [0.5555555555555556, \"#d8576b\"], [0.6666666666666666, \"#ed7953\"], [0.7777777777777778, \"#fb9f3a\"], [0.8888888888888888, \"#fdca26\"], [1.0, \"#f0f921\"]], \"type\": \"histogram2d\"}], \"histogram2dcontour\": [{\"colorbar\": {\"outlinewidth\": 0, \"ticks\": \"\"}, \"colorscale\": [[0.0, \"#0d0887\"], [0.1111111111111111, \"#46039f\"], [0.2222222222222222, \"#7201a8\"], [0.3333333333333333, \"#9c179e\"], [0.4444444444444444, \"#bd3786\"], [0.5555555555555556, \"#d8576b\"], [0.6666666666666666, \"#ed7953\"], [0.7777777777777778, \"#fb9f3a\"], [0.8888888888888888, \"#fdca26\"], [1.0, \"#f0f921\"]], \"type\": \"histogram2dcontour\"}], \"mesh3d\": [{\"colorbar\": {\"outlinewidth\": 0, \"ticks\": \"\"}, \"type\": \"mesh3d\"}], \"parcoords\": [{\"line\": {\"colorbar\": {\"outlinewidth\": 0, \"ticks\": \"\"}}, \"type\": \"parcoords\"}], \"scatter\": [{\"marker\": {\"colorbar\": {\"outlinewidth\": 0, \"ticks\": \"\"}}, \"type\": \"scatter\"}], \"scatter3d\": [{\"line\": {\"colorbar\": {\"outlinewidth\": 0, \"ticks\": \"\"}}, \"marker\": {\"colorbar\": {\"outlinewidth\": 0, \"ticks\": \"\"}}, \"type\": \"scatter3d\"}], \"scattercarpet\": [{\"marker\": {\"colorbar\": {\"outlinewidth\": 0, \"ticks\": \"\"}}, \"type\": \"scattercarpet\"}], \"scattergeo\": [{\"marker\": {\"colorbar\": {\"outlinewidth\": 0, \"ticks\": \"\"}}, \"type\": \"scattergeo\"}], \"scattergl\": [{\"marker\": {\"colorbar\": {\"outlinewidth\": 0, \"ticks\": \"\"}}, \"type\": \"scattergl\"}], \"scattermapbox\": [{\"marker\": {\"colorbar\": {\"outlinewidth\": 0, \"ticks\": \"\"}}, \"type\": \"scattermapbox\"}], \"scatterpolar\": [{\"marker\": {\"colorbar\": {\"outlinewidth\": 0, \"ticks\": \"\"}}, \"type\": \"scatterpolar\"}], \"scatterpolargl\": [{\"marker\": {\"colorbar\": {\"outlinewidth\": 0, \"ticks\": \"\"}}, \"type\": \"scatterpolargl\"}], \"scatterternary\": [{\"marker\": {\"colorbar\": {\"outlinewidth\": 0, \"ticks\": \"\"}}, \"type\": \"scatterternary\"}], \"surface\": [{\"colorbar\": {\"outlinewidth\": 0, \"ticks\": \"\"}, \"colorscale\": [[0.0, \"#0d0887\"], [0.1111111111111111, \"#46039f\"], [0.2222222222222222, \"#7201a8\"], [0.3333333333333333, \"#9c179e\"], [0.4444444444444444, \"#bd3786\"], [0.5555555555555556, \"#d8576b\"], [0.6666666666666666, \"#ed7953\"], [0.7777777777777778, \"#fb9f3a\"], [0.8888888888888888, \"#fdca26\"], [1.0, \"#f0f921\"]], \"type\": \"surface\"}], \"table\": [{\"cells\": {\"fill\": {\"color\": \"#EBF0F8\"}, \"line\": {\"color\": \"white\"}}, \"header\": {\"fill\": {\"color\": \"#C8D4E3\"}, \"line\": {\"color\": \"white\"}}, \"type\": \"table\"}]}, \"layout\": {\"annotationdefaults\": {\"arrowcolor\": \"#2a3f5f\", \"arrowhead\": 0, \"arrowwidth\": 1}, \"colorscale\": {\"diverging\": [[0, \"#8e0152\"], [0.1, \"#c51b7d\"], [0.2, \"#de77ae\"], [0.3, \"#f1b6da\"], [0.4, \"#fde0ef\"], [0.5, \"#f7f7f7\"], [0.6, \"#e6f5d0\"], [0.7, \"#b8e186\"], [0.8, \"#7fbc41\"], [0.9, \"#4d9221\"], [1, \"#276419\"]], \"sequential\": [[0.0, \"#0d0887\"], [0.1111111111111111, \"#46039f\"], [0.2222222222222222, \"#7201a8\"], [0.3333333333333333, \"#9c179e\"], [0.4444444444444444, \"#bd3786\"], [0.5555555555555556, \"#d8576b\"], [0.6666666666666666, \"#ed7953\"], [0.7777777777777778, \"#fb9f3a\"], [0.8888888888888888, \"#fdca26\"], [1.0, \"#f0f921\"]], \"sequentialminus\": [[0.0, \"#0d0887\"], [0.1111111111111111, \"#46039f\"], [0.2222222222222222, \"#7201a8\"], [0.3333333333333333, \"#9c179e\"], [0.4444444444444444, \"#bd3786\"], [0.5555555555555556, \"#d8576b\"], [0.6666666666666666, \"#ed7953\"], [0.7777777777777778, \"#fb9f3a\"], [0.8888888888888888, \"#fdca26\"], [1.0, \"#f0f921\"]]}, \"colorway\": [\"#636efa\", \"#EF553B\", \"#00cc96\", \"#ab63fa\", \"#FFA15A\", \"#19d3f3\", \"#FF6692\", \"#B6E880\", \"#FF97FF\", \"#FECB52\"], \"font\": {\"color\": \"#2a3f5f\"}, \"geo\": {\"bgcolor\": \"white\", \"lakecolor\": \"white\", \"landcolor\": \"#E5ECF6\", \"showlakes\": true, \"showland\": true, \"subunitcolor\": \"white\"}, \"hoverlabel\": {\"align\": \"left\"}, \"hovermode\": \"closest\", \"mapbox\": {\"style\": \"light\"}, \"paper_bgcolor\": \"white\", \"plot_bgcolor\": \"#E5ECF6\", \"polar\": {\"angularaxis\": {\"gridcolor\": \"white\", \"linecolor\": \"white\", \"ticks\": \"\"}, \"bgcolor\": \"#E5ECF6\", \"radialaxis\": {\"gridcolor\": \"white\", \"linecolor\": \"white\", \"ticks\": \"\"}}, \"scene\": {\"xaxis\": {\"backgroundcolor\": \"#E5ECF6\", \"gridcolor\": \"white\", \"gridwidth\": 2, \"linecolor\": \"white\", \"showbackground\": true, \"ticks\": \"\", \"zerolinecolor\": \"white\"}, \"yaxis\": {\"backgroundcolor\": \"#E5ECF6\", \"gridcolor\": \"white\", \"gridwidth\": 2, \"linecolor\": \"white\", \"showbackground\": true, \"ticks\": \"\", \"zerolinecolor\": \"white\"}, \"zaxis\": {\"backgroundcolor\": \"#E5ECF6\", \"gridcolor\": \"white\", \"gridwidth\": 2, \"linecolor\": \"white\", \"showbackground\": true, \"ticks\": \"\", \"zerolinecolor\": \"white\"}}, \"shapedefaults\": {\"line\": {\"color\": \"#2a3f5f\"}}, \"ternary\": {\"aaxis\": {\"gridcolor\": \"white\", \"linecolor\": \"white\", \"ticks\": \"\"}, \"baxis\": {\"gridcolor\": \"white\", \"linecolor\": \"white\", \"ticks\": \"\"}, \"bgcolor\": \"#E5ECF6\", \"caxis\": {\"gridcolor\": \"white\", \"linecolor\": \"white\", \"ticks\": \"\"}}, \"title\": {\"x\": 0.05}, \"xaxis\": {\"automargin\": true, \"gridcolor\": \"white\", \"linecolor\": \"white\", \"ticks\": \"\", \"zerolinecolor\": \"white\", \"zerolinewidth\": 2}, \"yaxis\": {\"automargin\": true, \"gridcolor\": \"white\", \"linecolor\": \"white\", \"ticks\": \"\", \"zerolinecolor\": \"white\", \"zerolinewidth\": 2}}}, \"title\": {\"text\": \"Number of Employees in Baltimore City Government Departments in Fiscal Years 2011-2019\"}, \"xaxis\": {\"anchor\": \"y\", \"domain\": [0.0, 0.98], \"title\": {\"text\": \"fiscal_year\"}}, \"yaxis\": {\"anchor\": \"x\", \"domain\": [0.0, 1.0], \"title\": {\"text\": \"count\"}}},\n",
       "                        {\"responsive\": true}\n",
       "                    ).then(function(){\n",
       "                            \n",
       "var gd = document.getElementById('97ec89ac-ab24-4dc8-956a-24826b5a7701');\n",
       "var x = new MutationObserver(function (mutations, observer) {{\n",
       "        var display = window.getComputedStyle(gd).display;\n",
       "        if (!display || display === 'none') {{\n",
       "            console.log([gd, 'removed!']);\n",
       "            Plotly.purge(gd);\n",
       "            observer.disconnect();\n",
       "        }}\n",
       "}});\n",
       "\n",
       "// Listen for the removal of the full notebook cells\n",
       "var notebookContainer = gd.closest('#notebook-container');\n",
       "if (notebookContainer) {{\n",
       "    x.observe(notebookContainer, {childList: true});\n",
       "}}\n",
       "\n",
       "// Listen for the clearing of the current output cell\n",
       "var outputEl = gd.closest('.output');\n",
       "if (outputEl) {{\n",
       "    x.observe(outputEl, {childList: true});\n",
       "}}\n",
       "\n",
       "                        })\n",
       "                };\n",
       "                });\n",
       "            </script>\n",
       "        </div>"
      ]
     },
     "metadata": {},
     "output_type": "display_data"
    }
   ],
   "source": [
    "line_dept"
   ]
  },
  {
   "cell_type": "code",
   "execution_count": 67,
   "metadata": {},
   "outputs": [
    {
     "data": {
      "text/html": [
       "<div>\n",
       "<style scoped>\n",
       "    .dataframe tbody tr th:only-of-type {\n",
       "        vertical-align: middle;\n",
       "    }\n",
       "\n",
       "    .dataframe tbody tr th {\n",
       "        vertical-align: top;\n",
       "    }\n",
       "\n",
       "    .dataframe thead th {\n",
       "        text-align: right;\n",
       "    }\n",
       "</style>\n",
       "<table border=\"1\" class=\"dataframe\">\n",
       "  <thead>\n",
       "    <tr style=\"text-align: right;\">\n",
       "      <th></th>\n",
       "      <th>fiscal_year</th>\n",
       "      <th>count</th>\n",
       "    </tr>\n",
       "  </thead>\n",
       "  <tbody>\n",
       "    <tr>\n",
       "      <th>0</th>\n",
       "      <td>2011</td>\n",
       "      <td>14454</td>\n",
       "    </tr>\n",
       "    <tr>\n",
       "      <th>1</th>\n",
       "      <td>2012</td>\n",
       "      <td>16049</td>\n",
       "    </tr>\n",
       "    <tr>\n",
       "      <th>2</th>\n",
       "      <td>2013</td>\n",
       "      <td>19137</td>\n",
       "    </tr>\n",
       "    <tr>\n",
       "      <th>3</th>\n",
       "      <td>2014</td>\n",
       "      <td>18981</td>\n",
       "    </tr>\n",
       "    <tr>\n",
       "      <th>4</th>\n",
       "      <td>2015</td>\n",
       "      <td>14017</td>\n",
       "    </tr>\n",
       "    <tr>\n",
       "      <th>5</th>\n",
       "      <td>2016</td>\n",
       "      <td>13818</td>\n",
       "    </tr>\n",
       "    <tr>\n",
       "      <th>6</th>\n",
       "      <td>2017</td>\n",
       "      <td>13483</td>\n",
       "    </tr>\n",
       "    <tr>\n",
       "      <th>7</th>\n",
       "      <td>2018</td>\n",
       "      <td>13683</td>\n",
       "    </tr>\n",
       "    <tr>\n",
       "      <th>8</th>\n",
       "      <td>2019</td>\n",
       "      <td>13811</td>\n",
       "    </tr>\n",
       "  </tbody>\n",
       "</table>\n",
       "</div>"
      ],
      "text/plain": [
       "   fiscal_year  count\n",
       "0         2011  14454\n",
       "1         2012  16049\n",
       "2         2013  19137\n",
       "3         2014  18981\n",
       "4         2015  14017\n",
       "5         2016  13818\n",
       "6         2017  13483\n",
       "7         2018  13683\n",
       "8         2019  13811"
      ]
     },
     "execution_count": 67,
     "metadata": {},
     "output_type": "execute_result"
    }
   ],
   "source": [
    "# we see that the total number of employees hasn't drastically changed for each department over each fiscal year\n",
    "# but this doesn't tell us the turnover of employees in each department\n",
    "# now, we'll calculate employee churn for the entire city government\n",
    "\n",
    "# look at aggregated data\n",
    "df_all_emp"
   ]
  },
  {
   "cell_type": "code",
   "execution_count": 94,
   "metadata": {},
   "outputs": [],
   "source": [
    "# create a new column that calculates the number of employees lost in that fiscal year\n",
    "df_all_emp[\"lost\"] = df_all_emp[\"count\"].diff()*(-1)"
   ]
  },
  {
   "cell_type": "code",
   "execution_count": 95,
   "metadata": {},
   "outputs": [
    {
     "data": {
      "text/html": [
       "<div>\n",
       "<style scoped>\n",
       "    .dataframe tbody tr th:only-of-type {\n",
       "        vertical-align: middle;\n",
       "    }\n",
       "\n",
       "    .dataframe tbody tr th {\n",
       "        vertical-align: top;\n",
       "    }\n",
       "\n",
       "    .dataframe thead th {\n",
       "        text-align: right;\n",
       "    }\n",
       "</style>\n",
       "<table border=\"1\" class=\"dataframe\">\n",
       "  <thead>\n",
       "    <tr style=\"text-align: right;\">\n",
       "      <th></th>\n",
       "      <th>fiscal_year</th>\n",
       "      <th>count</th>\n",
       "      <th>lost</th>\n",
       "      <th>employee_churn</th>\n",
       "      <th>pct_diff</th>\n",
       "    </tr>\n",
       "  </thead>\n",
       "  <tbody>\n",
       "    <tr>\n",
       "      <th>0</th>\n",
       "      <td>2011</td>\n",
       "      <td>14454</td>\n",
       "      <td>NaN</td>\n",
       "      <td>NaN</td>\n",
       "      <td>NaN</td>\n",
       "    </tr>\n",
       "    <tr>\n",
       "      <th>1</th>\n",
       "      <td>2012</td>\n",
       "      <td>16049</td>\n",
       "      <td>-1595.0</td>\n",
       "      <td>9.938314</td>\n",
       "      <td>0.110350</td>\n",
       "    </tr>\n",
       "    <tr>\n",
       "      <th>2</th>\n",
       "      <td>2013</td>\n",
       "      <td>19137</td>\n",
       "      <td>-3088.0</td>\n",
       "      <td>16.136281</td>\n",
       "      <td>0.192411</td>\n",
       "    </tr>\n",
       "    <tr>\n",
       "      <th>3</th>\n",
       "      <td>2014</td>\n",
       "      <td>18981</td>\n",
       "      <td>156.0</td>\n",
       "      <td>-0.821875</td>\n",
       "      <td>-0.008152</td>\n",
       "    </tr>\n",
       "    <tr>\n",
       "      <th>4</th>\n",
       "      <td>2015</td>\n",
       "      <td>14017</td>\n",
       "      <td>4964.0</td>\n",
       "      <td>-35.414140</td>\n",
       "      <td>-0.261525</td>\n",
       "    </tr>\n",
       "    <tr>\n",
       "      <th>5</th>\n",
       "      <td>2016</td>\n",
       "      <td>13818</td>\n",
       "      <td>199.0</td>\n",
       "      <td>-1.440151</td>\n",
       "      <td>-0.014197</td>\n",
       "    </tr>\n",
       "    <tr>\n",
       "      <th>6</th>\n",
       "      <td>2017</td>\n",
       "      <td>13483</td>\n",
       "      <td>335.0</td>\n",
       "      <td>-2.484610</td>\n",
       "      <td>-0.024244</td>\n",
       "    </tr>\n",
       "    <tr>\n",
       "      <th>7</th>\n",
       "      <td>2018</td>\n",
       "      <td>13683</td>\n",
       "      <td>-200.0</td>\n",
       "      <td>1.461668</td>\n",
       "      <td>0.014833</td>\n",
       "    </tr>\n",
       "    <tr>\n",
       "      <th>8</th>\n",
       "      <td>2019</td>\n",
       "      <td>13811</td>\n",
       "      <td>-128.0</td>\n",
       "      <td>0.926797</td>\n",
       "      <td>0.009355</td>\n",
       "    </tr>\n",
       "  </tbody>\n",
       "</table>\n",
       "</div>"
      ],
      "text/plain": [
       "   fiscal_year  count    lost  employee_churn  pct_diff\n",
       "0         2011  14454     NaN             NaN       NaN\n",
       "1         2012  16049 -1595.0        9.938314  0.110350\n",
       "2         2013  19137 -3088.0       16.136281  0.192411\n",
       "3         2014  18981   156.0       -0.821875 -0.008152\n",
       "4         2015  14017  4964.0      -35.414140 -0.261525\n",
       "5         2016  13818   199.0       -1.440151 -0.014197\n",
       "6         2017  13483   335.0       -2.484610 -0.024244\n",
       "7         2018  13683  -200.0        1.461668  0.014833\n",
       "8         2019  13811  -128.0        0.926797  0.009355"
      ]
     },
     "execution_count": 95,
     "metadata": {},
     "output_type": "execute_result"
    }
   ],
   "source": [
    "df_all_emp"
   ]
  },
  {
   "cell_type": "code",
   "execution_count": 96,
   "metadata": {},
   "outputs": [],
   "source": [
    "# customer churn column \n",
    "# lost/total employees\n",
    "df_all_emp[\"employee_churn\"] = (df_all_emp[\"lost\"]/df_all_emp[\"count\"])*100"
   ]
  },
  {
   "cell_type": "code",
   "execution_count": 97,
   "metadata": {},
   "outputs": [
    {
     "data": {
      "text/html": [
       "<div>\n",
       "<style scoped>\n",
       "    .dataframe tbody tr th:only-of-type {\n",
       "        vertical-align: middle;\n",
       "    }\n",
       "\n",
       "    .dataframe tbody tr th {\n",
       "        vertical-align: top;\n",
       "    }\n",
       "\n",
       "    .dataframe thead th {\n",
       "        text-align: right;\n",
       "    }\n",
       "</style>\n",
       "<table border=\"1\" class=\"dataframe\">\n",
       "  <thead>\n",
       "    <tr style=\"text-align: right;\">\n",
       "      <th></th>\n",
       "      <th>fiscal_year</th>\n",
       "      <th>count</th>\n",
       "      <th>lost</th>\n",
       "      <th>employee_churn</th>\n",
       "      <th>pct_diff</th>\n",
       "    </tr>\n",
       "  </thead>\n",
       "  <tbody>\n",
       "    <tr>\n",
       "      <th>0</th>\n",
       "      <td>2011</td>\n",
       "      <td>14454</td>\n",
       "      <td>NaN</td>\n",
       "      <td>NaN</td>\n",
       "      <td>NaN</td>\n",
       "    </tr>\n",
       "    <tr>\n",
       "      <th>1</th>\n",
       "      <td>2012</td>\n",
       "      <td>16049</td>\n",
       "      <td>-1595.0</td>\n",
       "      <td>-9.938314</td>\n",
       "      <td>0.110350</td>\n",
       "    </tr>\n",
       "    <tr>\n",
       "      <th>2</th>\n",
       "      <td>2013</td>\n",
       "      <td>19137</td>\n",
       "      <td>-3088.0</td>\n",
       "      <td>-16.136281</td>\n",
       "      <td>0.192411</td>\n",
       "    </tr>\n",
       "    <tr>\n",
       "      <th>3</th>\n",
       "      <td>2014</td>\n",
       "      <td>18981</td>\n",
       "      <td>156.0</td>\n",
       "      <td>0.821875</td>\n",
       "      <td>-0.008152</td>\n",
       "    </tr>\n",
       "    <tr>\n",
       "      <th>4</th>\n",
       "      <td>2015</td>\n",
       "      <td>14017</td>\n",
       "      <td>4964.0</td>\n",
       "      <td>35.414140</td>\n",
       "      <td>-0.261525</td>\n",
       "    </tr>\n",
       "    <tr>\n",
       "      <th>5</th>\n",
       "      <td>2016</td>\n",
       "      <td>13818</td>\n",
       "      <td>199.0</td>\n",
       "      <td>1.440151</td>\n",
       "      <td>-0.014197</td>\n",
       "    </tr>\n",
       "    <tr>\n",
       "      <th>6</th>\n",
       "      <td>2017</td>\n",
       "      <td>13483</td>\n",
       "      <td>335.0</td>\n",
       "      <td>2.484610</td>\n",
       "      <td>-0.024244</td>\n",
       "    </tr>\n",
       "    <tr>\n",
       "      <th>7</th>\n",
       "      <td>2018</td>\n",
       "      <td>13683</td>\n",
       "      <td>-200.0</td>\n",
       "      <td>-1.461668</td>\n",
       "      <td>0.014833</td>\n",
       "    </tr>\n",
       "    <tr>\n",
       "      <th>8</th>\n",
       "      <td>2019</td>\n",
       "      <td>13811</td>\n",
       "      <td>-128.0</td>\n",
       "      <td>-0.926797</td>\n",
       "      <td>0.009355</td>\n",
       "    </tr>\n",
       "  </tbody>\n",
       "</table>\n",
       "</div>"
      ],
      "text/plain": [
       "   fiscal_year  count    lost  employee_churn  pct_diff\n",
       "0         2011  14454     NaN             NaN       NaN\n",
       "1         2012  16049 -1595.0       -9.938314  0.110350\n",
       "2         2013  19137 -3088.0      -16.136281  0.192411\n",
       "3         2014  18981   156.0        0.821875 -0.008152\n",
       "4         2015  14017  4964.0       35.414140 -0.261525\n",
       "5         2016  13818   199.0        1.440151 -0.014197\n",
       "6         2017  13483   335.0        2.484610 -0.024244\n",
       "7         2018  13683  -200.0       -1.461668  0.014833\n",
       "8         2019  13811  -128.0       -0.926797  0.009355"
      ]
     },
     "execution_count": 97,
     "metadata": {},
     "output_type": "execute_result"
    }
   ],
   "source": [
    "df_all_emp"
   ]
  },
  {
   "cell_type": "code",
   "execution_count": 79,
   "metadata": {},
   "outputs": [
    {
     "data": {
      "text/html": [
       "<div>\n",
       "<style scoped>\n",
       "    .dataframe tbody tr th:only-of-type {\n",
       "        vertical-align: middle;\n",
       "    }\n",
       "\n",
       "    .dataframe tbody tr th {\n",
       "        vertical-align: top;\n",
       "    }\n",
       "\n",
       "    .dataframe thead th {\n",
       "        text-align: right;\n",
       "    }\n",
       "</style>\n",
       "<table border=\"1\" class=\"dataframe\">\n",
       "  <thead>\n",
       "    <tr style=\"text-align: right;\">\n",
       "      <th></th>\n",
       "      <th>fiscal_year</th>\n",
       "      <th>dept_name</th>\n",
       "      <th>count</th>\n",
       "    </tr>\n",
       "  </thead>\n",
       "  <tbody>\n",
       "    <tr>\n",
       "      <th>0</th>\n",
       "      <td>2011</td>\n",
       "      <td>COMP</td>\n",
       "      <td>91</td>\n",
       "    </tr>\n",
       "    <tr>\n",
       "      <th>1</th>\n",
       "      <td>2011</td>\n",
       "      <td>Circuit Court</td>\n",
       "      <td>154</td>\n",
       "    </tr>\n",
       "    <tr>\n",
       "      <th>2</th>\n",
       "      <td>2011</td>\n",
       "      <td>City Council</td>\n",
       "      <td>88</td>\n",
       "    </tr>\n",
       "    <tr>\n",
       "      <th>3</th>\n",
       "      <td>2011</td>\n",
       "      <td>Community Relations</td>\n",
       "      <td>10</td>\n",
       "    </tr>\n",
       "    <tr>\n",
       "      <th>4</th>\n",
       "      <td>2011</td>\n",
       "      <td>Council Services</td>\n",
       "      <td>5</td>\n",
       "    </tr>\n",
       "  </tbody>\n",
       "</table>\n",
       "</div>"
      ],
      "text/plain": [
       "   fiscal_year            dept_name  count\n",
       "0         2011                 COMP     91\n",
       "1         2011        Circuit Court    154\n",
       "2         2011         City Council     88\n",
       "3         2011  Community Relations     10\n",
       "4         2011     Council Services      5"
      ]
     },
     "execution_count": 79,
     "metadata": {},
     "output_type": "execute_result"
    }
   ],
   "source": [
    "df_dept_count.head()"
   ]
  },
  {
   "cell_type": "code",
   "execution_count": 83,
   "metadata": {},
   "outputs": [],
   "source": [
    "# sort by fiscal year and then by department name\n",
    "df_dept_count = df_dept_count.sort_values (by = [\"dept_name\",\"fiscal_year\"])"
   ]
  },
  {
   "cell_type": "code",
   "execution_count": 85,
   "metadata": {},
   "outputs": [
    {
     "data": {
      "text/html": [
       "<div>\n",
       "<style scoped>\n",
       "    .dataframe tbody tr th:only-of-type {\n",
       "        vertical-align: middle;\n",
       "    }\n",
       "\n",
       "    .dataframe tbody tr th {\n",
       "        vertical-align: top;\n",
       "    }\n",
       "\n",
       "    .dataframe thead th {\n",
       "        text-align: right;\n",
       "    }\n",
       "</style>\n",
       "<table border=\"1\" class=\"dataframe\">\n",
       "  <thead>\n",
       "    <tr style=\"text-align: right;\">\n",
       "      <th></th>\n",
       "      <th>fiscal_year</th>\n",
       "      <th>dept_name</th>\n",
       "      <th>count</th>\n",
       "    </tr>\n",
       "  </thead>\n",
       "  <tbody>\n",
       "    <tr>\n",
       "      <th>0</th>\n",
       "      <td>2011</td>\n",
       "      <td>COMP</td>\n",
       "      <td>91</td>\n",
       "    </tr>\n",
       "    <tr>\n",
       "      <th>42</th>\n",
       "      <td>2012</td>\n",
       "      <td>COMP</td>\n",
       "      <td>86</td>\n",
       "    </tr>\n",
       "    <tr>\n",
       "      <th>83</th>\n",
       "      <td>2013</td>\n",
       "      <td>COMP</td>\n",
       "      <td>95</td>\n",
       "    </tr>\n",
       "    <tr>\n",
       "      <th>124</th>\n",
       "      <td>2014</td>\n",
       "      <td>COMP</td>\n",
       "      <td>90</td>\n",
       "    </tr>\n",
       "    <tr>\n",
       "      <th>163</th>\n",
       "      <td>2015</td>\n",
       "      <td>COMP</td>\n",
       "      <td>91</td>\n",
       "    </tr>\n",
       "    <tr>\n",
       "      <th>200</th>\n",
       "      <td>2016</td>\n",
       "      <td>COMP</td>\n",
       "      <td>87</td>\n",
       "    </tr>\n",
       "    <tr>\n",
       "      <th>240</th>\n",
       "      <td>2017</td>\n",
       "      <td>COMP</td>\n",
       "      <td>95</td>\n",
       "    </tr>\n",
       "    <tr>\n",
       "      <th>277</th>\n",
       "      <td>2018</td>\n",
       "      <td>COMP</td>\n",
       "      <td>86</td>\n",
       "    </tr>\n",
       "    <tr>\n",
       "      <th>314</th>\n",
       "      <td>2019</td>\n",
       "      <td>COMP</td>\n",
       "      <td>87</td>\n",
       "    </tr>\n",
       "    <tr>\n",
       "      <th>1</th>\n",
       "      <td>2011</td>\n",
       "      <td>Circuit Court</td>\n",
       "      <td>154</td>\n",
       "    </tr>\n",
       "  </tbody>\n",
       "</table>\n",
       "</div>"
      ],
      "text/plain": [
       "     fiscal_year      dept_name  count\n",
       "0           2011           COMP     91\n",
       "42          2012           COMP     86\n",
       "83          2013           COMP     95\n",
       "124         2014           COMP     90\n",
       "163         2015           COMP     91\n",
       "200         2016           COMP     87\n",
       "240         2017           COMP     95\n",
       "277         2018           COMP     86\n",
       "314         2019           COMP     87\n",
       "1           2011  Circuit Court    154"
      ]
     },
     "execution_count": 85,
     "metadata": {},
     "output_type": "execute_result"
    }
   ],
   "source": [
    "df_dept_count.head(10)"
   ]
  },
  {
   "cell_type": "code",
   "execution_count": 99,
   "metadata": {},
   "outputs": [],
   "source": [
    "# for each fiscal year, calculate the difference between it and the above row\n",
    "df_dept_count[\"lost\"] = np.where(df_dept_count[\"fiscal_year\"].diff() == 1.0, # if fiscal year difference = 1.0\n",
    "                                df_dept_count[\"count\"].diff()* (-1), # calculate the number of employees lost\n",
    "                                \"NaN\") # otherwise NaN"
   ]
  },
  {
   "cell_type": "code",
   "execution_count": 102,
   "metadata": {},
   "outputs": [
    {
     "data": {
      "text/html": [
       "<div>\n",
       "<style scoped>\n",
       "    .dataframe tbody tr th:only-of-type {\n",
       "        vertical-align: middle;\n",
       "    }\n",
       "\n",
       "    .dataframe tbody tr th {\n",
       "        vertical-align: top;\n",
       "    }\n",
       "\n",
       "    .dataframe thead th {\n",
       "        text-align: right;\n",
       "    }\n",
       "</style>\n",
       "<table border=\"1\" class=\"dataframe\">\n",
       "  <thead>\n",
       "    <tr style=\"text-align: right;\">\n",
       "      <th></th>\n",
       "      <th>fiscal_year</th>\n",
       "      <th>dept_name</th>\n",
       "      <th>count</th>\n",
       "      <th>lost</th>\n",
       "    </tr>\n",
       "  </thead>\n",
       "  <tbody>\n",
       "    <tr>\n",
       "      <th>42</th>\n",
       "      <td>2012</td>\n",
       "      <td>COMP</td>\n",
       "      <td>86</td>\n",
       "      <td>5.0</td>\n",
       "    </tr>\n",
       "    <tr>\n",
       "      <th>83</th>\n",
       "      <td>2013</td>\n",
       "      <td>COMP</td>\n",
       "      <td>95</td>\n",
       "      <td>-9.0</td>\n",
       "    </tr>\n",
       "    <tr>\n",
       "      <th>124</th>\n",
       "      <td>2014</td>\n",
       "      <td>COMP</td>\n",
       "      <td>90</td>\n",
       "      <td>5.0</td>\n",
       "    </tr>\n",
       "    <tr>\n",
       "      <th>163</th>\n",
       "      <td>2015</td>\n",
       "      <td>COMP</td>\n",
       "      <td>91</td>\n",
       "      <td>-1.0</td>\n",
       "    </tr>\n",
       "    <tr>\n",
       "      <th>200</th>\n",
       "      <td>2016</td>\n",
       "      <td>COMP</td>\n",
       "      <td>87</td>\n",
       "      <td>4.0</td>\n",
       "    </tr>\n",
       "    <tr>\n",
       "      <th>240</th>\n",
       "      <td>2017</td>\n",
       "      <td>COMP</td>\n",
       "      <td>95</td>\n",
       "      <td>-8.0</td>\n",
       "    </tr>\n",
       "    <tr>\n",
       "      <th>277</th>\n",
       "      <td>2018</td>\n",
       "      <td>COMP</td>\n",
       "      <td>86</td>\n",
       "      <td>9.0</td>\n",
       "    </tr>\n",
       "    <tr>\n",
       "      <th>314</th>\n",
       "      <td>2019</td>\n",
       "      <td>COMP</td>\n",
       "      <td>87</td>\n",
       "      <td>-1.0</td>\n",
       "    </tr>\n",
       "    <tr>\n",
       "      <th>43</th>\n",
       "      <td>2012</td>\n",
       "      <td>Circuit Court</td>\n",
       "      <td>149</td>\n",
       "      <td>5.0</td>\n",
       "    </tr>\n",
       "    <tr>\n",
       "      <th>84</th>\n",
       "      <td>2013</td>\n",
       "      <td>Circuit Court</td>\n",
       "      <td>139</td>\n",
       "      <td>10.0</td>\n",
       "    </tr>\n",
       "  </tbody>\n",
       "</table>\n",
       "</div>"
      ],
      "text/plain": [
       "     fiscal_year      dept_name  count  lost\n",
       "42          2012           COMP     86   5.0\n",
       "83          2013           COMP     95  -9.0\n",
       "124         2014           COMP     90   5.0\n",
       "163         2015           COMP     91  -1.0\n",
       "200         2016           COMP     87   4.0\n",
       "240         2017           COMP     95  -8.0\n",
       "277         2018           COMP     86   9.0\n",
       "314         2019           COMP     87  -1.0\n",
       "43          2012  Circuit Court    149   5.0\n",
       "84          2013  Circuit Court    139  10.0"
      ]
     },
     "execution_count": 102,
     "metadata": {},
     "output_type": "execute_result"
    }
   ],
   "source": [
    "df_dept_count.head(10)"
   ]
  },
  {
   "cell_type": "code",
   "execution_count": 101,
   "metadata": {},
   "outputs": [],
   "source": [
    "# remove all non number \"lost\" rows\n",
    "df_dept_count = df_dept_count[df_dept_count[\"lost\"] != \"NaN\"]"
   ]
  },
  {
   "cell_type": "code",
   "execution_count": 105,
   "metadata": {},
   "outputs": [
    {
     "name": "stderr",
     "output_type": "stream",
     "text": [
      "/anaconda3/lib/python3.6/site-packages/ipykernel_launcher.py:1: SettingWithCopyWarning:\n",
      "\n",
      "\n",
      "A value is trying to be set on a copy of a slice from a DataFrame.\n",
      "Try using .loc[row_indexer,col_indexer] = value instead\n",
      "\n",
      "See the caveats in the documentation: http://pandas.pydata.org/pandas-docs/stable/user_guide/indexing.html#returning-a-view-versus-a-copy\n",
      "\n"
     ]
    }
   ],
   "source": [
    "# redefine as a float\n",
    "df_dept_count[\"lost\"] = df_dept_count[\"lost\"].astype(float)"
   ]
  },
  {
   "cell_type": "code",
   "execution_count": 106,
   "metadata": {},
   "outputs": [
    {
     "name": "stderr",
     "output_type": "stream",
     "text": [
      "/anaconda3/lib/python3.6/site-packages/ipykernel_launcher.py:2: SettingWithCopyWarning:\n",
      "\n",
      "\n",
      "A value is trying to be set on a copy of a slice from a DataFrame.\n",
      "Try using .loc[row_indexer,col_indexer] = value instead\n",
      "\n",
      "See the caveats in the documentation: http://pandas.pydata.org/pandas-docs/stable/user_guide/indexing.html#returning-a-view-versus-a-copy\n",
      "\n"
     ]
    }
   ],
   "source": [
    "# calculate employee churn in each department for each fiscal year\n",
    "df_dept_count[\"churn\"] = (df_dept_count[\"lost\"]/df_dept_count[\"count\"])*100"
   ]
  },
  {
   "cell_type": "code",
   "execution_count": 107,
   "metadata": {},
   "outputs": [
    {
     "data": {
      "text/html": [
       "<div>\n",
       "<style scoped>\n",
       "    .dataframe tbody tr th:only-of-type {\n",
       "        vertical-align: middle;\n",
       "    }\n",
       "\n",
       "    .dataframe tbody tr th {\n",
       "        vertical-align: top;\n",
       "    }\n",
       "\n",
       "    .dataframe thead th {\n",
       "        text-align: right;\n",
       "    }\n",
       "</style>\n",
       "<table border=\"1\" class=\"dataframe\">\n",
       "  <thead>\n",
       "    <tr style=\"text-align: right;\">\n",
       "      <th></th>\n",
       "      <th>fiscal_year</th>\n",
       "      <th>dept_name</th>\n",
       "      <th>count</th>\n",
       "      <th>lost</th>\n",
       "      <th>churn</th>\n",
       "    </tr>\n",
       "  </thead>\n",
       "  <tbody>\n",
       "    <tr>\n",
       "      <th>42</th>\n",
       "      <td>2012</td>\n",
       "      <td>COMP</td>\n",
       "      <td>86</td>\n",
       "      <td>5.0</td>\n",
       "      <td>5.813953</td>\n",
       "    </tr>\n",
       "    <tr>\n",
       "      <th>83</th>\n",
       "      <td>2013</td>\n",
       "      <td>COMP</td>\n",
       "      <td>95</td>\n",
       "      <td>-9.0</td>\n",
       "      <td>-9.473684</td>\n",
       "    </tr>\n",
       "    <tr>\n",
       "      <th>124</th>\n",
       "      <td>2014</td>\n",
       "      <td>COMP</td>\n",
       "      <td>90</td>\n",
       "      <td>5.0</td>\n",
       "      <td>5.555556</td>\n",
       "    </tr>\n",
       "    <tr>\n",
       "      <th>163</th>\n",
       "      <td>2015</td>\n",
       "      <td>COMP</td>\n",
       "      <td>91</td>\n",
       "      <td>-1.0</td>\n",
       "      <td>-1.098901</td>\n",
       "    </tr>\n",
       "    <tr>\n",
       "      <th>200</th>\n",
       "      <td>2016</td>\n",
       "      <td>COMP</td>\n",
       "      <td>87</td>\n",
       "      <td>4.0</td>\n",
       "      <td>4.597701</td>\n",
       "    </tr>\n",
       "    <tr>\n",
       "      <th>240</th>\n",
       "      <td>2017</td>\n",
       "      <td>COMP</td>\n",
       "      <td>95</td>\n",
       "      <td>-8.0</td>\n",
       "      <td>-8.421053</td>\n",
       "    </tr>\n",
       "    <tr>\n",
       "      <th>277</th>\n",
       "      <td>2018</td>\n",
       "      <td>COMP</td>\n",
       "      <td>86</td>\n",
       "      <td>9.0</td>\n",
       "      <td>10.465116</td>\n",
       "    </tr>\n",
       "    <tr>\n",
       "      <th>314</th>\n",
       "      <td>2019</td>\n",
       "      <td>COMP</td>\n",
       "      <td>87</td>\n",
       "      <td>-1.0</td>\n",
       "      <td>-1.149425</td>\n",
       "    </tr>\n",
       "    <tr>\n",
       "      <th>43</th>\n",
       "      <td>2012</td>\n",
       "      <td>Circuit Court</td>\n",
       "      <td>149</td>\n",
       "      <td>5.0</td>\n",
       "      <td>3.355705</td>\n",
       "    </tr>\n",
       "    <tr>\n",
       "      <th>84</th>\n",
       "      <td>2013</td>\n",
       "      <td>Circuit Court</td>\n",
       "      <td>139</td>\n",
       "      <td>10.0</td>\n",
       "      <td>7.194245</td>\n",
       "    </tr>\n",
       "  </tbody>\n",
       "</table>\n",
       "</div>"
      ],
      "text/plain": [
       "     fiscal_year      dept_name  count  lost      churn\n",
       "42          2012           COMP     86   5.0   5.813953\n",
       "83          2013           COMP     95  -9.0  -9.473684\n",
       "124         2014           COMP     90   5.0   5.555556\n",
       "163         2015           COMP     91  -1.0  -1.098901\n",
       "200         2016           COMP     87   4.0   4.597701\n",
       "240         2017           COMP     95  -8.0  -8.421053\n",
       "277         2018           COMP     86   9.0  10.465116\n",
       "314         2019           COMP     87  -1.0  -1.149425\n",
       "43          2012  Circuit Court    149   5.0   3.355705\n",
       "84          2013  Circuit Court    139  10.0   7.194245"
      ]
     },
     "execution_count": 107,
     "metadata": {},
     "output_type": "execute_result"
    }
   ],
   "source": [
    "df_dept_count.head(10)"
   ]
  },
  {
   "cell_type": "code",
   "execution_count": 110,
   "metadata": {},
   "outputs": [],
   "source": [
    "# plot the churn of departments on a line graph\n",
    "line_dept_churn = px.line(df_dept_count, # use revised data frame\n",
    "                         x = \"fiscal_year\", # fiscal year on the x axis\n",
    "                         y = \"churn\", # churn rate on the \n",
    "                          color = \"dept_name\",\n",
    "                         title = \"Baltimore City Employee Churn By Department\")"
   ]
  },
  {
   "cell_type": "code",
   "execution_count": 111,
   "metadata": {},
   "outputs": [
    {
     "data": {
      "application/vnd.plotly.v1+json": {
       "config": {
        "plotlyServerURL": "http://type-here.com"
       },
       "data": [
        {
         "hoverlabel": {
          "namelength": 0
         },
         "hovertemplate": "dept_name=COMP<br>fiscal_year=%{x}<br>churn=%{y}",
         "legendgroup": "dept_name=COMP",
         "line": {
          "color": "#636efa",
          "dash": "solid"
         },
         "mode": "lines",
         "name": "dept_name=COMP",
         "showlegend": true,
         "type": "scatter",
         "x": [
          2012,
          2013,
          2014,
          2015,
          2016,
          2017,
          2018,
          2019
         ],
         "xaxis": "x",
         "y": [
          5.813953488372093,
          -9.473684210526317,
          5.555555555555555,
          -1.098901098901099,
          4.597701149425287,
          -8.421052631578947,
          10.465116279069768,
          -1.1494252873563218
         ],
         "yaxis": "y"
        },
        {
         "hoverlabel": {
          "namelength": 0
         },
         "hovertemplate": "dept_name=Circuit Court<br>fiscal_year=%{x}<br>churn=%{y}",
         "legendgroup": "dept_name=Circuit Court",
         "line": {
          "color": "#EF553B",
          "dash": "solid"
         },
         "mode": "lines",
         "name": "dept_name=Circuit Court",
         "showlegend": true,
         "type": "scatter",
         "x": [
          2012,
          2013,
          2014,
          2015,
          2016,
          2017,
          2018,
          2019
         ],
         "xaxis": "x",
         "y": [
          3.3557046979865772,
          7.194244604316546,
          -0.7142857142857143,
          -0.7092198581560284,
          2.9197080291970803,
          0.7352941176470588,
          2.2556390977443606,
          1.5267175572519083
         ],
         "yaxis": "y"
        },
        {
         "hoverlabel": {
          "namelength": 0
         },
         "hovertemplate": "dept_name=City Council<br>fiscal_year=%{x}<br>churn=%{y}",
         "legendgroup": "dept_name=City Council",
         "line": {
          "color": "#00cc96",
          "dash": "solid"
         },
         "mode": "lines",
         "name": "dept_name=City Council",
         "showlegend": true,
         "type": "scatter",
         "x": [
          2012,
          2013,
          2014,
          2015,
          2016,
          2017,
          2018,
          2019
         ],
         "xaxis": "x",
         "y": [
          -2.2222222222222223,
          3.4482758620689653,
          -6.451612903225806,
          -3.125,
          6.666666666666667,
          4.651162790697675,
          -5.4945054945054945,
          7.0588235294117645
         ],
         "yaxis": "y"
        },
        {
         "hoverlabel": {
          "namelength": 0
         },
         "hovertemplate": "dept_name=Civil Rights & Wage Enforce<br>fiscal_year=%{x}<br>churn=%{y}",
         "legendgroup": "dept_name=Civil Rights & Wage Enforce",
         "line": {
          "color": "#ab63fa",
          "dash": "solid"
         },
         "mode": "lines",
         "name": "dept_name=Civil Rights & Wage Enforce",
         "showlegend": true,
         "type": "scatter",
         "x": [
          2016,
          2017,
          2018,
          2019
         ],
         "xaxis": "x",
         "y": [
          -21.428571428571427,
          -12.5,
          0,
          -30.434782608695656
         ],
         "yaxis": "y"
        },
        {
         "hoverlabel": {
          "namelength": 0
         },
         "hovertemplate": "dept_name=Community Relations<br>fiscal_year=%{x}<br>churn=%{y}",
         "legendgroup": "dept_name=Community Relations",
         "line": {
          "color": "#FFA15A",
          "dash": "solid"
         },
         "mode": "lines",
         "name": "dept_name=Community Relations",
         "showlegend": true,
         "type": "scatter",
         "x": [
          2012
         ],
         "xaxis": "x",
         "y": [
          -16.666666666666664
         ],
         "yaxis": "y"
        },
        {
         "hoverlabel": {
          "namelength": 0
         },
         "hovertemplate": "dept_name=Council Services<br>fiscal_year=%{x}<br>churn=%{y}",
         "legendgroup": "dept_name=Council Services",
         "line": {
          "color": "#19d3f3",
          "dash": "solid"
         },
         "mode": "lines",
         "name": "dept_name=Council Services",
         "showlegend": true,
         "type": "scatter",
         "x": [
          2012,
          2013,
          2014,
          2015,
          2016,
          2017,
          2018,
          2019
         ],
         "xaxis": "x",
         "y": [
          -16.666666666666664,
          0,
          0,
          0,
          0,
          20,
          -16.666666666666664,
          0
         ],
         "yaxis": "y"
        },
        {
         "hoverlabel": {
          "namelength": 0
         },
         "hovertemplate": "dept_name=DPW<br>fiscal_year=%{x}<br>churn=%{y}",
         "legendgroup": "dept_name=DPW",
         "line": {
          "color": "#FF6692",
          "dash": "solid"
         },
         "mode": "lines",
         "name": "dept_name=DPW",
         "showlegend": true,
         "type": "scatter",
         "x": [
          2012,
          2013,
          2014,
          2015,
          2016,
          2017,
          2018,
          2019
         ],
         "xaxis": "x",
         "y": [
          1.2462397937258274,
          -0.21440823327615782,
          -0.21394950791613182,
          -1.3507809202195018,
          0.637213254035684,
          0.42662116040955633,
          1.0780508840017249,
          0.216076058772688
         ],
         "yaxis": "y"
        },
        {
         "hoverlabel": {
          "namelength": 0
         },
         "hovertemplate": "dept_name=ERS/EOS Admin<br>fiscal_year=%{x}<br>churn=%{y}",
         "legendgroup": "dept_name=ERS/EOS Admin",
         "line": {
          "color": "#B6E880",
          "dash": "solid"
         },
         "mode": "lines",
         "name": "dept_name=ERS/EOS Admin",
         "showlegend": true,
         "type": "scatter",
         "x": [
          2012,
          2013,
          2014,
          2015,
          2016,
          2017,
          2018,
          2019
         ],
         "xaxis": "x",
         "y": [
          -3.571428571428571,
          -3.4482758620689653,
          -12.121212121212121,
          3.125,
          3.225806451612903,
          -3.125,
          3.225806451612903,
          -3.125
         ],
         "yaxis": "y"
        },
        {
         "hoverlabel": {
          "namelength": 0
         },
         "hovertemplate": "dept_name=Elections<br>fiscal_year=%{x}<br>churn=%{y}",
         "legendgroup": "dept_name=Elections",
         "line": {
          "color": "#FF97FF",
          "dash": "solid"
         },
         "mode": "lines",
         "name": "dept_name=Elections",
         "showlegend": true,
         "type": "scatter",
         "x": [
          2012,
          2013,
          2014,
          2015,
          2016,
          2017,
          2018,
          2019
         ],
         "xaxis": "x",
         "y": [
          -45.45454545454545,
          37.5,
          0,
          0,
          -27.27272727272727,
          120,
          0,
          -16.666666666666664
         ],
         "yaxis": "y"
        },
        {
         "hoverlabel": {
          "namelength": 0
         },
         "hovertemplate": "dept_name=Enoch Pratt Free Library<br>fiscal_year=%{x}<br>churn=%{y}",
         "legendgroup": "dept_name=Enoch Pratt Free Library",
         "line": {
          "color": "#FECB52",
          "dash": "solid"
         },
         "mode": "lines",
         "name": "dept_name=Enoch Pratt Free Library",
         "showlegend": true,
         "type": "scatter",
         "x": [
          2012,
          2013,
          2014,
          2015,
          2016,
          2017,
          2018,
          2019
         ],
         "xaxis": "x",
         "y": [
          0.683371298405467,
          -7.578947368421053,
          2.591792656587473,
          -2.1141649048625792,
          9.744779582366588,
          0.936768149882904,
          -12.5,
          -2.982107355864811
         ],
         "yaxis": "y"
        },
        {
         "hoverlabel": {
          "namelength": 0
         },
         "hovertemplate": "dept_name=FIN<br>fiscal_year=%{x}<br>churn=%{y}",
         "legendgroup": "dept_name=FIN",
         "line": {
          "color": "#636efa",
          "dash": "solid"
         },
         "mode": "lines",
         "name": "dept_name=FIN",
         "showlegend": true,
         "type": "scatter",
         "x": [
          2012,
          2013,
          2014,
          2015,
          2016,
          2017,
          2018,
          2019
         ],
         "xaxis": "x",
         "y": [
          -5.6939501779359425,
          -1.7482517482517483,
          -0.6944444444444444,
          -0.6896551724137931,
          3.202846975088968,
          1.079136690647482,
          0,
          7.335907335907336
         ],
         "yaxis": "y"
        },
        {
         "hoverlabel": {
          "namelength": 0
         },
         "hovertemplate": "dept_name=FPR Admin<br>fiscal_year=%{x}<br>churn=%{y}",
         "legendgroup": "dept_name=FPR Admin",
         "line": {
          "color": "#EF553B",
          "dash": "solid"
         },
         "mode": "lines",
         "name": "dept_name=FPR Admin",
         "showlegend": true,
         "type": "scatter",
         "x": [
          2012,
          2013,
          2014,
          2015,
          2016,
          2017,
          2018,
          2019
         ],
         "xaxis": "x",
         "y": [
          -4.545454545454546,
          0,
          -12,
          -7.4074074074074066,
          0,
          -3.571428571428571,
          -6.666666666666667,
          15.384615384615385
         ],
         "yaxis": "y"
        },
        {
         "hoverlabel": {
          "namelength": 0
         },
         "hovertemplate": "dept_name=Fire Department<br>fiscal_year=%{x}<br>churn=%{y}",
         "legendgroup": "dept_name=Fire Department",
         "line": {
          "color": "#00cc96",
          "dash": "solid"
         },
         "mode": "lines",
         "name": "dept_name=Fire Department",
         "showlegend": true,
         "type": "scatter",
         "x": [
          2012,
          2013,
          2014,
          2015,
          2016,
          2017,
          2018,
          2019
         ],
         "xaxis": "x",
         "y": [
          -4.855491329479769,
          5.487804878048781,
          4.060913705583756,
          -2.414860681114551,
          0.6857855361596009,
          -6.4723032069970845,
          1.4792899408284024,
          0.5353955978584176
         ],
         "yaxis": "y"
        },
        {
         "hoverlabel": {
          "namelength": 0
         },
         "hovertemplate": "dept_name=General Services<br>fiscal_year=%{x}<br>churn=%{y}",
         "legendgroup": "dept_name=General Services",
         "line": {
          "color": "#ab63fa",
          "dash": "solid"
         },
         "mode": "lines",
         "name": "dept_name=General Services",
         "showlegend": true,
         "type": "scatter",
         "x": [
          2012,
          2013,
          2014,
          2015,
          2016,
          2017,
          2018,
          2019
         ],
         "xaxis": "x",
         "y": [
          -3.64963503649635,
          2.75,
          2.827763496143959,
          8.96358543417367,
          1.4204545454545454,
          2.3255813953488373,
          -5.7534246575342465,
          0.8287292817679558
         ],
         "yaxis": "y"
        },
        {
         "hoverlabel": {
          "namelength": 0
         },
         "hovertemplate": "dept_name=HLTH<br>fiscal_year=%{x}<br>churn=%{y}",
         "legendgroup": "dept_name=HLTH",
         "line": {
          "color": "#FFA15A",
          "dash": "solid"
         },
         "mode": "lines",
         "name": "dept_name=HLTH",
         "showlegend": true,
         "type": "scatter",
         "x": [
          2012,
          2013,
          2014,
          2015,
          2016,
          2017,
          2018,
          2019
         ],
         "xaxis": "x",
         "y": [
          8.189158016147635,
          -9.119496855345911,
          4.490690032858708,
          -4.497907949790795,
          -4.970178926441352,
          25.280199252801992,
          -13.001083423618635,
          2.4417314095449503
         ],
         "yaxis": "y"
        },
        {
         "hoverlabel": {
          "namelength": 0
         },
         "hovertemplate": "dept_name=HR-Human Resources<br>fiscal_year=%{x}<br>churn=%{y}",
         "legendgroup": "dept_name=HR-Human Resources",
         "line": {
          "color": "#19d3f3",
          "dash": "solid"
         },
         "mode": "lines",
         "name": "dept_name=HR-Human Resources",
         "showlegend": true,
         "type": "scatter",
         "x": [
          2012,
          2013,
          2014,
          2015,
          2016,
          2017,
          2018,
          2019
         ],
         "xaxis": "x",
         "y": [
          -4.545454545454546,
          -6.382978723404255,
          -14.545454545454545,
          0,
          -12.698412698412698,
          -10,
          -2.7777777777777777,
          10.76923076923077
         ],
         "yaxis": "y"
        },
        {
         "hoverlabel": {
          "namelength": 0
         },
         "hovertemplate": "dept_name=HR-Test Monitor<br>fiscal_year=%{x}<br>churn=%{y}",
         "legendgroup": "dept_name=HR-Test Monitor",
         "line": {
          "color": "#FF6692",
          "dash": "solid"
         },
         "mode": "lines",
         "name": "dept_name=HR-Test Monitor",
         "showlegend": true,
         "type": "scatter",
         "x": [
          2012,
          2013,
          2014,
          2015,
          2016,
          2017,
          2018,
          2019
         ],
         "xaxis": "x",
         "y": [
          -9.090909090909092,
          -8.333333333333332,
          9.090909090909092,
          0,
          0,
          83.33333333333334,
          -25,
          14.285714285714285
         ],
         "yaxis": "y"
        },
        {
         "hoverlabel": {
          "namelength": 0
         },
         "hovertemplate": "dept_name=Housing & Community Dev<br>fiscal_year=%{x}<br>churn=%{y}",
         "legendgroup": "dept_name=Housing & Community Dev",
         "line": {
          "color": "#B6E880",
          "dash": "solid"
         },
         "mode": "lines",
         "name": "dept_name=Housing & Community Dev",
         "showlegend": true,
         "type": "scatter",
         "x": [
          2012,
          2013,
          2014,
          2015,
          2016,
          2017,
          2018,
          2019
         ],
         "xaxis": "x",
         "y": [
          -3.75234521575985,
          23.094688221709006,
          -2.914798206278027,
          16.145833333333336,
          3.225806451612903,
          7.82608695652174,
          -11.082474226804123,
          -4.901960784313726
         ],
         "yaxis": "y"
        },
        {
         "hoverlabel": {
          "namelength": 0
         },
         "hovertemplate": "dept_name=Law Department<br>fiscal_year=%{x}<br>churn=%{y}",
         "legendgroup": "dept_name=Law Department",
         "line": {
          "color": "#FF97FF",
          "dash": "solid"
         },
         "mode": "lines",
         "name": "dept_name=Law Department",
         "showlegend": true,
         "type": "scatter",
         "x": [
          2012,
          2013,
          2014,
          2015,
          2016,
          2017,
          2018,
          2019
         ],
         "xaxis": "x",
         "y": [
          -7.6190476190476195,
          -1.8691588785046727,
          -2.727272727272727,
          1.8518518518518516,
          1.8867924528301887,
          4.9504950495049505,
          5.208333333333334,
          -10.2803738317757
         ],
         "yaxis": "y"
        },
        {
         "hoverlabel": {
          "namelength": 0
         },
         "hovertemplate": "dept_name=Legislative Reference<br>fiscal_year=%{x}<br>churn=%{y}",
         "legendgroup": "dept_name=Legislative Reference",
         "line": {
          "color": "#FECB52",
          "dash": "solid"
         },
         "mode": "lines",
         "name": "dept_name=Legislative Reference",
         "showlegend": true,
         "type": "scatter",
         "x": [
          2012,
          2013,
          2014,
          2015,
          2016,
          2017,
          2018,
          2019
         ],
         "xaxis": "x",
         "y": [
          0,
          20,
          0,
          0,
          0,
          0,
          25,
          -33.33333333333333
         ],
         "yaxis": "y"
        },
        {
         "hoverlabel": {
          "namelength": 0
         },
         "hovertemplate": "dept_name=Liquor License Board<br>fiscal_year=%{x}<br>churn=%{y}",
         "legendgroup": "dept_name=Liquor License Board",
         "line": {
          "color": "#636efa",
          "dash": "solid"
         },
         "mode": "lines",
         "name": "dept_name=Liquor License Board",
         "showlegend": true,
         "type": "scatter",
         "x": [
          2012,
          2013,
          2014,
          2015,
          2016,
          2017,
          2018,
          2019
         ],
         "xaxis": "x",
         "y": [
          -16.666666666666664,
          24.137931034482758,
          45,
          -16.666666666666664,
          26.31578947368421,
          -13.636363636363635,
          -8.333333333333332,
          9.090909090909092
         ],
         "yaxis": "y"
        },
        {
         "hoverlabel": {
          "namelength": 0
         },
         "hovertemplate": "dept_name=M-R Cable & Comm<br>fiscal_year=%{x}<br>churn=%{y}",
         "legendgroup": "dept_name=M-R Cable & Comm",
         "line": {
          "color": "#EF553B",
          "dash": "solid"
         },
         "mode": "lines",
         "name": "dept_name=M-R Cable & Comm",
         "showlegend": true,
         "type": "scatter",
         "x": [
          2012,
          2013,
          2014,
          2015,
          2016,
          2017,
          2018,
          2019
         ],
         "xaxis": "x",
         "y": [
          0,
          33.33333333333333,
          -25,
          0,
          0,
          0,
          -60,
          0
         ],
         "yaxis": "y"
        },
        {
         "hoverlabel": {
          "namelength": 0
         },
         "hovertemplate": "dept_name=M-R Convention Center<br>fiscal_year=%{x}<br>churn=%{y}",
         "legendgroup": "dept_name=M-R Convention Center",
         "line": {
          "color": "#00cc96",
          "dash": "solid"
         },
         "mode": "lines",
         "name": "dept_name=M-R Convention Center",
         "showlegend": true,
         "type": "scatter",
         "x": [
          2012,
          2013,
          2014,
          2015,
          2016,
          2017,
          2018,
          2019
         ],
         "xaxis": "x",
         "y": [
          -1.0204081632653061,
          -2.4875621890547266,
          6.914893617021277,
          -3.0927835051546393,
          2.6455026455026456,
          1.6129032258064515,
          2.197802197802198,
          1.675977653631285
         ],
         "yaxis": "y"
        },
        {
         "hoverlabel": {
          "namelength": 0
         },
         "hovertemplate": "dept_name=M-R Environmental Cntrl<br>fiscal_year=%{x}<br>churn=%{y}",
         "legendgroup": "dept_name=M-R Environmental Cntrl",
         "line": {
          "color": "#ab63fa",
          "dash": "solid"
         },
         "mode": "lines",
         "name": "dept_name=M-R Environmental Cntrl",
         "showlegend": true,
         "type": "scatter",
         "x": [
          2012,
          2013,
          2014,
          2015,
          2016,
          2017,
          2018,
          2019
         ],
         "xaxis": "x",
         "y": [
          -12.5,
          0,
          0,
          33.33333333333333,
          0,
          -14.285714285714285,
          -12.5,
          -20
         ],
         "yaxis": "y"
        },
        {
         "hoverlabel": {
          "namelength": 0
         },
         "hovertemplate": "dept_name=M-R Human Services<br>fiscal_year=%{x}<br>churn=%{y}",
         "legendgroup": "dept_name=M-R Human Services",
         "line": {
          "color": "#FFA15A",
          "dash": "solid"
         },
         "mode": "lines",
         "name": "dept_name=M-R Human Services",
         "showlegend": true,
         "type": "scatter",
         "x": [
          2014,
          2015,
          2016,
          2017,
          2018,
          2019
         ],
         "xaxis": "x",
         "y": [
          -5.769230769230769,
          -30.201342281879196,
          16.40625,
          15.315315315315313,
          -0.8928571428571428,
          -14.50381679389313
         ],
         "yaxis": "y"
        },
        {
         "hoverlabel": {
          "namelength": 0
         },
         "hovertemplate": "dept_name=M-R Info Technology<br>fiscal_year=%{x}<br>churn=%{y}",
         "legendgroup": "dept_name=M-R Info Technology",
         "line": {
          "color": "#19d3f3",
          "dash": "solid"
         },
         "mode": "lines",
         "name": "dept_name=M-R Info Technology",
         "showlegend": true,
         "type": "scatter",
         "x": [
          2012,
          2013,
          2014,
          2015,
          2016,
          2017,
          2018,
          2019
         ],
         "xaxis": "x",
         "y": [
          11.11111111111111,
          -63.059701492537314,
          -3.2490974729241873,
          2.973977695167286,
          39.37823834196891,
          85.57692307692307,
          -7.142857142857142,
          -5.084745762711865
         ],
         "yaxis": "y"
        },
        {
         "hoverlabel": {
          "namelength": 0
         },
         "hovertemplate": "dept_name=M-R Labor Commissioner<br>fiscal_year=%{x}<br>churn=%{y}",
         "legendgroup": "dept_name=M-R Labor Commissioner",
         "line": {
          "color": "#FF6692",
          "dash": "solid"
         },
         "mode": "lines",
         "name": "dept_name=M-R Labor Commissioner",
         "showlegend": true,
         "type": "scatter",
         "x": [
          2012,
          2013,
          2014,
          2015,
          2016,
          2017,
          2018,
          2019
         ],
         "xaxis": "x",
         "y": [
          0,
          -16.666666666666664,
          0,
          0,
          0,
          0,
          0,
          0
         ],
         "yaxis": "y"
        },
        {
         "hoverlabel": {
          "namelength": 0
         },
         "hovertemplate": "dept_name=Mayors Office<br>fiscal_year=%{x}<br>churn=%{y}",
         "legendgroup": "dept_name=Mayors Office",
         "line": {
          "color": "#B6E880",
          "dash": "solid"
         },
         "mode": "lines",
         "name": "dept_name=Mayors Office",
         "showlegend": true,
         "type": "scatter",
         "x": [
          2012,
          2013,
          2014,
          2015,
          2016,
          2017,
          2018,
          2019
         ],
         "xaxis": "x",
         "y": [
          16.853932584269664,
          1.1363636363636365,
          -12,
          4.166666666666666,
          -3.0303030303030303,
          15.11627906976744,
          -23.893805309734514,
          -27.564102564102566
         ],
         "yaxis": "y"
        },
        {
         "hoverlabel": {
          "namelength": 0
         },
         "hovertemplate": "dept_name=Municipal & Zoning Appeals 001<br>fiscal_year=%{x}<br>churn=%{y}",
         "legendgroup": "dept_name=Municipal & Zoning Appeals 001",
         "line": {
          "color": "#FF97FF",
          "dash": "solid"
         },
         "mode": "lines",
         "name": "dept_name=Municipal & Zoning Appeals 001",
         "showlegend": true,
         "type": "scatter",
         "x": [
          2012,
          2013,
          2016,
          2017,
          2018,
          2019
         ],
         "xaxis": "x",
         "y": [
          -11.11111111111111,
          0,
          0,
          0,
          0,
          -10
         ],
         "yaxis": "y"
        },
        {
         "hoverlabel": {
          "namelength": 0
         },
         "hovertemplate": "dept_name=OED-Employment Dev<br>fiscal_year=%{x}<br>churn=%{y}",
         "legendgroup": "dept_name=OED-Employment Dev",
         "line": {
          "color": "#FECB52",
          "dash": "solid"
         },
         "mode": "lines",
         "name": "dept_name=OED-Employment Dev",
         "showlegend": true,
         "type": "scatter",
         "x": [
          2012,
          2013,
          2014,
          2015,
          2016,
          2017,
          2018,
          2019
         ],
         "xaxis": "x",
         "y": [
          7.6923076923076925,
          6.666666666666667,
          18.181818181818183,
          1.8518518518518516,
          1.25,
          -3.614457831325301,
          0.6060606060606061,
          -0.6024096385542169
         ],
         "yaxis": "y"
        },
        {
         "hoverlabel": {
          "namelength": 0
         },
         "hovertemplate": "dept_name=Orphan's Court<br>fiscal_year=%{x}<br>churn=%{y}",
         "legendgroup": "dept_name=Orphan's Court",
         "line": {
          "color": "#636efa",
          "dash": "solid"
         },
         "mode": "lines",
         "name": "dept_name=Orphan's Court",
         "showlegend": true,
         "type": "scatter",
         "x": [
          2012,
          2013,
          2014,
          2015,
          2016,
          2017,
          2018,
          2019
         ],
         "xaxis": "x",
         "y": [
          -9.090909090909092,
          -8.333333333333332,
          9.090909090909092,
          10,
          -16.666666666666664,
          20,
          -9.090909090909092,
          0
         ],
         "yaxis": "y"
        },
        {
         "hoverlabel": {
          "namelength": 0
         },
         "hovertemplate": "dept_name=Planning Department<br>fiscal_year=%{x}<br>churn=%{y}",
         "legendgroup": "dept_name=Planning Department",
         "line": {
          "color": "#EF553B",
          "dash": "solid"
         },
         "mode": "lines",
         "name": "dept_name=Planning Department",
         "showlegend": true,
         "type": "scatter",
         "x": [
          2012,
          2013,
          2014,
          2015,
          2016,
          2017,
          2018,
          2019
         ],
         "xaxis": "x",
         "y": [
          4.444444444444445,
          -4.25531914893617,
          -2.083333333333333,
          -4,
          -1.9607843137254901,
          -10.526315789473683,
          -1.7241379310344827,
          5.454545454545454
         ],
         "yaxis": "y"
        },
        {
         "hoverlabel": {
          "namelength": 0
         },
         "hovertemplate": "dept_name=Police Department<br>fiscal_year=%{x}<br>churn=%{y}",
         "legendgroup": "dept_name=Police Department",
         "line": {
          "color": "#00cc96",
          "dash": "solid"
         },
         "mode": "lines",
         "name": "dept_name=Police Department",
         "showlegend": true,
         "type": "scatter",
         "x": [
          2012,
          2013,
          2014,
          2015,
          2016,
          2017,
          2018,
          2019
         ],
         "xaxis": "x",
         "y": [
          -1.3525179856115108,
          6.009762050030506,
          2.086577390221115,
          3.6809815950920246,
          2.211221122112211,
          1.6437437101643744,
          -0.7986688851913478,
          0.4009355162044771
         ],
         "yaxis": "y"
        },
        {
         "hoverlabel": {
          "namelength": 0
         },
         "hovertemplate": "dept_name=R&P<br>fiscal_year=%{x}<br>churn=%{y}",
         "legendgroup": "dept_name=R&P",
         "line": {
          "color": "#ab63fa",
          "dash": "solid"
         },
         "mode": "lines",
         "name": "dept_name=R&P",
         "showlegend": true,
         "type": "scatter",
         "x": [
          2012,
          2013,
          2014,
          2015,
          2016,
          2017,
          2018,
          2019
         ],
         "xaxis": "x",
         "y": [
          -14.02116402116402,
          -13.501144164759726,
          -8.289611752360965,
          -1.3457556935817805,
          -6.846673095467695,
          -0.47984644913627633,
          8.428720083246619,
          -11.67279411764706
         ],
         "yaxis": "y"
        },
        {
         "hoverlabel": {
          "namelength": 0
         },
         "hovertemplate": "dept_name=Sheriff's Office<br>fiscal_year=%{x}<br>churn=%{y}",
         "legendgroup": "dept_name=Sheriff's Office",
         "line": {
          "color": "#FFA15A",
          "dash": "solid"
         },
         "mode": "lines",
         "name": "dept_name=Sheriff's Office",
         "showlegend": true,
         "type": "scatter",
         "x": [
          2012,
          2013,
          2014,
          2015,
          2016,
          2017,
          2018,
          2019
         ],
         "xaxis": "x",
         "y": [
          -3.8461538461538463,
          -4.712041884816754,
          -7.281553398058252,
          -1.9047619047619049,
          0.4784688995215311,
          4.5,
          0.5025125628140703,
          7.567567567567568
         ],
         "yaxis": "y"
        },
        {
         "hoverlabel": {
          "namelength": 0
         },
         "hovertemplate": "dept_name=Special City Services<br>fiscal_year=%{x}<br>churn=%{y}",
         "legendgroup": "dept_name=Special City Services",
         "line": {
          "color": "#19d3f3",
          "dash": "solid"
         },
         "mode": "lines",
         "name": "dept_name=Special City Services",
         "showlegend": true,
         "type": "scatter",
         "x": [
          2012,
          2013,
          2014,
          2015,
          2016,
          2017,
          2018,
          2019
         ],
         "xaxis": "x",
         "y": [
          0,
          -33.33333333333333,
          -25,
          0,
          0,
          0,
          33.33333333333333,
          0
         ],
         "yaxis": "y"
        },
        {
         "hoverlabel": {
          "namelength": 0
         },
         "hovertemplate": "dept_name=States Attorneys Office<br>fiscal_year=%{x}<br>churn=%{y}",
         "legendgroup": "dept_name=States Attorneys Office",
         "line": {
          "color": "#FF6692",
          "dash": "solid"
         },
         "mode": "lines",
         "name": "dept_name=States Attorneys Office",
         "showlegend": true,
         "type": "scatter",
         "x": [
          2012,
          2013,
          2014,
          2015,
          2016,
          2017,
          2018,
          2019
         ],
         "xaxis": "x",
         "y": [
          3.591160220994475,
          -0.5494505494505495,
          1.675977653631285,
          0,
          -5.540897097625329,
          -5.486284289276807,
          0.25,
          1.2658227848101267
         ],
         "yaxis": "y"
        },
        {
         "hoverlabel": {
          "namelength": 0
         },
         "hovertemplate": "dept_name=TANF Cust<br>fiscal_year=%{x}<br>churn=%{y}",
         "legendgroup": "dept_name=TANF Cust",
         "line": {
          "color": "#B6E880",
          "dash": "solid"
         },
         "mode": "lines",
         "name": "dept_name=TANF Cust",
         "showlegend": true,
         "type": "scatter",
         "x": [
          2012
         ],
         "xaxis": "x",
         "y": [
          -10
         ],
         "yaxis": "y"
        },
        {
         "hoverlabel": {
          "namelength": 0
         },
         "hovertemplate": "dept_name=TRANS<br>fiscal_year=%{x}<br>churn=%{y}",
         "legendgroup": "dept_name=TRANS",
         "line": {
          "color": "#FF97FF",
          "dash": "solid"
         },
         "mode": "lines",
         "name": "dept_name=TRANS",
         "showlegend": true,
         "type": "scatter",
         "x": [
          2012,
          2013,
          2014,
          2015,
          2016,
          2017,
          2018,
          2019
         ],
         "xaxis": "x",
         "y": [
          -2.9315960912052117,
          -2.601522842639594,
          10.751932536893886,
          4.02046783625731,
          8.056872037914692,
          1.6051364365971106,
          -2.3510971786833856,
          0.949367088607595
         ],
         "yaxis": "y"
        },
        {
         "hoverlabel": {
          "namelength": 0
         },
         "hovertemplate": "dept_name=War Memorial Commission<br>fiscal_year=%{x}<br>churn=%{y}",
         "legendgroup": "dept_name=War Memorial Commission",
         "line": {
          "color": "#FECB52",
          "dash": "solid"
         },
         "mode": "lines",
         "name": "dept_name=War Memorial Commission",
         "showlegend": true,
         "type": "scatter",
         "x": [
          2012
         ],
         "xaxis": "x",
         "y": [
          0
         ],
         "yaxis": "y"
        },
        {
         "hoverlabel": {
          "namelength": 0
         },
         "hovertemplate": "dept_name=Youth Cust<br>fiscal_year=%{x}<br>churn=%{y}",
         "legendgroup": "dept_name=Youth Cust",
         "line": {
          "color": "#636efa",
          "dash": "solid"
         },
         "mode": "lines",
         "name": "dept_name=Youth Cust",
         "showlegend": true,
         "type": "scatter",
         "visible": "legendonly",
         "x": [
          2012,
          2013
         ],
         "xaxis": "x",
         "y": [
          1031.0344827586207,
          383.33333333333337
         ],
         "yaxis": "y"
        },
        {
         "hoverlabel": {
          "namelength": 0
         },
         "hovertemplate": "dept_name=Youth Summer<br>fiscal_year=%{x}<br>churn=%{y}",
         "legendgroup": "dept_name=Youth Summer",
         "line": {
          "color": "#EF553B",
          "dash": "solid"
         },
         "mode": "lines",
         "name": "dept_name=Youth Summer",
         "showlegend": true,
         "type": "scatter",
         "x": [
          2013,
          2014
         ],
         "xaxis": "x",
         "y": [
          -62.84928027095682,
          -1.9306622379074112
         ],
         "yaxis": "y"
        },
        {
         "hoverlabel": {
          "namelength": 0
         },
         "hovertemplate": "dept_name=Youth Temp Adult<br>fiscal_year=%{x}<br>churn=%{y}",
         "legendgroup": "dept_name=Youth Temp Adult",
         "line": {
          "color": "#00cc96",
          "dash": "solid"
         },
         "mode": "lines",
         "name": "dept_name=Youth Temp Adult",
         "showlegend": true,
         "type": "scatter",
         "x": [
          2012,
          2013,
          2014
         ],
         "xaxis": "x",
         "y": [
          -41.935483870967744,
          -53.73134328358209,
          -2.898550724637681
         ],
         "yaxis": "y"
        }
       ],
       "layout": {
        "autosize": true,
        "legend": {
         "tracegroupgap": 0
        },
        "template": {
         "data": {
          "bar": [
           {
            "error_x": {
             "color": "#2a3f5f"
            },
            "error_y": {
             "color": "#2a3f5f"
            },
            "marker": {
             "line": {
              "color": "#E5ECF6",
              "width": 0.5
             }
            },
            "type": "bar"
           }
          ],
          "barpolar": [
           {
            "marker": {
             "line": {
              "color": "#E5ECF6",
              "width": 0.5
             }
            },
            "type": "barpolar"
           }
          ],
          "carpet": [
           {
            "aaxis": {
             "endlinecolor": "#2a3f5f",
             "gridcolor": "white",
             "linecolor": "white",
             "minorgridcolor": "white",
             "startlinecolor": "#2a3f5f"
            },
            "baxis": {
             "endlinecolor": "#2a3f5f",
             "gridcolor": "white",
             "linecolor": "white",
             "minorgridcolor": "white",
             "startlinecolor": "#2a3f5f"
            },
            "type": "carpet"
           }
          ],
          "choropleth": [
           {
            "colorbar": {
             "outlinewidth": 0,
             "ticks": ""
            },
            "type": "choropleth"
           }
          ],
          "contour": [
           {
            "colorbar": {
             "outlinewidth": 0,
             "ticks": ""
            },
            "colorscale": [
             [
              0,
              "#0d0887"
             ],
             [
              0.1111111111111111,
              "#46039f"
             ],
             [
              0.2222222222222222,
              "#7201a8"
             ],
             [
              0.3333333333333333,
              "#9c179e"
             ],
             [
              0.4444444444444444,
              "#bd3786"
             ],
             [
              0.5555555555555556,
              "#d8576b"
             ],
             [
              0.6666666666666666,
              "#ed7953"
             ],
             [
              0.7777777777777778,
              "#fb9f3a"
             ],
             [
              0.8888888888888888,
              "#fdca26"
             ],
             [
              1,
              "#f0f921"
             ]
            ],
            "type": "contour"
           }
          ],
          "contourcarpet": [
           {
            "colorbar": {
             "outlinewidth": 0,
             "ticks": ""
            },
            "type": "contourcarpet"
           }
          ],
          "heatmap": [
           {
            "colorbar": {
             "outlinewidth": 0,
             "ticks": ""
            },
            "colorscale": [
             [
              0,
              "#0d0887"
             ],
             [
              0.1111111111111111,
              "#46039f"
             ],
             [
              0.2222222222222222,
              "#7201a8"
             ],
             [
              0.3333333333333333,
              "#9c179e"
             ],
             [
              0.4444444444444444,
              "#bd3786"
             ],
             [
              0.5555555555555556,
              "#d8576b"
             ],
             [
              0.6666666666666666,
              "#ed7953"
             ],
             [
              0.7777777777777778,
              "#fb9f3a"
             ],
             [
              0.8888888888888888,
              "#fdca26"
             ],
             [
              1,
              "#f0f921"
             ]
            ],
            "type": "heatmap"
           }
          ],
          "heatmapgl": [
           {
            "colorbar": {
             "outlinewidth": 0,
             "ticks": ""
            },
            "colorscale": [
             [
              0,
              "#0d0887"
             ],
             [
              0.1111111111111111,
              "#46039f"
             ],
             [
              0.2222222222222222,
              "#7201a8"
             ],
             [
              0.3333333333333333,
              "#9c179e"
             ],
             [
              0.4444444444444444,
              "#bd3786"
             ],
             [
              0.5555555555555556,
              "#d8576b"
             ],
             [
              0.6666666666666666,
              "#ed7953"
             ],
             [
              0.7777777777777778,
              "#fb9f3a"
             ],
             [
              0.8888888888888888,
              "#fdca26"
             ],
             [
              1,
              "#f0f921"
             ]
            ],
            "type": "heatmapgl"
           }
          ],
          "histogram": [
           {
            "marker": {
             "colorbar": {
              "outlinewidth": 0,
              "ticks": ""
             }
            },
            "type": "histogram"
           }
          ],
          "histogram2d": [
           {
            "colorbar": {
             "outlinewidth": 0,
             "ticks": ""
            },
            "colorscale": [
             [
              0,
              "#0d0887"
             ],
             [
              0.1111111111111111,
              "#46039f"
             ],
             [
              0.2222222222222222,
              "#7201a8"
             ],
             [
              0.3333333333333333,
              "#9c179e"
             ],
             [
              0.4444444444444444,
              "#bd3786"
             ],
             [
              0.5555555555555556,
              "#d8576b"
             ],
             [
              0.6666666666666666,
              "#ed7953"
             ],
             [
              0.7777777777777778,
              "#fb9f3a"
             ],
             [
              0.8888888888888888,
              "#fdca26"
             ],
             [
              1,
              "#f0f921"
             ]
            ],
            "type": "histogram2d"
           }
          ],
          "histogram2dcontour": [
           {
            "colorbar": {
             "outlinewidth": 0,
             "ticks": ""
            },
            "colorscale": [
             [
              0,
              "#0d0887"
             ],
             [
              0.1111111111111111,
              "#46039f"
             ],
             [
              0.2222222222222222,
              "#7201a8"
             ],
             [
              0.3333333333333333,
              "#9c179e"
             ],
             [
              0.4444444444444444,
              "#bd3786"
             ],
             [
              0.5555555555555556,
              "#d8576b"
             ],
             [
              0.6666666666666666,
              "#ed7953"
             ],
             [
              0.7777777777777778,
              "#fb9f3a"
             ],
             [
              0.8888888888888888,
              "#fdca26"
             ],
             [
              1,
              "#f0f921"
             ]
            ],
            "type": "histogram2dcontour"
           }
          ],
          "mesh3d": [
           {
            "colorbar": {
             "outlinewidth": 0,
             "ticks": ""
            },
            "type": "mesh3d"
           }
          ],
          "parcoords": [
           {
            "line": {
             "colorbar": {
              "outlinewidth": 0,
              "ticks": ""
             }
            },
            "type": "parcoords"
           }
          ],
          "scatter": [
           {
            "marker": {
             "colorbar": {
              "outlinewidth": 0,
              "ticks": ""
             }
            },
            "type": "scatter"
           }
          ],
          "scatter3d": [
           {
            "line": {
             "colorbar": {
              "outlinewidth": 0,
              "ticks": ""
             }
            },
            "marker": {
             "colorbar": {
              "outlinewidth": 0,
              "ticks": ""
             }
            },
            "type": "scatter3d"
           }
          ],
          "scattercarpet": [
           {
            "marker": {
             "colorbar": {
              "outlinewidth": 0,
              "ticks": ""
             }
            },
            "type": "scattercarpet"
           }
          ],
          "scattergeo": [
           {
            "marker": {
             "colorbar": {
              "outlinewidth": 0,
              "ticks": ""
             }
            },
            "type": "scattergeo"
           }
          ],
          "scattergl": [
           {
            "marker": {
             "colorbar": {
              "outlinewidth": 0,
              "ticks": ""
             }
            },
            "type": "scattergl"
           }
          ],
          "scattermapbox": [
           {
            "marker": {
             "colorbar": {
              "outlinewidth": 0,
              "ticks": ""
             }
            },
            "type": "scattermapbox"
           }
          ],
          "scatterpolar": [
           {
            "marker": {
             "colorbar": {
              "outlinewidth": 0,
              "ticks": ""
             }
            },
            "type": "scatterpolar"
           }
          ],
          "scatterpolargl": [
           {
            "marker": {
             "colorbar": {
              "outlinewidth": 0,
              "ticks": ""
             }
            },
            "type": "scatterpolargl"
           }
          ],
          "scatterternary": [
           {
            "marker": {
             "colorbar": {
              "outlinewidth": 0,
              "ticks": ""
             }
            },
            "type": "scatterternary"
           }
          ],
          "surface": [
           {
            "colorbar": {
             "outlinewidth": 0,
             "ticks": ""
            },
            "colorscale": [
             [
              0,
              "#0d0887"
             ],
             [
              0.1111111111111111,
              "#46039f"
             ],
             [
              0.2222222222222222,
              "#7201a8"
             ],
             [
              0.3333333333333333,
              "#9c179e"
             ],
             [
              0.4444444444444444,
              "#bd3786"
             ],
             [
              0.5555555555555556,
              "#d8576b"
             ],
             [
              0.6666666666666666,
              "#ed7953"
             ],
             [
              0.7777777777777778,
              "#fb9f3a"
             ],
             [
              0.8888888888888888,
              "#fdca26"
             ],
             [
              1,
              "#f0f921"
             ]
            ],
            "type": "surface"
           }
          ],
          "table": [
           {
            "cells": {
             "fill": {
              "color": "#EBF0F8"
             },
             "line": {
              "color": "white"
             }
            },
            "header": {
             "fill": {
              "color": "#C8D4E3"
             },
             "line": {
              "color": "white"
             }
            },
            "type": "table"
           }
          ]
         },
         "layout": {
          "annotationdefaults": {
           "arrowcolor": "#2a3f5f",
           "arrowhead": 0,
           "arrowwidth": 1
          },
          "colorscale": {
           "diverging": [
            [
             0,
             "#8e0152"
            ],
            [
             0.1,
             "#c51b7d"
            ],
            [
             0.2,
             "#de77ae"
            ],
            [
             0.3,
             "#f1b6da"
            ],
            [
             0.4,
             "#fde0ef"
            ],
            [
             0.5,
             "#f7f7f7"
            ],
            [
             0.6,
             "#e6f5d0"
            ],
            [
             0.7,
             "#b8e186"
            ],
            [
             0.8,
             "#7fbc41"
            ],
            [
             0.9,
             "#4d9221"
            ],
            [
             1,
             "#276419"
            ]
           ],
           "sequential": [
            [
             0,
             "#0d0887"
            ],
            [
             0.1111111111111111,
             "#46039f"
            ],
            [
             0.2222222222222222,
             "#7201a8"
            ],
            [
             0.3333333333333333,
             "#9c179e"
            ],
            [
             0.4444444444444444,
             "#bd3786"
            ],
            [
             0.5555555555555556,
             "#d8576b"
            ],
            [
             0.6666666666666666,
             "#ed7953"
            ],
            [
             0.7777777777777778,
             "#fb9f3a"
            ],
            [
             0.8888888888888888,
             "#fdca26"
            ],
            [
             1,
             "#f0f921"
            ]
           ],
           "sequentialminus": [
            [
             0,
             "#0d0887"
            ],
            [
             0.1111111111111111,
             "#46039f"
            ],
            [
             0.2222222222222222,
             "#7201a8"
            ],
            [
             0.3333333333333333,
             "#9c179e"
            ],
            [
             0.4444444444444444,
             "#bd3786"
            ],
            [
             0.5555555555555556,
             "#d8576b"
            ],
            [
             0.6666666666666666,
             "#ed7953"
            ],
            [
             0.7777777777777778,
             "#fb9f3a"
            ],
            [
             0.8888888888888888,
             "#fdca26"
            ],
            [
             1,
             "#f0f921"
            ]
           ]
          },
          "colorway": [
           "#636efa",
           "#EF553B",
           "#00cc96",
           "#ab63fa",
           "#FFA15A",
           "#19d3f3",
           "#FF6692",
           "#B6E880",
           "#FF97FF",
           "#FECB52"
          ],
          "font": {
           "color": "#2a3f5f"
          },
          "geo": {
           "bgcolor": "white",
           "lakecolor": "white",
           "landcolor": "#E5ECF6",
           "showlakes": true,
           "showland": true,
           "subunitcolor": "white"
          },
          "hoverlabel": {
           "align": "left"
          },
          "hovermode": "closest",
          "mapbox": {
           "style": "light"
          },
          "paper_bgcolor": "white",
          "plot_bgcolor": "#E5ECF6",
          "polar": {
           "angularaxis": {
            "gridcolor": "white",
            "linecolor": "white",
            "ticks": ""
           },
           "bgcolor": "#E5ECF6",
           "radialaxis": {
            "gridcolor": "white",
            "linecolor": "white",
            "ticks": ""
           }
          },
          "scene": {
           "xaxis": {
            "backgroundcolor": "#E5ECF6",
            "gridcolor": "white",
            "gridwidth": 2,
            "linecolor": "white",
            "showbackground": true,
            "ticks": "",
            "zerolinecolor": "white"
           },
           "yaxis": {
            "backgroundcolor": "#E5ECF6",
            "gridcolor": "white",
            "gridwidth": 2,
            "linecolor": "white",
            "showbackground": true,
            "ticks": "",
            "zerolinecolor": "white"
           },
           "zaxis": {
            "backgroundcolor": "#E5ECF6",
            "gridcolor": "white",
            "gridwidth": 2,
            "linecolor": "white",
            "showbackground": true,
            "ticks": "",
            "zerolinecolor": "white"
           }
          },
          "shapedefaults": {
           "line": {
            "color": "#2a3f5f"
           }
          },
          "ternary": {
           "aaxis": {
            "gridcolor": "white",
            "linecolor": "white",
            "ticks": ""
           },
           "baxis": {
            "gridcolor": "white",
            "linecolor": "white",
            "ticks": ""
           },
           "bgcolor": "#E5ECF6",
           "caxis": {
            "gridcolor": "white",
            "linecolor": "white",
            "ticks": ""
           }
          },
          "title": {
           "x": 0.05
          },
          "xaxis": {
           "automargin": true,
           "gridcolor": "white",
           "linecolor": "white",
           "ticks": "",
           "zerolinecolor": "white",
           "zerolinewidth": 2
          },
          "yaxis": {
           "automargin": true,
           "gridcolor": "white",
           "linecolor": "white",
           "ticks": "",
           "zerolinecolor": "white",
           "zerolinewidth": 2
          }
         }
        },
        "title": {
         "text": "Baltimore City Employee Churn By Department"
        },
        "xaxis": {
         "anchor": "y",
         "autorange": true,
         "domain": [
          0,
          0.98
         ],
         "range": [
          2012,
          2019
         ],
         "title": {
          "text": "fiscal_year"
         },
         "type": "linear"
        },
        "yaxis": {
         "anchor": "x",
         "autorange": true,
         "domain": [
          0,
          1
         ],
         "range": [
          -73.22968490878938,
          130.16998341625208
         ],
         "title": {
          "text": "churn"
         },
         "type": "linear"
        }
       }
      },
      "image/png": "[encoded data removed]",
      "text/html": [
       "<div>\n",
       "        \n",
       "        \n",
       "            <div id=\"2c6a0752-3fc0-47b1-a47b-ffd1bb05cf61\" class=\"plotly-graph-div\" style=\"height:600px; width:100%;\"></div>\n",
       "            <script type=\"text/javascript\">\n",
       "                require([\"plotly\"], function(Plotly) {\n",
       "                    window.PLOTLYENV=window.PLOTLYENV || {};\n",
       "                    \n",
       "                if (document.getElementById(\"2c6a0752-3fc0-47b1-a47b-ffd1bb05cf61\")) {\n",
       "                    Plotly.newPlot(\n",
       "                        '2c6a0752-3fc0-47b1-a47b-ffd1bb05cf61',\n",
       "                        [{\"hoverlabel\": {\"namelength\": 0}, \"hovertemplate\": \"dept_name=COMP<br>fiscal_year=%{x}<br>churn=%{y}\", \"legendgroup\": \"dept_name=COMP\", \"line\": {\"color\": \"#636efa\", \"dash\": \"solid\"}, \"mode\": \"lines\", \"name\": \"dept_name=COMP\", \"showlegend\": true, \"type\": \"scatter\", \"x\": [2012, 2013, 2014, 2015, 2016, 2017, 2018, 2019], \"xaxis\": \"x\", \"y\": [5.813953488372093, -9.473684210526317, 5.555555555555555, -1.098901098901099, 4.597701149425287, -8.421052631578947, 10.465116279069768, -1.1494252873563218], \"yaxis\": \"y\"}, {\"hoverlabel\": {\"namelength\": 0}, \"hovertemplate\": \"dept_name=Circuit Court<br>fiscal_year=%{x}<br>churn=%{y}\", \"legendgroup\": \"dept_name=Circuit Court\", \"line\": {\"color\": \"#EF553B\", \"dash\": \"solid\"}, \"mode\": \"lines\", \"name\": \"dept_name=Circuit Court\", \"showlegend\": true, \"type\": \"scatter\", \"x\": [2012, 2013, 2014, 2015, 2016, 2017, 2018, 2019], \"xaxis\": \"x\", \"y\": [3.3557046979865772, 7.194244604316546, -0.7142857142857143, -0.7092198581560284, 2.9197080291970803, 0.7352941176470588, 2.2556390977443606, 1.5267175572519083], \"yaxis\": \"y\"}, {\"hoverlabel\": {\"namelength\": 0}, \"hovertemplate\": \"dept_name=City Council<br>fiscal_year=%{x}<br>churn=%{y}\", \"legendgroup\": \"dept_name=City Council\", \"line\": {\"color\": \"#00cc96\", \"dash\": \"solid\"}, \"mode\": \"lines\", \"name\": \"dept_name=City Council\", \"showlegend\": true, \"type\": \"scatter\", \"x\": [2012, 2013, 2014, 2015, 2016, 2017, 2018, 2019], \"xaxis\": \"x\", \"y\": [-2.2222222222222223, 3.4482758620689653, -6.451612903225806, -3.125, 6.666666666666667, 4.651162790697675, -5.4945054945054945, 7.0588235294117645], \"yaxis\": \"y\"}, {\"hoverlabel\": {\"namelength\": 0}, \"hovertemplate\": \"dept_name=Civil Rights & Wage Enforce<br>fiscal_year=%{x}<br>churn=%{y}\", \"legendgroup\": \"dept_name=Civil Rights & Wage Enforce\", \"line\": {\"color\": \"#ab63fa\", \"dash\": \"solid\"}, \"mode\": \"lines\", \"name\": \"dept_name=Civil Rights & Wage Enforce\", \"showlegend\": true, \"type\": \"scatter\", \"x\": [2016, 2017, 2018, 2019], \"xaxis\": \"x\", \"y\": [-21.428571428571427, -12.5, -0.0, -30.434782608695656], \"yaxis\": \"y\"}, {\"hoverlabel\": {\"namelength\": 0}, \"hovertemplate\": \"dept_name=Community Relations<br>fiscal_year=%{x}<br>churn=%{y}\", \"legendgroup\": \"dept_name=Community Relations\", \"line\": {\"color\": \"#FFA15A\", \"dash\": \"solid\"}, \"mode\": \"lines\", \"name\": \"dept_name=Community Relations\", \"showlegend\": true, \"type\": \"scatter\", \"x\": [2012], \"xaxis\": \"x\", \"y\": [-16.666666666666664], \"yaxis\": \"y\"}, {\"hoverlabel\": {\"namelength\": 0}, \"hovertemplate\": \"dept_name=Council Services<br>fiscal_year=%{x}<br>churn=%{y}\", \"legendgroup\": \"dept_name=Council Services\", \"line\": {\"color\": \"#19d3f3\", \"dash\": \"solid\"}, \"mode\": \"lines\", \"name\": \"dept_name=Council Services\", \"showlegend\": true, \"type\": \"scatter\", \"x\": [2012, 2013, 2014, 2015, 2016, 2017, 2018, 2019], \"xaxis\": \"x\", \"y\": [-16.666666666666664, -0.0, -0.0, -0.0, -0.0, 20.0, -16.666666666666664, -0.0], \"yaxis\": \"y\"}, {\"hoverlabel\": {\"namelength\": 0}, \"hovertemplate\": \"dept_name=DPW<br>fiscal_year=%{x}<br>churn=%{y}\", \"legendgroup\": \"dept_name=DPW\", \"line\": {\"color\": \"#FF6692\", \"dash\": \"solid\"}, \"mode\": \"lines\", \"name\": \"dept_name=DPW\", \"showlegend\": true, \"type\": \"scatter\", \"x\": [2012, 2013, 2014, 2015, 2016, 2017, 2018, 2019], \"xaxis\": \"x\", \"y\": [1.2462397937258274, -0.21440823327615782, -0.21394950791613182, -1.3507809202195018, 0.637213254035684, 0.42662116040955633, 1.0780508840017249, 0.216076058772688], \"yaxis\": \"y\"}, {\"hoverlabel\": {\"namelength\": 0}, \"hovertemplate\": \"dept_name=ERS/EOS Admin<br>fiscal_year=%{x}<br>churn=%{y}\", \"legendgroup\": \"dept_name=ERS/EOS Admin\", \"line\": {\"color\": \"#B6E880\", \"dash\": \"solid\"}, \"mode\": \"lines\", \"name\": \"dept_name=ERS/EOS Admin\", \"showlegend\": true, \"type\": \"scatter\", \"x\": [2012, 2013, 2014, 2015, 2016, 2017, 2018, 2019], \"xaxis\": \"x\", \"y\": [-3.571428571428571, -3.4482758620689653, -12.121212121212121, 3.125, 3.225806451612903, -3.125, 3.225806451612903, -3.125], \"yaxis\": \"y\"}, {\"hoverlabel\": {\"namelength\": 0}, \"hovertemplate\": \"dept_name=Elections<br>fiscal_year=%{x}<br>churn=%{y}\", \"legendgroup\": \"dept_name=Elections\", \"line\": {\"color\": \"#FF97FF\", \"dash\": \"solid\"}, \"mode\": \"lines\", \"name\": \"dept_name=Elections\", \"showlegend\": true, \"type\": \"scatter\", \"x\": [2012, 2013, 2014, 2015, 2016, 2017, 2018, 2019], \"xaxis\": \"x\", \"y\": [-45.45454545454545, 37.5, -0.0, -0.0, -27.27272727272727, 120.0, -0.0, -16.666666666666664], \"yaxis\": \"y\"}, {\"hoverlabel\": {\"namelength\": 0}, \"hovertemplate\": \"dept_name=Enoch Pratt Free Library<br>fiscal_year=%{x}<br>churn=%{y}\", \"legendgroup\": \"dept_name=Enoch Pratt Free Library\", \"line\": {\"color\": \"#FECB52\", \"dash\": \"solid\"}, \"mode\": \"lines\", \"name\": \"dept_name=Enoch Pratt Free Library\", \"showlegend\": true, \"type\": \"scatter\", \"x\": [2012, 2013, 2014, 2015, 2016, 2017, 2018, 2019], \"xaxis\": \"x\", \"y\": [0.683371298405467, -7.578947368421053, 2.591792656587473, -2.1141649048625792, 9.744779582366588, 0.936768149882904, -12.5, -2.982107355864811], \"yaxis\": \"y\"}, {\"hoverlabel\": {\"namelength\": 0}, \"hovertemplate\": \"dept_name=FIN<br>fiscal_year=%{x}<br>churn=%{y}\", \"legendgroup\": \"dept_name=FIN\", \"line\": {\"color\": \"#636efa\", \"dash\": \"solid\"}, \"mode\": \"lines\", \"name\": \"dept_name=FIN\", \"showlegend\": true, \"type\": \"scatter\", \"x\": [2012, 2013, 2014, 2015, 2016, 2017, 2018, 2019], \"xaxis\": \"x\", \"y\": [-5.6939501779359425, -1.7482517482517483, -0.6944444444444444, -0.6896551724137931, 3.202846975088968, 1.079136690647482, -0.0, 7.335907335907336], \"yaxis\": \"y\"}, {\"hoverlabel\": {\"namelength\": 0}, \"hovertemplate\": \"dept_name=FPR Admin<br>fiscal_year=%{x}<br>churn=%{y}\", \"legendgroup\": \"dept_name=FPR Admin\", \"line\": {\"color\": \"#EF553B\", \"dash\": \"solid\"}, \"mode\": \"lines\", \"name\": \"dept_name=FPR Admin\", \"showlegend\": true, \"type\": \"scatter\", \"x\": [2012, 2013, 2014, 2015, 2016, 2017, 2018, 2019], \"xaxis\": \"x\", \"y\": [-4.545454545454546, -0.0, -12.0, -7.4074074074074066, -0.0, -3.571428571428571, -6.666666666666667, 15.384615384615385], \"yaxis\": \"y\"}, {\"hoverlabel\": {\"namelength\": 0}, \"hovertemplate\": \"dept_name=Fire Department<br>fiscal_year=%{x}<br>churn=%{y}\", \"legendgroup\": \"dept_name=Fire Department\", \"line\": {\"color\": \"#00cc96\", \"dash\": \"solid\"}, \"mode\": \"lines\", \"name\": \"dept_name=Fire Department\", \"showlegend\": true, \"type\": \"scatter\", \"x\": [2012, 2013, 2014, 2015, 2016, 2017, 2018, 2019], \"xaxis\": \"x\", \"y\": [-4.855491329479769, 5.487804878048781, 4.060913705583756, -2.414860681114551, 0.6857855361596009, -6.4723032069970845, 1.4792899408284024, 0.5353955978584176], \"yaxis\": \"y\"}, {\"hoverlabel\": {\"namelength\": 0}, \"hovertemplate\": \"dept_name=General Services<br>fiscal_year=%{x}<br>churn=%{y}\", \"legendgroup\": \"dept_name=General Services\", \"line\": {\"color\": \"#ab63fa\", \"dash\": \"solid\"}, \"mode\": \"lines\", \"name\": \"dept_name=General Services\", \"showlegend\": true, \"type\": \"scatter\", \"x\": [2012, 2013, 2014, 2015, 2016, 2017, 2018, 2019], \"xaxis\": \"x\", \"y\": [-3.64963503649635, 2.75, 2.827763496143959, 8.96358543417367, 1.4204545454545454, 2.3255813953488373, -5.7534246575342465, 0.8287292817679558], \"yaxis\": \"y\"}, {\"hoverlabel\": {\"namelength\": 0}, \"hovertemplate\": \"dept_name=HLTH<br>fiscal_year=%{x}<br>churn=%{y}\", \"legendgroup\": \"dept_name=HLTH\", \"line\": {\"color\": \"#FFA15A\", \"dash\": \"solid\"}, \"mode\": \"lines\", \"name\": \"dept_name=HLTH\", \"showlegend\": true, \"type\": \"scatter\", \"x\": [2012, 2013, 2014, 2015, 2016, 2017, 2018, 2019], \"xaxis\": \"x\", \"y\": [8.189158016147635, -9.119496855345911, 4.490690032858708, -4.497907949790795, -4.970178926441352, 25.280199252801992, -13.001083423618635, 2.4417314095449503], \"yaxis\": \"y\"}, {\"hoverlabel\": {\"namelength\": 0}, \"hovertemplate\": \"dept_name=HR-Human Resources<br>fiscal_year=%{x}<br>churn=%{y}\", \"legendgroup\": \"dept_name=HR-Human Resources\", \"line\": {\"color\": \"#19d3f3\", \"dash\": \"solid\"}, \"mode\": \"lines\", \"name\": \"dept_name=HR-Human Resources\", \"showlegend\": true, \"type\": \"scatter\", \"x\": [2012, 2013, 2014, 2015, 2016, 2017, 2018, 2019], \"xaxis\": \"x\", \"y\": [-4.545454545454546, -6.382978723404255, -14.545454545454545, -0.0, -12.698412698412698, -10.0, -2.7777777777777777, 10.76923076923077], \"yaxis\": \"y\"}, {\"hoverlabel\": {\"namelength\": 0}, \"hovertemplate\": \"dept_name=HR-Test Monitor<br>fiscal_year=%{x}<br>churn=%{y}\", \"legendgroup\": \"dept_name=HR-Test Monitor\", \"line\": {\"color\": \"#FF6692\", \"dash\": \"solid\"}, \"mode\": \"lines\", \"name\": \"dept_name=HR-Test Monitor\", \"showlegend\": true, \"type\": \"scatter\", \"x\": [2012, 2013, 2014, 2015, 2016, 2017, 2018, 2019], \"xaxis\": \"x\", \"y\": [-9.090909090909092, -8.333333333333332, 9.090909090909092, -0.0, -0.0, 83.33333333333334, -25.0, 14.285714285714285], \"yaxis\": \"y\"}, {\"hoverlabel\": {\"namelength\": 0}, \"hovertemplate\": \"dept_name=Housing & Community Dev<br>fiscal_year=%{x}<br>churn=%{y}\", \"legendgroup\": \"dept_name=Housing & Community Dev\", \"line\": {\"color\": \"#B6E880\", \"dash\": \"solid\"}, \"mode\": \"lines\", \"name\": \"dept_name=Housing & Community Dev\", \"showlegend\": true, \"type\": \"scatter\", \"x\": [2012, 2013, 2014, 2015, 2016, 2017, 2018, 2019], \"xaxis\": \"x\", \"y\": [-3.75234521575985, 23.094688221709006, -2.914798206278027, 16.145833333333336, 3.225806451612903, 7.82608695652174, -11.082474226804123, -4.901960784313726], \"yaxis\": \"y\"}, {\"hoverlabel\": {\"namelength\": 0}, \"hovertemplate\": \"dept_name=Law Department<br>fiscal_year=%{x}<br>churn=%{y}\", \"legendgroup\": \"dept_name=Law Department\", \"line\": {\"color\": \"#FF97FF\", \"dash\": \"solid\"}, \"mode\": \"lines\", \"name\": \"dept_name=Law Department\", \"showlegend\": true, \"type\": \"scatter\", \"x\": [2012, 2013, 2014, 2015, 2016, 2017, 2018, 2019], \"xaxis\": \"x\", \"y\": [-7.6190476190476195, -1.8691588785046727, -2.727272727272727, 1.8518518518518516, 1.8867924528301887, 4.9504950495049505, 5.208333333333334, -10.2803738317757], \"yaxis\": \"y\"}, {\"hoverlabel\": {\"namelength\": 0}, \"hovertemplate\": \"dept_name=Legislative Reference<br>fiscal_year=%{x}<br>churn=%{y}\", \"legendgroup\": \"dept_name=Legislative Reference\", \"line\": {\"color\": \"#FECB52\", \"dash\": \"solid\"}, \"mode\": \"lines\", \"name\": \"dept_name=Legislative Reference\", \"showlegend\": true, \"type\": \"scatter\", \"x\": [2012, 2013, 2014, 2015, 2016, 2017, 2018, 2019], \"xaxis\": \"x\", \"y\": [-0.0, 20.0, -0.0, -0.0, -0.0, -0.0, 25.0, -33.33333333333333], \"yaxis\": \"y\"}, {\"hoverlabel\": {\"namelength\": 0}, \"hovertemplate\": \"dept_name=Liquor License Board<br>fiscal_year=%{x}<br>churn=%{y}\", \"legendgroup\": \"dept_name=Liquor License Board\", \"line\": {\"color\": \"#636efa\", \"dash\": \"solid\"}, \"mode\": \"lines\", \"name\": \"dept_name=Liquor License Board\", \"showlegend\": true, \"type\": \"scatter\", \"x\": [2012, 2013, 2014, 2015, 2016, 2017, 2018, 2019], \"xaxis\": \"x\", \"y\": [-16.666666666666664, 24.137931034482758, 45.0, -16.666666666666664, 26.31578947368421, -13.636363636363635, -8.333333333333332, 9.090909090909092], \"yaxis\": \"y\"}, {\"hoverlabel\": {\"namelength\": 0}, \"hovertemplate\": \"dept_name=M-R Cable & Comm<br>fiscal_year=%{x}<br>churn=%{y}\", \"legendgroup\": \"dept_name=M-R Cable & Comm\", \"line\": {\"color\": \"#EF553B\", \"dash\": \"solid\"}, \"mode\": \"lines\", \"name\": \"dept_name=M-R Cable & Comm\", \"showlegend\": true, \"type\": \"scatter\", \"x\": [2012, 2013, 2014, 2015, 2016, 2017, 2018, 2019], \"xaxis\": \"x\", \"y\": [-0.0, 33.33333333333333, -25.0, -0.0, -0.0, -0.0, -60.0, -0.0], \"yaxis\": \"y\"}, {\"hoverlabel\": {\"namelength\": 0}, \"hovertemplate\": \"dept_name=M-R Convention Center<br>fiscal_year=%{x}<br>churn=%{y}\", \"legendgroup\": \"dept_name=M-R Convention Center\", \"line\": {\"color\": \"#00cc96\", \"dash\": \"solid\"}, \"mode\": \"lines\", \"name\": \"dept_name=M-R Convention Center\", \"showlegend\": true, \"type\": \"scatter\", \"x\": [2012, 2013, 2014, 2015, 2016, 2017, 2018, 2019], \"xaxis\": \"x\", \"y\": [-1.0204081632653061, -2.4875621890547266, 6.914893617021277, -3.0927835051546393, 2.6455026455026456, 1.6129032258064515, 2.197802197802198, 1.675977653631285], \"yaxis\": \"y\"}, {\"hoverlabel\": {\"namelength\": 0}, \"hovertemplate\": \"dept_name=M-R Environmental Cntrl<br>fiscal_year=%{x}<br>churn=%{y}\", \"legendgroup\": \"dept_name=M-R Environmental Cntrl\", \"line\": {\"color\": \"#ab63fa\", \"dash\": \"solid\"}, \"mode\": \"lines\", \"name\": \"dept_name=M-R Environmental Cntrl\", \"showlegend\": true, \"type\": \"scatter\", \"x\": [2012, 2013, 2014, 2015, 2016, 2017, 2018, 2019], \"xaxis\": \"x\", \"y\": [-12.5, -0.0, -0.0, 33.33333333333333, -0.0, -14.285714285714285, -12.5, -20.0], \"yaxis\": \"y\"}, {\"hoverlabel\": {\"namelength\": 0}, \"hovertemplate\": \"dept_name=M-R Human Services<br>fiscal_year=%{x}<br>churn=%{y}\", \"legendgroup\": \"dept_name=M-R Human Services\", \"line\": {\"color\": \"#FFA15A\", \"dash\": \"solid\"}, \"mode\": \"lines\", \"name\": \"dept_name=M-R Human Services\", \"showlegend\": true, \"type\": \"scatter\", \"x\": [2014, 2015, 2016, 2017, 2018, 2019], \"xaxis\": \"x\", \"y\": [-5.769230769230769, -30.201342281879196, 16.40625, 15.315315315315313, -0.8928571428571428, -14.50381679389313], \"yaxis\": \"y\"}, {\"hoverlabel\": {\"namelength\": 0}, \"hovertemplate\": \"dept_name=M-R Info Technology<br>fiscal_year=%{x}<br>churn=%{y}\", \"legendgroup\": \"dept_name=M-R Info Technology\", \"line\": {\"color\": \"#19d3f3\", \"dash\": \"solid\"}, \"mode\": \"lines\", \"name\": \"dept_name=M-R Info Technology\", \"showlegend\": true, \"type\": \"scatter\", \"x\": [2012, 2013, 2014, 2015, 2016, 2017, 2018, 2019], \"xaxis\": \"x\", \"y\": [11.11111111111111, -63.059701492537314, -3.2490974729241873, 2.973977695167286, 39.37823834196891, 85.57692307692307, -7.142857142857142, -5.084745762711865], \"yaxis\": \"y\"}, {\"hoverlabel\": {\"namelength\": 0}, \"hovertemplate\": \"dept_name=M-R Labor Commissioner<br>fiscal_year=%{x}<br>churn=%{y}\", \"legendgroup\": \"dept_name=M-R Labor Commissioner\", \"line\": {\"color\": \"#FF6692\", \"dash\": \"solid\"}, \"mode\": \"lines\", \"name\": \"dept_name=M-R Labor Commissioner\", \"showlegend\": true, \"type\": \"scatter\", \"x\": [2012, 2013, 2014, 2015, 2016, 2017, 2018, 2019], \"xaxis\": \"x\", \"y\": [-0.0, -16.666666666666664, -0.0, -0.0, -0.0, -0.0, -0.0, -0.0], \"yaxis\": \"y\"}, {\"hoverlabel\": {\"namelength\": 0}, \"hovertemplate\": \"dept_name=Mayors Office<br>fiscal_year=%{x}<br>churn=%{y}\", \"legendgroup\": \"dept_name=Mayors Office\", \"line\": {\"color\": \"#B6E880\", \"dash\": \"solid\"}, \"mode\": \"lines\", \"name\": \"dept_name=Mayors Office\", \"showlegend\": true, \"type\": \"scatter\", \"x\": [2012, 2013, 2014, 2015, 2016, 2017, 2018, 2019], \"xaxis\": \"x\", \"y\": [16.853932584269664, 1.1363636363636365, -12.0, 4.166666666666666, -3.0303030303030303, 15.11627906976744, -23.893805309734514, -27.564102564102566], \"yaxis\": \"y\"}, {\"hoverlabel\": {\"namelength\": 0}, \"hovertemplate\": \"dept_name=Municipal & Zoning Appeals 001<br>fiscal_year=%{x}<br>churn=%{y}\", \"legendgroup\": \"dept_name=Municipal & Zoning Appeals 001\", \"line\": {\"color\": \"#FF97FF\", \"dash\": \"solid\"}, \"mode\": \"lines\", \"name\": \"dept_name=Municipal & Zoning Appeals 001\", \"showlegend\": true, \"type\": \"scatter\", \"x\": [2012, 2013, 2016, 2017, 2018, 2019], \"xaxis\": \"x\", \"y\": [-11.11111111111111, -0.0, -0.0, -0.0, -0.0, -10.0], \"yaxis\": \"y\"}, {\"hoverlabel\": {\"namelength\": 0}, \"hovertemplate\": \"dept_name=OED-Employment Dev<br>fiscal_year=%{x}<br>churn=%{y}\", \"legendgroup\": \"dept_name=OED-Employment Dev\", \"line\": {\"color\": \"#FECB52\", \"dash\": \"solid\"}, \"mode\": \"lines\", \"name\": \"dept_name=OED-Employment Dev\", \"showlegend\": true, \"type\": \"scatter\", \"x\": [2012, 2013, 2014, 2015, 2016, 2017, 2018, 2019], \"xaxis\": \"x\", \"y\": [7.6923076923076925, 6.666666666666667, 18.181818181818183, 1.8518518518518516, 1.25, -3.614457831325301, 0.6060606060606061, -0.6024096385542169], \"yaxis\": \"y\"}, {\"hoverlabel\": {\"namelength\": 0}, \"hovertemplate\": \"dept_name=Orphan's Court<br>fiscal_year=%{x}<br>churn=%{y}\", \"legendgroup\": \"dept_name=Orphan's Court\", \"line\": {\"color\": \"#636efa\", \"dash\": \"solid\"}, \"mode\": \"lines\", \"name\": \"dept_name=Orphan's Court\", \"showlegend\": true, \"type\": \"scatter\", \"x\": [2012, 2013, 2014, 2015, 2016, 2017, 2018, 2019], \"xaxis\": \"x\", \"y\": [-9.090909090909092, -8.333333333333332, 9.090909090909092, 10.0, -16.666666666666664, 20.0, -9.090909090909092, -0.0], \"yaxis\": \"y\"}, {\"hoverlabel\": {\"namelength\": 0}, \"hovertemplate\": \"dept_name=Planning Department<br>fiscal_year=%{x}<br>churn=%{y}\", \"legendgroup\": \"dept_name=Planning Department\", \"line\": {\"color\": \"#EF553B\", \"dash\": \"solid\"}, \"mode\": \"lines\", \"name\": \"dept_name=Planning Department\", \"showlegend\": true, \"type\": \"scatter\", \"x\": [2012, 2013, 2014, 2015, 2016, 2017, 2018, 2019], \"xaxis\": \"x\", \"y\": [4.444444444444445, -4.25531914893617, -2.083333333333333, -4.0, -1.9607843137254901, -10.526315789473683, -1.7241379310344827, 5.454545454545454], \"yaxis\": \"y\"}, {\"hoverlabel\": {\"namelength\": 0}, \"hovertemplate\": \"dept_name=Police Department<br>fiscal_year=%{x}<br>churn=%{y}\", \"legendgroup\": \"dept_name=Police Department\", \"line\": {\"color\": \"#00cc96\", \"dash\": \"solid\"}, \"mode\": \"lines\", \"name\": \"dept_name=Police Department\", \"showlegend\": true, \"type\": \"scatter\", \"x\": [2012, 2013, 2014, 2015, 2016, 2017, 2018, 2019], \"xaxis\": \"x\", \"y\": [-1.3525179856115108, 6.009762050030506, 2.086577390221115, 3.6809815950920246, 2.211221122112211, 1.6437437101643744, -0.7986688851913478, 0.4009355162044771], \"yaxis\": \"y\"}, {\"hoverlabel\": {\"namelength\": 0}, \"hovertemplate\": \"dept_name=R&P<br>fiscal_year=%{x}<br>churn=%{y}\", \"legendgroup\": \"dept_name=R&P\", \"line\": {\"color\": \"#ab63fa\", \"dash\": \"solid\"}, \"mode\": \"lines\", \"name\": \"dept_name=R&P\", \"showlegend\": true, \"type\": \"scatter\", \"x\": [2012, 2013, 2014, 2015, 2016, 2017, 2018, 2019], \"xaxis\": \"x\", \"y\": [-14.02116402116402, -13.501144164759726, -8.289611752360965, -1.3457556935817805, -6.846673095467695, -0.47984644913627633, 8.428720083246619, -11.67279411764706], \"yaxis\": \"y\"}, {\"hoverlabel\": {\"namelength\": 0}, \"hovertemplate\": \"dept_name=Sheriff's Office<br>fiscal_year=%{x}<br>churn=%{y}\", \"legendgroup\": \"dept_name=Sheriff's Office\", \"line\": {\"color\": \"#FFA15A\", \"dash\": \"solid\"}, \"mode\": \"lines\", \"name\": \"dept_name=Sheriff's Office\", \"showlegend\": true, \"type\": \"scatter\", \"x\": [2012, 2013, 2014, 2015, 2016, 2017, 2018, 2019], \"xaxis\": \"x\", \"y\": [-3.8461538461538463, -4.712041884816754, -7.281553398058252, -1.9047619047619049, 0.4784688995215311, 4.5, 0.5025125628140703, 7.567567567567568], \"yaxis\": \"y\"}, {\"hoverlabel\": {\"namelength\": 0}, \"hovertemplate\": \"dept_name=Special City Services<br>fiscal_year=%{x}<br>churn=%{y}\", \"legendgroup\": \"dept_name=Special City Services\", \"line\": {\"color\": \"#19d3f3\", \"dash\": \"solid\"}, \"mode\": \"lines\", \"name\": \"dept_name=Special City Services\", \"showlegend\": true, \"type\": \"scatter\", \"x\": [2012, 2013, 2014, 2015, 2016, 2017, 2018, 2019], \"xaxis\": \"x\", \"y\": [-0.0, -33.33333333333333, -25.0, -0.0, -0.0, -0.0, 33.33333333333333, -0.0], \"yaxis\": \"y\"}, {\"hoverlabel\": {\"namelength\": 0}, \"hovertemplate\": \"dept_name=States Attorneys Office<br>fiscal_year=%{x}<br>churn=%{y}\", \"legendgroup\": \"dept_name=States Attorneys Office\", \"line\": {\"color\": \"#FF6692\", \"dash\": \"solid\"}, \"mode\": \"lines\", \"name\": \"dept_name=States Attorneys Office\", \"showlegend\": true, \"type\": \"scatter\", \"x\": [2012, 2013, 2014, 2015, 2016, 2017, 2018, 2019], \"xaxis\": \"x\", \"y\": [3.591160220994475, -0.5494505494505495, 1.675977653631285, -0.0, -5.540897097625329, -5.486284289276807, 0.25, 1.2658227848101267], \"yaxis\": \"y\"}, {\"hoverlabel\": {\"namelength\": 0}, \"hovertemplate\": \"dept_name=TANF Cust<br>fiscal_year=%{x}<br>churn=%{y}\", \"legendgroup\": \"dept_name=TANF Cust\", \"line\": {\"color\": \"#B6E880\", \"dash\": \"solid\"}, \"mode\": \"lines\", \"name\": \"dept_name=TANF Cust\", \"showlegend\": true, \"type\": \"scatter\", \"x\": [2012], \"xaxis\": \"x\", \"y\": [-10.0], \"yaxis\": \"y\"}, {\"hoverlabel\": {\"namelength\": 0}, \"hovertemplate\": \"dept_name=TRANS<br>fiscal_year=%{x}<br>churn=%{y}\", \"legendgroup\": \"dept_name=TRANS\", \"line\": {\"color\": \"#FF97FF\", \"dash\": \"solid\"}, \"mode\": \"lines\", \"name\": \"dept_name=TRANS\", \"showlegend\": true, \"type\": \"scatter\", \"x\": [2012, 2013, 2014, 2015, 2016, 2017, 2018, 2019], \"xaxis\": \"x\", \"y\": [-2.9315960912052117, -2.601522842639594, 10.751932536893886, 4.02046783625731, 8.056872037914692, 1.6051364365971106, -2.3510971786833856, 0.949367088607595], \"yaxis\": \"y\"}, {\"hoverlabel\": {\"namelength\": 0}, \"hovertemplate\": \"dept_name=War Memorial Commission<br>fiscal_year=%{x}<br>churn=%{y}\", \"legendgroup\": \"dept_name=War Memorial Commission\", \"line\": {\"color\": \"#FECB52\", \"dash\": \"solid\"}, \"mode\": \"lines\", \"name\": \"dept_name=War Memorial Commission\", \"showlegend\": true, \"type\": \"scatter\", \"x\": [2012], \"xaxis\": \"x\", \"y\": [-0.0], \"yaxis\": \"y\"}, {\"hoverlabel\": {\"namelength\": 0}, \"hovertemplate\": \"dept_name=Youth Cust<br>fiscal_year=%{x}<br>churn=%{y}\", \"legendgroup\": \"dept_name=Youth Cust\", \"line\": {\"color\": \"#636efa\", \"dash\": \"solid\"}, \"mode\": \"lines\", \"name\": \"dept_name=Youth Cust\", \"showlegend\": true, \"type\": \"scatter\", \"x\": [2012, 2013], \"xaxis\": \"x\", \"y\": [1031.0344827586207, 383.33333333333337], \"yaxis\": \"y\"}, {\"hoverlabel\": {\"namelength\": 0}, \"hovertemplate\": \"dept_name=Youth Summer<br>fiscal_year=%{x}<br>churn=%{y}\", \"legendgroup\": \"dept_name=Youth Summer\", \"line\": {\"color\": \"#EF553B\", \"dash\": \"solid\"}, \"mode\": \"lines\", \"name\": \"dept_name=Youth Summer\", \"showlegend\": true, \"type\": \"scatter\", \"x\": [2013, 2014], \"xaxis\": \"x\", \"y\": [-62.84928027095682, -1.9306622379074112], \"yaxis\": \"y\"}, {\"hoverlabel\": {\"namelength\": 0}, \"hovertemplate\": \"dept_name=Youth Temp Adult<br>fiscal_year=%{x}<br>churn=%{y}\", \"legendgroup\": \"dept_name=Youth Temp Adult\", \"line\": {\"color\": \"#00cc96\", \"dash\": \"solid\"}, \"mode\": \"lines\", \"name\": \"dept_name=Youth Temp Adult\", \"showlegend\": true, \"type\": \"scatter\", \"x\": [2012, 2013, 2014], \"xaxis\": \"x\", \"y\": [-41.935483870967744, -53.73134328358209, -2.898550724637681], \"yaxis\": \"y\"}],\n",
       "                        {\"height\": 600, \"legend\": {\"tracegroupgap\": 0}, \"template\": {\"data\": {\"bar\": [{\"error_x\": {\"color\": \"#2a3f5f\"}, \"error_y\": {\"color\": \"#2a3f5f\"}, \"marker\": {\"line\": {\"color\": \"#E5ECF6\", \"width\": 0.5}}, \"type\": \"bar\"}], \"barpolar\": [{\"marker\": {\"line\": {\"color\": \"#E5ECF6\", \"width\": 0.5}}, \"type\": \"barpolar\"}], \"carpet\": [{\"aaxis\": {\"endlinecolor\": \"#2a3f5f\", \"gridcolor\": \"white\", \"linecolor\": \"white\", \"minorgridcolor\": \"white\", \"startlinecolor\": \"#2a3f5f\"}, \"baxis\": {\"endlinecolor\": \"#2a3f5f\", \"gridcolor\": \"white\", \"linecolor\": \"white\", \"minorgridcolor\": \"white\", \"startlinecolor\": \"#2a3f5f\"}, \"type\": \"carpet\"}], \"choropleth\": [{\"colorbar\": {\"outlinewidth\": 0, \"ticks\": \"\"}, \"type\": \"choropleth\"}], \"contour\": [{\"colorbar\": {\"outlinewidth\": 0, \"ticks\": \"\"}, \"colorscale\": [[0.0, \"#0d0887\"], [0.1111111111111111, \"#46039f\"], [0.2222222222222222, \"#7201a8\"], [0.3333333333333333, \"#9c179e\"], [0.4444444444444444, \"#bd3786\"], [0.5555555555555556, \"#d8576b\"], [0.6666666666666666, \"#ed7953\"], [0.7777777777777778, \"#fb9f3a\"], [0.8888888888888888, \"#fdca26\"], [1.0, \"#f0f921\"]], \"type\": \"contour\"}], \"contourcarpet\": [{\"colorbar\": {\"outlinewidth\": 0, \"ticks\": \"\"}, \"type\": \"contourcarpet\"}], \"heatmap\": [{\"colorbar\": {\"outlinewidth\": 0, \"ticks\": \"\"}, \"colorscale\": [[0.0, \"#0d0887\"], [0.1111111111111111, \"#46039f\"], [0.2222222222222222, \"#7201a8\"], [0.3333333333333333, \"#9c179e\"], [0.4444444444444444, \"#bd3786\"], [0.5555555555555556, \"#d8576b\"], [0.6666666666666666, \"#ed7953\"], [0.7777777777777778, \"#fb9f3a\"], [0.8888888888888888, \"#fdca26\"], [1.0, \"#f0f921\"]], \"type\": \"heatmap\"}], \"heatmapgl\": [{\"colorbar\": {\"outlinewidth\": 0, \"ticks\": \"\"}, \"colorscale\": [[0.0, \"#0d0887\"], [0.1111111111111111, \"#46039f\"], [0.2222222222222222, \"#7201a8\"], [0.3333333333333333, \"#9c179e\"], [0.4444444444444444, \"#bd3786\"], [0.5555555555555556, \"#d8576b\"], [0.6666666666666666, \"#ed7953\"], [0.7777777777777778, \"#fb9f3a\"], [0.8888888888888888, \"#fdca26\"], [1.0, \"#f0f921\"]], \"type\": \"heatmapgl\"}], \"histogram\": [{\"marker\": {\"colorbar\": {\"outlinewidth\": 0, \"ticks\": \"\"}}, \"type\": \"histogram\"}], \"histogram2d\": [{\"colorbar\": {\"outlinewidth\": 0, \"ticks\": \"\"}, \"colorscale\": [[0.0, \"#0d0887\"], [0.1111111111111111, \"#46039f\"], [0.2222222222222222, \"#7201a8\"], [0.3333333333333333, \"#9c179e\"], [0.4444444444444444, \"#bd3786\"], [0.5555555555555556, \"#d8576b\"], [0.6666666666666666, \"#ed7953\"], [0.7777777777777778, \"#fb9f3a\"], [0.8888888888888888, \"#fdca26\"], [1.0, \"#f0f921\"]], \"type\": \"histogram2d\"}], \"histogram2dcontour\": [{\"colorbar\": {\"outlinewidth\": 0, \"ticks\": \"\"}, \"colorscale\": [[0.0, \"#0d0887\"], [0.1111111111111111, \"#46039f\"], [0.2222222222222222, \"#7201a8\"], [0.3333333333333333, \"#9c179e\"], [0.4444444444444444, \"#bd3786\"], [0.5555555555555556, \"#d8576b\"], [0.6666666666666666, \"#ed7953\"], [0.7777777777777778, \"#fb9f3a\"], [0.8888888888888888, \"#fdca26\"], [1.0, \"#f0f921\"]], \"type\": \"histogram2dcontour\"}], \"mesh3d\": [{\"colorbar\": {\"outlinewidth\": 0, \"ticks\": \"\"}, \"type\": \"mesh3d\"}], \"parcoords\": [{\"line\": {\"colorbar\": {\"outlinewidth\": 0, \"ticks\": \"\"}}, \"type\": \"parcoords\"}], \"scatter\": [{\"marker\": {\"colorbar\": {\"outlinewidth\": 0, \"ticks\": \"\"}}, \"type\": \"scatter\"}], \"scatter3d\": [{\"line\": {\"colorbar\": {\"outlinewidth\": 0, \"ticks\": \"\"}}, \"marker\": {\"colorbar\": {\"outlinewidth\": 0, \"ticks\": \"\"}}, \"type\": \"scatter3d\"}], \"scattercarpet\": [{\"marker\": {\"colorbar\": {\"outlinewidth\": 0, \"ticks\": \"\"}}, \"type\": \"scattercarpet\"}], \"scattergeo\": [{\"marker\": {\"colorbar\": {\"outlinewidth\": 0, \"ticks\": \"\"}}, \"type\": \"scattergeo\"}], \"scattergl\": [{\"marker\": {\"colorbar\": {\"outlinewidth\": 0, \"ticks\": \"\"}}, \"type\": \"scattergl\"}], \"scattermapbox\": [{\"marker\": {\"colorbar\": {\"outlinewidth\": 0, \"ticks\": \"\"}}, \"type\": \"scattermapbox\"}], \"scatterpolar\": [{\"marker\": {\"colorbar\": {\"outlinewidth\": 0, \"ticks\": \"\"}}, \"type\": \"scatterpolar\"}], \"scatterpolargl\": [{\"marker\": {\"colorbar\": {\"outlinewidth\": 0, \"ticks\": \"\"}}, \"type\": \"scatterpolargl\"}], \"scatterternary\": [{\"marker\": {\"colorbar\": {\"outlinewidth\": 0, \"ticks\": \"\"}}, \"type\": \"scatterternary\"}], \"surface\": [{\"colorbar\": {\"outlinewidth\": 0, \"ticks\": \"\"}, \"colorscale\": [[0.0, \"#0d0887\"], [0.1111111111111111, \"#46039f\"], [0.2222222222222222, \"#7201a8\"], [0.3333333333333333, \"#9c179e\"], [0.4444444444444444, \"#bd3786\"], [0.5555555555555556, \"#d8576b\"], [0.6666666666666666, \"#ed7953\"], [0.7777777777777778, \"#fb9f3a\"], [0.8888888888888888, \"#fdca26\"], [1.0, \"#f0f921\"]], \"type\": \"surface\"}], \"table\": [{\"cells\": {\"fill\": {\"color\": \"#EBF0F8\"}, \"line\": {\"color\": \"white\"}}, \"header\": {\"fill\": {\"color\": \"#C8D4E3\"}, \"line\": {\"color\": \"white\"}}, \"type\": \"table\"}]}, \"layout\": {\"annotationdefaults\": {\"arrowcolor\": \"#2a3f5f\", \"arrowhead\": 0, \"arrowwidth\": 1}, \"colorscale\": {\"diverging\": [[0, \"#8e0152\"], [0.1, \"#c51b7d\"], [0.2, \"#de77ae\"], [0.3, \"#f1b6da\"], [0.4, \"#fde0ef\"], [0.5, \"#f7f7f7\"], [0.6, \"#e6f5d0\"], [0.7, \"#b8e186\"], [0.8, \"#7fbc41\"], [0.9, \"#4d9221\"], [1, \"#276419\"]], \"sequential\": [[0.0, \"#0d0887\"], [0.1111111111111111, \"#46039f\"], [0.2222222222222222, \"#7201a8\"], [0.3333333333333333, \"#9c179e\"], [0.4444444444444444, \"#bd3786\"], [0.5555555555555556, \"#d8576b\"], [0.6666666666666666, \"#ed7953\"], [0.7777777777777778, \"#fb9f3a\"], [0.8888888888888888, \"#fdca26\"], [1.0, \"#f0f921\"]], \"sequentialminus\": [[0.0, \"#0d0887\"], [0.1111111111111111, \"#46039f\"], [0.2222222222222222, \"#7201a8\"], [0.3333333333333333, \"#9c179e\"], [0.4444444444444444, \"#bd3786\"], [0.5555555555555556, \"#d8576b\"], [0.6666666666666666, \"#ed7953\"], [0.7777777777777778, \"#fb9f3a\"], [0.8888888888888888, \"#fdca26\"], [1.0, \"#f0f921\"]]}, \"colorway\": [\"#636efa\", \"#EF553B\", \"#00cc96\", \"#ab63fa\", \"#FFA15A\", \"#19d3f3\", \"#FF6692\", \"#B6E880\", \"#FF97FF\", \"#FECB52\"], \"font\": {\"color\": \"#2a3f5f\"}, \"geo\": {\"bgcolor\": \"white\", \"lakecolor\": \"white\", \"landcolor\": \"#E5ECF6\", \"showlakes\": true, \"showland\": true, \"subunitcolor\": \"white\"}, \"hoverlabel\": {\"align\": \"left\"}, \"hovermode\": \"closest\", \"mapbox\": {\"style\": \"light\"}, \"paper_bgcolor\": \"white\", \"plot_bgcolor\": \"#E5ECF6\", \"polar\": {\"angularaxis\": {\"gridcolor\": \"white\", \"linecolor\": \"white\", \"ticks\": \"\"}, \"bgcolor\": \"#E5ECF6\", \"radialaxis\": {\"gridcolor\": \"white\", \"linecolor\": \"white\", \"ticks\": \"\"}}, \"scene\": {\"xaxis\": {\"backgroundcolor\": \"#E5ECF6\", \"gridcolor\": \"white\", \"gridwidth\": 2, \"linecolor\": \"white\", \"showbackground\": true, \"ticks\": \"\", \"zerolinecolor\": \"white\"}, \"yaxis\": {\"backgroundcolor\": \"#E5ECF6\", \"gridcolor\": \"white\", \"gridwidth\": 2, \"linecolor\": \"white\", \"showbackground\": true, \"ticks\": \"\", \"zerolinecolor\": \"white\"}, \"zaxis\": {\"backgroundcolor\": \"#E5ECF6\", \"gridcolor\": \"white\", \"gridwidth\": 2, \"linecolor\": \"white\", \"showbackground\": true, \"ticks\": \"\", \"zerolinecolor\": \"white\"}}, \"shapedefaults\": {\"line\": {\"color\": \"#2a3f5f\"}}, \"ternary\": {\"aaxis\": {\"gridcolor\": \"white\", \"linecolor\": \"white\", \"ticks\": \"\"}, \"baxis\": {\"gridcolor\": \"white\", \"linecolor\": \"white\", \"ticks\": \"\"}, \"bgcolor\": \"#E5ECF6\", \"caxis\": {\"gridcolor\": \"white\", \"linecolor\": \"white\", \"ticks\": \"\"}}, \"title\": {\"x\": 0.05}, \"xaxis\": {\"automargin\": true, \"gridcolor\": \"white\", \"linecolor\": \"white\", \"ticks\": \"\", \"zerolinecolor\": \"white\", \"zerolinewidth\": 2}, \"yaxis\": {\"automargin\": true, \"gridcolor\": \"white\", \"linecolor\": \"white\", \"ticks\": \"\", \"zerolinecolor\": \"white\", \"zerolinewidth\": 2}}}, \"title\": {\"text\": \"Baltimore City Employee Churn By Department\"}, \"xaxis\": {\"anchor\": \"y\", \"domain\": [0.0, 0.98], \"title\": {\"text\": \"fiscal_year\"}}, \"yaxis\": {\"anchor\": \"x\", \"domain\": [0.0, 1.0], \"title\": {\"text\": \"churn\"}}},\n",
       "                        {\"responsive\": true}\n",
       "                    ).then(function(){\n",
       "                            \n",
       "var gd = document.getElementById('2c6a0752-3fc0-47b1-a47b-ffd1bb05cf61');\n",
       "var x = new MutationObserver(function (mutations, observer) {{\n",
       "        var display = window.getComputedStyle(gd).display;\n",
       "        if (!display || display === 'none') {{\n",
       "            console.log([gd, 'removed!']);\n",
       "            Plotly.purge(gd);\n",
       "            observer.disconnect();\n",
       "        }}\n",
       "}});\n",
       "\n",
       "// Listen for the removal of the full notebook cells\n",
       "var notebookContainer = gd.closest('#notebook-container');\n",
       "if (notebookContainer) {{\n",
       "    x.observe(notebookContainer, {childList: true});\n",
       "}}\n",
       "\n",
       "// Listen for the clearing of the current output cell\n",
       "var outputEl = gd.closest('.output');\n",
       "if (outputEl) {{\n",
       "    x.observe(outputEl, {childList: true});\n",
       "}}\n",
       "\n",
       "                        })\n",
       "                };\n",
       "                });\n",
       "            </script>\n",
       "        </div>"
      ]
     },
     "metadata": {},
     "output_type": "display_data"
    }
   ],
   "source": [
    "line_dept_churn"
   ]
  },
  {
   "cell_type": "markdown",
   "metadata": {},
   "source": [
    "Each __employee_name__ is a unique identifier for the employee, so we'll use this to restructure the data and build out columns for their salary during each fiscal year. This will help us determine the number of employees lost and gained each fiscal year and how each employee's salary changed over each fiscal year. "
   ]
  },
  {
   "cell_type": "code",
   "execution_count": 12,
   "metadata": {},
   "outputs": [],
   "source": [
    "# make pivot table with employee data to keep\n",
    "## gross salary of each employee\n",
    "## separated in columns for each fiscal year\n",
    "\n",
    "df_employee = pd.pivot_table(df, values = \"gross\", \n",
    "                             index = \"employee_name\", \n",
    "                             columns = \"fiscal_year\", \n",
    "                             aggfunc = np.sum).reset_index()"
   ]
  },
  {
   "cell_type": "code",
   "execution_count": 15,
   "metadata": {},
   "outputs": [
    {
     "data": {
      "text/html": [
       "<div>\n",
       "<style scoped>\n",
       "    .dataframe tbody tr th:only-of-type {\n",
       "        vertical-align: middle;\n",
       "    }\n",
       "\n",
       "    .dataframe tbody tr th {\n",
       "        vertical-align: top;\n",
       "    }\n",
       "\n",
       "    .dataframe thead th {\n",
       "        text-align: right;\n",
       "    }\n",
       "</style>\n",
       "<table border=\"1\" class=\"dataframe\">\n",
       "  <thead>\n",
       "    <tr style=\"text-align: right;\">\n",
       "      <th>fiscal_year</th>\n",
       "      <th>employee_name</th>\n",
       "      <th>2011</th>\n",
       "      <th>2012</th>\n",
       "      <th>2013</th>\n",
       "      <th>2014</th>\n",
       "      <th>2015</th>\n",
       "      <th>2016</th>\n",
       "      <th>2017</th>\n",
       "      <th>2018</th>\n",
       "      <th>2019</th>\n",
       "    </tr>\n",
       "  </thead>\n",
       "  <tbody>\n",
       "    <tr>\n",
       "      <th>0</th>\n",
       "      <td>AKROFI,BERNARD</td>\n",
       "      <td>NaN</td>\n",
       "      <td>NaN</td>\n",
       "      <td>14387.30</td>\n",
       "      <td>NaN</td>\n",
       "      <td>NaN</td>\n",
       "      <td>NaN</td>\n",
       "      <td>NaN</td>\n",
       "      <td>NaN</td>\n",
       "      <td>NaN</td>\n",
       "    </tr>\n",
       "    <tr>\n",
       "      <th>1</th>\n",
       "      <td>Aaron,Kareem D</td>\n",
       "      <td>NaN</td>\n",
       "      <td>NaN</td>\n",
       "      <td>NaN</td>\n",
       "      <td>NaN</td>\n",
       "      <td>NaN</td>\n",
       "      <td>NaN</td>\n",
       "      <td>NaN</td>\n",
       "      <td>NaN</td>\n",
       "      <td>25743.94</td>\n",
       "    </tr>\n",
       "    <tr>\n",
       "      <th>2</th>\n",
       "      <td>Aaron,Keairah T</td>\n",
       "      <td>NaN</td>\n",
       "      <td>NaN</td>\n",
       "      <td>0.00</td>\n",
       "      <td>NaN</td>\n",
       "      <td>NaN</td>\n",
       "      <td>NaN</td>\n",
       "      <td>NaN</td>\n",
       "      <td>NaN</td>\n",
       "      <td>NaN</td>\n",
       "    </tr>\n",
       "    <tr>\n",
       "      <th>3</th>\n",
       "      <td>Aaron,Keontae E</td>\n",
       "      <td>NaN</td>\n",
       "      <td>NaN</td>\n",
       "      <td>0.00</td>\n",
       "      <td>873.63</td>\n",
       "      <td>NaN</td>\n",
       "      <td>NaN</td>\n",
       "      <td>NaN</td>\n",
       "      <td>NaN</td>\n",
       "      <td>NaN</td>\n",
       "    </tr>\n",
       "    <tr>\n",
       "      <th>4</th>\n",
       "      <td>Aaron,Patricia G</td>\n",
       "      <td>45505.94</td>\n",
       "      <td>52247.39</td>\n",
       "      <td>51771.01</td>\n",
       "      <td>52868.38</td>\n",
       "      <td>53626.04</td>\n",
       "      <td>54135.44</td>\n",
       "      <td>54992.37</td>\n",
       "      <td>58480.46</td>\n",
       "      <td>57806.13</td>\n",
       "    </tr>\n",
       "    <tr>\n",
       "      <th>5</th>\n",
       "      <td>Aaron,Petra L</td>\n",
       "      <td>51588.89</td>\n",
       "      <td>59026.81</td>\n",
       "      <td>63909.03</td>\n",
       "      <td>67439.19</td>\n",
       "      <td>73000.08</td>\n",
       "      <td>72445.87</td>\n",
       "      <td>76951.93</td>\n",
       "      <td>79220.72</td>\n",
       "      <td>NaN</td>\n",
       "    </tr>\n",
       "    <tr>\n",
       "      <th>6</th>\n",
       "      <td>Abadir,Adam O</td>\n",
       "      <td>NaN</td>\n",
       "      <td>NaN</td>\n",
       "      <td>NaN</td>\n",
       "      <td>NaN</td>\n",
       "      <td>NaN</td>\n",
       "      <td>NaN</td>\n",
       "      <td>27736.14</td>\n",
       "      <td>57375.31</td>\n",
       "      <td>64774.11</td>\n",
       "    </tr>\n",
       "    <tr>\n",
       "      <th>7</th>\n",
       "      <td>Abaineh,Yohannes T</td>\n",
       "      <td>50633.26</td>\n",
       "      <td>57129.79</td>\n",
       "      <td>57428.85</td>\n",
       "      <td>58654.74</td>\n",
       "      <td>64403.84</td>\n",
       "      <td>NaN</td>\n",
       "      <td>NaN</td>\n",
       "      <td>NaN</td>\n",
       "      <td>NaN</td>\n",
       "    </tr>\n",
       "    <tr>\n",
       "      <th>8</th>\n",
       "      <td>Abaku,Aigbolosimuan O</td>\n",
       "      <td>NaN</td>\n",
       "      <td>NaN</td>\n",
       "      <td>NaN</td>\n",
       "      <td>NaN</td>\n",
       "      <td>NaN</td>\n",
       "      <td>NaN</td>\n",
       "      <td>NaN</td>\n",
       "      <td>11881.34</td>\n",
       "      <td>59361.55</td>\n",
       "    </tr>\n",
       "    <tr>\n",
       "      <th>9</th>\n",
       "      <td>Abbeduto,Mack</td>\n",
       "      <td>NaN</td>\n",
       "      <td>NaN</td>\n",
       "      <td>NaN</td>\n",
       "      <td>NaN</td>\n",
       "      <td>NaN</td>\n",
       "      <td>NaN</td>\n",
       "      <td>2821.60</td>\n",
       "      <td>35138.40</td>\n",
       "      <td>61693.59</td>\n",
       "    </tr>\n",
       "    <tr>\n",
       "      <th>10</th>\n",
       "      <td>Abbene,Anthony M</td>\n",
       "      <td>NaN</td>\n",
       "      <td>NaN</td>\n",
       "      <td>NaN</td>\n",
       "      <td>39686.95</td>\n",
       "      <td>59620.16</td>\n",
       "      <td>NaN</td>\n",
       "      <td>NaN</td>\n",
       "      <td>NaN</td>\n",
       "      <td>NaN</td>\n",
       "    </tr>\n",
       "    <tr>\n",
       "      <th>11</th>\n",
       "      <td>Abbey,Emmanuel</td>\n",
       "      <td>NaN</td>\n",
       "      <td>NaN</td>\n",
       "      <td>3477.00</td>\n",
       "      <td>47019.75</td>\n",
       "      <td>54059.60</td>\n",
       "      <td>59602.58</td>\n",
       "      <td>NaN</td>\n",
       "      <td>NaN</td>\n",
       "      <td>NaN</td>\n",
       "    </tr>\n",
       "    <tr>\n",
       "      <th>12</th>\n",
       "      <td>Abbott,Ethan N</td>\n",
       "      <td>NaN</td>\n",
       "      <td>NaN</td>\n",
       "      <td>NaN</td>\n",
       "      <td>NaN</td>\n",
       "      <td>NaN</td>\n",
       "      <td>NaN</td>\n",
       "      <td>NaN</td>\n",
       "      <td>4642.72</td>\n",
       "      <td>26156.48</td>\n",
       "    </tr>\n",
       "    <tr>\n",
       "      <th>13</th>\n",
       "      <td>Abbott-Cole,Michelle</td>\n",
       "      <td>NaN</td>\n",
       "      <td>NaN</td>\n",
       "      <td>NaN</td>\n",
       "      <td>NaN</td>\n",
       "      <td>20250.80</td>\n",
       "      <td>59517.21</td>\n",
       "      <td>71745.19</td>\n",
       "      <td>75011.45</td>\n",
       "      <td>75529.99</td>\n",
       "    </tr>\n",
       "    <tr>\n",
       "      <th>14</th>\n",
       "      <td>Abdal-Rahim,Naim A</td>\n",
       "      <td>3888.95</td>\n",
       "      <td>35537.88</td>\n",
       "      <td>44159.59</td>\n",
       "      <td>61451.50</td>\n",
       "      <td>83757.48</td>\n",
       "      <td>74770.82</td>\n",
       "      <td>82364.33</td>\n",
       "      <td>79114.46</td>\n",
       "      <td>82132.61</td>\n",
       "    </tr>\n",
       "    <tr>\n",
       "      <th>15</th>\n",
       "      <td>Abdelmeguid,Shahrazad</td>\n",
       "      <td>NaN</td>\n",
       "      <td>NaN</td>\n",
       "      <td>NaN</td>\n",
       "      <td>NaN</td>\n",
       "      <td>NaN</td>\n",
       "      <td>16283.26</td>\n",
       "      <td>28465.60</td>\n",
       "      <td>NaN</td>\n",
       "      <td>NaN</td>\n",
       "    </tr>\n",
       "    <tr>\n",
       "      <th>16</th>\n",
       "      <td>Abdi,Ezekiel W</td>\n",
       "      <td>51421.73</td>\n",
       "      <td>62669.25</td>\n",
       "      <td>66496.24</td>\n",
       "      <td>87900.27</td>\n",
       "      <td>92574.91</td>\n",
       "      <td>106863.56</td>\n",
       "      <td>105836.60</td>\n",
       "      <td>112341.17</td>\n",
       "      <td>122992.10</td>\n",
       "    </tr>\n",
       "    <tr>\n",
       "      <th>17</th>\n",
       "      <td>Abdul Adl,Attrice A</td>\n",
       "      <td>NaN</td>\n",
       "      <td>46699.58</td>\n",
       "      <td>46254.02</td>\n",
       "      <td>53667.53</td>\n",
       "      <td>55943.29</td>\n",
       "      <td>59418.35</td>\n",
       "      <td>59045.33</td>\n",
       "      <td>62065.45</td>\n",
       "      <td>58459.78</td>\n",
       "    </tr>\n",
       "    <tr>\n",
       "      <th>18</th>\n",
       "      <td>Abdul Aziz,Hajr E</td>\n",
       "      <td>NaN</td>\n",
       "      <td>NaN</td>\n",
       "      <td>NaN</td>\n",
       "      <td>0.00</td>\n",
       "      <td>1051.25</td>\n",
       "      <td>5909.64</td>\n",
       "      <td>7233.42</td>\n",
       "      <td>13003.20</td>\n",
       "      <td>15807.64</td>\n",
       "    </tr>\n",
       "    <tr>\n",
       "      <th>19</th>\n",
       "      <td>Abdul Aziz,Jennah A</td>\n",
       "      <td>NaN</td>\n",
       "      <td>NaN</td>\n",
       "      <td>NaN</td>\n",
       "      <td>0.00</td>\n",
       "      <td>1051.25</td>\n",
       "      <td>3230.27</td>\n",
       "      <td>5252.00</td>\n",
       "      <td>NaN</td>\n",
       "      <td>NaN</td>\n",
       "    </tr>\n",
       "  </tbody>\n",
       "</table>\n",
       "</div>"
      ],
      "text/plain": [
       "fiscal_year          employee_name      2011      2012      2013      2014  \\\n",
       "0                   AKROFI,BERNARD       NaN       NaN  14387.30       NaN   \n",
       "1                   Aaron,Kareem D       NaN       NaN       NaN       NaN   \n",
       "2                  Aaron,Keairah T       NaN       NaN      0.00       NaN   \n",
       "3                  Aaron,Keontae E       NaN       NaN      0.00    873.63   \n",
       "4                 Aaron,Patricia G  45505.94  52247.39  51771.01  52868.38   \n",
       "5                    Aaron,Petra L  51588.89  59026.81  63909.03  67439.19   \n",
       "6                    Abadir,Adam O       NaN       NaN       NaN       NaN   \n",
       "7               Abaineh,Yohannes T  50633.26  57129.79  57428.85  58654.74   \n",
       "8            Abaku,Aigbolosimuan O       NaN       NaN       NaN       NaN   \n",
       "9                    Abbeduto,Mack       NaN       NaN       NaN       NaN   \n",
       "10                Abbene,Anthony M       NaN       NaN       NaN  39686.95   \n",
       "11                  Abbey,Emmanuel       NaN       NaN   3477.00  47019.75   \n",
       "12                  Abbott,Ethan N       NaN       NaN       NaN       NaN   \n",
       "13            Abbott-Cole,Michelle       NaN       NaN       NaN       NaN   \n",
       "14              Abdal-Rahim,Naim A   3888.95  35537.88  44159.59  61451.50   \n",
       "15           Abdelmeguid,Shahrazad       NaN       NaN       NaN       NaN   \n",
       "16                  Abdi,Ezekiel W  51421.73  62669.25  66496.24  87900.27   \n",
       "17             Abdul Adl,Attrice A       NaN  46699.58  46254.02  53667.53   \n",
       "18               Abdul Aziz,Hajr E       NaN       NaN       NaN      0.00   \n",
       "19             Abdul Aziz,Jennah A       NaN       NaN       NaN      0.00   \n",
       "\n",
       "fiscal_year      2015       2016       2017       2018       2019  \n",
       "0                 NaN        NaN        NaN        NaN        NaN  \n",
       "1                 NaN        NaN        NaN        NaN   25743.94  \n",
       "2                 NaN        NaN        NaN        NaN        NaN  \n",
       "3                 NaN        NaN        NaN        NaN        NaN  \n",
       "4            53626.04   54135.44   54992.37   58480.46   57806.13  \n",
       "5            73000.08   72445.87   76951.93   79220.72        NaN  \n",
       "6                 NaN        NaN   27736.14   57375.31   64774.11  \n",
       "7            64403.84        NaN        NaN        NaN        NaN  \n",
       "8                 NaN        NaN        NaN   11881.34   59361.55  \n",
       "9                 NaN        NaN    2821.60   35138.40   61693.59  \n",
       "10           59620.16        NaN        NaN        NaN        NaN  \n",
       "11           54059.60   59602.58        NaN        NaN        NaN  \n",
       "12                NaN        NaN        NaN    4642.72   26156.48  \n",
       "13           20250.80   59517.21   71745.19   75011.45   75529.99  \n",
       "14           83757.48   74770.82   82364.33   79114.46   82132.61  \n",
       "15                NaN   16283.26   28465.60        NaN        NaN  \n",
       "16           92574.91  106863.56  105836.60  112341.17  122992.10  \n",
       "17           55943.29   59418.35   59045.33   62065.45   58459.78  \n",
       "18            1051.25    5909.64    7233.42   13003.20   15807.64  \n",
       "19            1051.25    3230.27    5252.00        NaN        NaN  "
      ]
     },
     "execution_count": 15,
     "metadata": {},
     "output_type": "execute_result"
    }
   ],
   "source": [
    "df_employee.head(20)"
   ]
  },
  {
   "cell_type": "code",
   "execution_count": 14,
   "metadata": {},
   "outputs": [
    {
     "data": {
      "text/html": [
       "<div>\n",
       "<style scoped>\n",
       "    .dataframe tbody tr th:only-of-type {\n",
       "        vertical-align: middle;\n",
       "    }\n",
       "\n",
       "    .dataframe tbody tr th {\n",
       "        vertical-align: top;\n",
       "    }\n",
       "\n",
       "    .dataframe thead th {\n",
       "        text-align: right;\n",
       "    }\n",
       "</style>\n",
       "<table border=\"1\" class=\"dataframe\">\n",
       "  <thead>\n",
       "    <tr style=\"text-align: right;\">\n",
       "      <th>fiscal_year</th>\n",
       "      <th>2011</th>\n",
       "      <th>2012</th>\n",
       "      <th>2013</th>\n",
       "      <th>2014</th>\n",
       "      <th>2015</th>\n",
       "      <th>2016</th>\n",
       "      <th>2017</th>\n",
       "      <th>2018</th>\n",
       "      <th>2019</th>\n",
       "    </tr>\n",
       "  </thead>\n",
       "  <tbody>\n",
       "    <tr>\n",
       "      <th>count</th>\n",
       "      <td>14402.000000</td>\n",
       "      <td>15999.000000</td>\n",
       "      <td>18842.000000</td>\n",
       "      <td>18788.000000</td>\n",
       "      <td>13864.000000</td>\n",
       "      <td>13669.000000</td>\n",
       "      <td>13439.000000</td>\n",
       "      <td>13472.000000</td>\n",
       "      <td>13626.000000</td>\n",
       "    </tr>\n",
       "    <tr>\n",
       "      <th>mean</th>\n",
       "      <td>42474.834984</td>\n",
       "      <td>43307.243956</td>\n",
       "      <td>37433.712846</td>\n",
       "      <td>38278.438664</td>\n",
       "      <td>55318.724987</td>\n",
       "      <td>55823.952081</td>\n",
       "      <td>55632.938317</td>\n",
       "      <td>60954.702997</td>\n",
       "      <td>60161.151845</td>\n",
       "    </tr>\n",
       "    <tr>\n",
       "      <th>std</th>\n",
       "      <td>22838.054881</td>\n",
       "      <td>28477.022073</td>\n",
       "      <td>31849.706572</td>\n",
       "      <td>33392.758684</td>\n",
       "      <td>32685.575371</td>\n",
       "      <td>34034.213288</td>\n",
       "      <td>35232.597458</td>\n",
       "      <td>36349.131741</td>\n",
       "      <td>38170.843565</td>\n",
       "    </tr>\n",
       "    <tr>\n",
       "      <th>min</th>\n",
       "      <td>7.250000</td>\n",
       "      <td>-77.000000</td>\n",
       "      <td>0.000000</td>\n",
       "      <td>0.000000</td>\n",
       "      <td>0.000000</td>\n",
       "      <td>0.000000</td>\n",
       "      <td>0.000000</td>\n",
       "      <td>0.000000</td>\n",
       "      <td>0.000000</td>\n",
       "    </tr>\n",
       "    <tr>\n",
       "      <th>25%</th>\n",
       "      <td>27640.110000</td>\n",
       "      <td>23879.795000</td>\n",
       "      <td>1051.250000</td>\n",
       "      <td>1051.250000</td>\n",
       "      <td>34198.892500</td>\n",
       "      <td>33813.240000</td>\n",
       "      <td>32787.380000</td>\n",
       "      <td>37613.757500</td>\n",
       "      <td>35900.097500</td>\n",
       "    </tr>\n",
       "    <tr>\n",
       "      <th>50%</th>\n",
       "      <td>41192.665000</td>\n",
       "      <td>43231.220000</td>\n",
       "      <td>36766.495000</td>\n",
       "      <td>37146.290000</td>\n",
       "      <td>52433.660000</td>\n",
       "      <td>52647.530000</td>\n",
       "      <td>52395.230000</td>\n",
       "      <td>57191.220000</td>\n",
       "      <td>56529.805000</td>\n",
       "    </tr>\n",
       "    <tr>\n",
       "      <th>75%</th>\n",
       "      <td>58492.937500</td>\n",
       "      <td>63662.995000</td>\n",
       "      <td>61864.122500</td>\n",
       "      <td>63611.717500</td>\n",
       "      <td>75735.910000</td>\n",
       "      <td>75868.510000</td>\n",
       "      <td>78328.960000</td>\n",
       "      <td>81999.345000</td>\n",
       "      <td>82675.877500</td>\n",
       "    </tr>\n",
       "    <tr>\n",
       "      <th>max</th>\n",
       "      <td>170422.990000</td>\n",
       "      <td>245353.440000</td>\n",
       "      <td>238681.040000</td>\n",
       "      <td>238772.040000</td>\n",
       "      <td>235767.920000</td>\n",
       "      <td>238295.960000</td>\n",
       "      <td>244913.700000</td>\n",
       "      <td>250197.500000</td>\n",
       "      <td>260775.260000</td>\n",
       "    </tr>\n",
       "  </tbody>\n",
       "</table>\n",
       "</div>"
      ],
      "text/plain": [
       "fiscal_year           2011           2012           2013           2014  \\\n",
       "count         14402.000000   15999.000000   18842.000000   18788.000000   \n",
       "mean          42474.834984   43307.243956   37433.712846   38278.438664   \n",
       "std           22838.054881   28477.022073   31849.706572   33392.758684   \n",
       "min               7.250000     -77.000000       0.000000       0.000000   \n",
       "25%           27640.110000   23879.795000    1051.250000    1051.250000   \n",
       "50%           41192.665000   43231.220000   36766.495000   37146.290000   \n",
       "75%           58492.937500   63662.995000   61864.122500   63611.717500   \n",
       "max          170422.990000  245353.440000  238681.040000  238772.040000   \n",
       "\n",
       "fiscal_year           2015           2016           2017           2018  \\\n",
       "count         13864.000000   13669.000000   13439.000000   13472.000000   \n",
       "mean          55318.724987   55823.952081   55632.938317   60954.702997   \n",
       "std           32685.575371   34034.213288   35232.597458   36349.131741   \n",
       "min               0.000000       0.000000       0.000000       0.000000   \n",
       "25%           34198.892500   33813.240000   32787.380000   37613.757500   \n",
       "50%           52433.660000   52647.530000   52395.230000   57191.220000   \n",
       "75%           75735.910000   75868.510000   78328.960000   81999.345000   \n",
       "max          235767.920000  238295.960000  244913.700000  250197.500000   \n",
       "\n",
       "fiscal_year           2019  \n",
       "count         13626.000000  \n",
       "mean          60161.151845  \n",
       "std           38170.843565  \n",
       "min               0.000000  \n",
       "25%           35900.097500  \n",
       "50%           56529.805000  \n",
       "75%           82675.877500  \n",
       "max          260775.260000  "
      ]
     },
     "execution_count": 14,
     "metadata": {},
     "output_type": "execute_result"
    }
   ],
   "source": [
    "df_employee.describe()"
   ]
  },
  {
   "cell_type": "code",
   "execution_count": null,
   "metadata": {},
   "outputs": [],
   "source": []
  },
  {
   "cell_type": "code",
   "execution_count": null,
   "metadata": {},
   "outputs": [],
   "source": []
  },
  {
   "cell_type": "code",
   "execution_count": null,
   "metadata": {},
   "outputs": [],
   "source": []
  },
  {
   "cell_type": "code",
   "execution_count": null,
   "metadata": {},
   "outputs": [],
   "source": []
  },
  {
   "cell_type": "markdown",
   "metadata": {},
   "source": [
    "## vizualize "
   ]
  },
  {
   "cell_type": "code",
   "execution_count": null,
   "metadata": {},
   "outputs": [],
   "source": []
  },
  {
   "cell_type": "code",
   "execution_count": null,
   "metadata": {},
   "outputs": [],
   "source": []
  },
  {
   "cell_type": "code",
   "execution_count": null,
   "metadata": {},
   "outputs": [],
   "source": []
  }
 ],
 "metadata": {
  "kernelspec": {
   "display_name": "Python 3",
   "language": "python",
   "name": "python3"
  },
  "language_info": {
   "codemirror_mode": {
    "name": "ipython",
    "version": 3
   },
   "file_extension": ".py",
   "mimetype": "text/x-python",
   "name": "python",
   "nbconvert_exporter": "python",
   "pygments_lexer": "ipython3",
   "version": "3.6.6"
  }
 },
 "nbformat": 4,
 "nbformat_minor": 2
}
